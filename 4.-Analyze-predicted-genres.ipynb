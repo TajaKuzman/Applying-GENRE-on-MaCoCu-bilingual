{
 "cells": [
  {
   "cell_type": "code",
   "execution_count": 1,
   "metadata": {},
   "outputs": [],
   "source": [
    "import pandas as pd"
   ]
  },
  {
   "cell_type": "code",
   "execution_count": 3,
   "metadata": {},
   "outputs": [
    {
     "data": {
      "text/html": [
       "<div>\n",
       "<style scoped>\n",
       "    .dataframe tbody tr th:only-of-type {\n",
       "        vertical-align: middle;\n",
       "    }\n",
       "\n",
       "    .dataframe tbody tr th {\n",
       "        vertical-align: top;\n",
       "    }\n",
       "\n",
       "    .dataframe thead th {\n",
       "        text-align: right;\n",
       "    }\n",
       "</style>\n",
       "<table border=\"1\" class=\"dataframe\">\n",
       "  <thead>\n",
       "    <tr style=\"text-align: right;\">\n",
       "      <th></th>\n",
       "      <th>biroamer_entities</th>\n",
       "      <th>translation_direction</th>\n",
       "      <th>en_source</th>\n",
       "      <th>en_var_doc</th>\n",
       "      <th>en_var_dom</th>\n",
       "      <th>sl_source</th>\n",
       "      <th>en_domain</th>\n",
       "      <th>sl_domain</th>\n",
       "      <th>average_score</th>\n",
       "      <th>en_doc</th>\n",
       "      <th>sl_doc</th>\n",
       "      <th>en_length</th>\n",
       "      <th>sl_length</th>\n",
       "      <th>punct_ratio</th>\n",
       "      <th>X-GENRE</th>\n",
       "      <th>label_distribution</th>\n",
       "    </tr>\n",
       "  </thead>\n",
       "  <tbody>\n",
       "    <tr>\n",
       "      <th>2584979</th>\n",
       "      <td>No</td>\n",
       "      <td>sl-orig</td>\n",
       "      <td>http://15.liffe.si/?lang_chg=en</td>\n",
       "      <td>B</td>\n",
       "      <td>B</td>\n",
       "      <td>http://15.liffe.si/?lang_chg=sl</td>\n",
       "      <td>15.liffe.si</td>\n",
       "      <td>15.liffe.si</td>\n",
       "      <td>0.936808</td>\n",
       "      <td>It went out with a bang. The evening sparkled ...</td>\n",
       "      <td>Končalo se je razburljivo in z razkošjem. Veče...</td>\n",
       "      <td>574</td>\n",
       "      <td>463</td>\n",
       "      <td>0.103501</td>\n",
       "      <td>Opinion/Argumentation</td>\n",
       "      <td>0.988794</td>\n",
       "    </tr>\n",
       "    <tr>\n",
       "      <th>1212933</th>\n",
       "      <td>No</td>\n",
       "      <td>sl-orig</td>\n",
       "      <td>http://16.liffe.si/?lang_chg=en</td>\n",
       "      <td>B</td>\n",
       "      <td>B</td>\n",
       "      <td>http://16.liffe.si/index.php?menu_item=domov</td>\n",
       "      <td>16.liffe.si</td>\n",
       "      <td>16.liffe.si</td>\n",
       "      <td>0.900000</td>\n",
       "      <td>Some days ago the organisers of the 17th Liffe...</td>\n",
       "      <td>Pred dnevi smo se iz 59. mednarodnega filmskeg...</td>\n",
       "      <td>293</td>\n",
       "      <td>184</td>\n",
       "      <td>0.076220</td>\n",
       "      <td>News</td>\n",
       "      <td>0.961600</td>\n",
       "    </tr>\n",
       "    <tr>\n",
       "      <th>598330</th>\n",
       "      <td>Yes</td>\n",
       "      <td>sl-orig</td>\n",
       "      <td>http://17.liffe.si/?lang_chg=en</td>\n",
       "      <td>B</td>\n",
       "      <td>B</td>\n",
       "      <td>http://17.liffe.si/?lang_chg=sl</td>\n",
       "      <td>17.liffe.si</td>\n",
       "      <td>17.liffe.si</td>\n",
       "      <td>0.957875</td>\n",
       "      <td>17th LIFFe was brought to an end with the best...</td>\n",
       "      <td>S podelitvijo nagrad in predvajanjem Režiserja...</td>\n",
       "      <td>445</td>\n",
       "      <td>418</td>\n",
       "      <td>0.073930</td>\n",
       "      <td>News</td>\n",
       "      <td>0.997264</td>\n",
       "    </tr>\n",
       "  </tbody>\n",
       "</table>\n",
       "</div>"
      ],
      "text/plain": [
       "        biroamer_entities translation_direction  \\\n",
       "2584979                No               sl-orig   \n",
       "1212933                No               sl-orig   \n",
       "598330                Yes               sl-orig   \n",
       "\n",
       "                               en_source en_var_doc en_var_dom  \\\n",
       "2584979  http://15.liffe.si/?lang_chg=en          B          B   \n",
       "1212933  http://16.liffe.si/?lang_chg=en          B          B   \n",
       "598330   http://17.liffe.si/?lang_chg=en          B          B   \n",
       "\n",
       "                                            sl_source    en_domain  \\\n",
       "2584979               http://15.liffe.si/?lang_chg=sl  15.liffe.si   \n",
       "1212933  http://16.liffe.si/index.php?menu_item=domov  16.liffe.si   \n",
       "598330                http://17.liffe.si/?lang_chg=sl  17.liffe.si   \n",
       "\n",
       "           sl_domain  average_score  \\\n",
       "2584979  15.liffe.si       0.936808   \n",
       "1212933  16.liffe.si       0.900000   \n",
       "598330   17.liffe.si       0.957875   \n",
       "\n",
       "                                                    en_doc  \\\n",
       "2584979  It went out with a bang. The evening sparkled ...   \n",
       "1212933  Some days ago the organisers of the 17th Liffe...   \n",
       "598330   17th LIFFe was brought to an end with the best...   \n",
       "\n",
       "                                                    sl_doc  en_length  \\\n",
       "2584979  Končalo se je razburljivo in z razkošjem. Veče...        574   \n",
       "1212933  Pred dnevi smo se iz 59. mednarodnega filmskeg...        293   \n",
       "598330   S podelitvijo nagrad in predvajanjem Režiserja...        445   \n",
       "\n",
       "         sl_length  punct_ratio                X-GENRE  label_distribution  \n",
       "2584979        463     0.103501  Opinion/Argumentation            0.988794  \n",
       "1212933        184     0.076220                   News            0.961600  \n",
       "598330         418     0.073930                   News            0.997264  "
      ]
     },
     "execution_count": 3,
     "metadata": {},
     "output_type": "execute_result"
    }
   ],
   "source": [
    "corpus = pd.read_csv(\"Macocu-sl-en-predicted.csv\", sep = \"\\t\", index_col = 0)\n",
    "corpus.head(3)"
   ]
  },
  {
   "cell_type": "code",
   "execution_count": 4,
   "metadata": {},
   "outputs": [
    {
     "data": {
      "text/plain": [
       "Information/Explanation    0.317935\n",
       "Promotion                  0.308270\n",
       "News                       0.133635\n",
       "Instruction                0.106535\n",
       "Legal                      0.057619\n",
       "Opinion/Argumentation      0.047767\n",
       "Other                      0.021551\n",
       "Forum                      0.003978\n",
       "Prose/Lyrical              0.002711\n",
       "Name: X-GENRE, dtype: float64"
      ]
     },
     "execution_count": 4,
     "metadata": {},
     "output_type": "execute_result"
    }
   ],
   "source": [
    "corpus[\"X-GENRE\"].value_counts(normalize = True)"
   ]
  }
 ],
 "metadata": {
  "kernelspec": {
   "display_name": "Python 3.9.7 ('base')",
   "language": "python",
   "name": "python3"
  },
  "language_info": {
   "codemirror_mode": {
    "name": "ipython",
    "version": 3
   },
   "file_extension": ".py",
   "mimetype": "text/x-python",
   "name": "python",
   "nbconvert_exporter": "python",
   "pygments_lexer": "ipython3",
   "version": "3.9.7"
  },
  "orig_nbformat": 4,
  "vscode": {
   "interpreter": {
    "hash": "7e373e41fe05b496006fe2fc132d7af19f1d513370c44925a0044a5f3ee41336"
   }
  }
 },
 "nbformat": 4,
 "nbformat_minor": 2
}
