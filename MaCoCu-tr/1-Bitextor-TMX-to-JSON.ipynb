{
 "cells": [
  {
   "cell_type": "code",
   "execution_count": 1,
   "metadata": {},
   "outputs": [],
   "source": [
    "import gzip\n",
    "import shutil\n",
    "import wget\n",
    "import regex as re\n",
    "import pandas as pd\n",
    "import numpy as np\n",
    "import json"
   ]
  },
  {
   "cell_type": "code",
   "execution_count": 2,
   "metadata": {},
   "outputs": [
    {
     "name": "stdout",
     "output_type": "stream",
     "text": [
      "Downloading Completed\n"
     ]
    }
   ],
   "source": [
    "# Download the file\n",
    "\n",
    "#Defining the zip file URL - the TMX\n",
    "url = \"https://www.clarin.si/repository/xmlui/bitstream/handle/11356/1520/MaCoCu-tr-en.tmx.gz\"\n",
    "\n",
    "# Downloading the file by sending the request to the URL\n",
    "corpus_file = wget.download(url)\n",
    "print('Downloading Completed')"
   ]
  },
  {
   "cell_type": "code",
   "execution_count": 3,
   "metadata": {},
   "outputs": [],
   "source": [
    "# Unzip the file\n",
    "with gzip.open('MaCoCu-tr-en.tmx.gz', 'rb') as f_in:\n",
    "    with open('MaCoCu-tr-en.tmx', 'wb') as f_out:\n",
    "        shutil.copyfileobj(f_in, f_out)"
   ]
  },
  {
   "cell_type": "code",
   "execution_count": 4,
   "metadata": {},
   "outputs": [],
   "source": [
    "corpus = open('MaCoCu-tr-en.tmx', \"r\").read()"
   ]
  },
  {
   "cell_type": "code",
   "execution_count": 5,
   "metadata": {},
   "outputs": [
    {
     "name": "stdout",
     "output_type": "stream",
     "text": [
      "<?xml version=\"1.0\"?>\n",
      "<tmx version=\"1.4\">\n",
      " <header\n",
      "   adminlang=\"C\"\n",
      "   srclang=\"en\"\n",
      "   o-tmf=\"PlainText\"\n",
      "   creationtool=\"bitextor\"\n",
      "   creationtoolversion=\"8.2\"\n",
      "   datatype=\"PlainText\"\n",
      "   segtype=\"sentence\"\n",
      "   creationdate=\"20220422T100340\"\n",
      "   o-encoding=\"utf-8\">\n",
      " </header>\n",
      " <body>\n",
      "   <tu tuid=\"1\" datatype=\"Text\">\n",
      "    <prop type=\"score-bicleaner-ai\">0.994</prop>\n",
      "    <prop type=\"biroamer-entities\">No</prop>\n",
      "    <prop type=\"translation-direction\">tr-orig</prop>\n",
      "    <prop type=\"type\">1:1</prop>\n",
      "    <prop type=\"info\">different numbers in TUVs</prop>\n",
      "    <tuv xml:lang=\"en\">\n",
      "     <prop type=\"source-document\">https://kocaeli.ktb.gov.tr/EN-176348/united-kingdom.html</prop>\n",
      "     <prop type=\"checksum-seg\">5b26b2c1eff5d02e</prop>\n",
      "     <prop type=\"paragraph-id\">p63s0</prop>\n",
      "    <prop type=\"english-variant-document\">UNK</prop>\n",
      "    <prop type=\"english-variant-domain\">B</prop>\n",
      "     <seg>His resistance at Galippoli peninsula in WW I and his ingenious struggle in the War of Independence has brought him glamorous victories.</seg>\n",
      "    </tuv>\n",
      "    <tuv xml:lang=\"tr\">\n",
      "     <prop type=\"source-document\">https://www.ktb.gov.tr/TR-96495/ingiltere.html</prop>\n",
      "     <prop type=\"checksum-seg\">c997e14feac4c7e6</prop>\n",
      "     <prop type=\"paragraph-id\">p61s0</prop>\n",
      "     <seg>1. Cihan Savaşında, Gelibolu yarımadasındaki kahramanlık destanı olan mücadelede ve Kurtuluş Savaşı'daki davada yüksek dehâsı kendisine tam ve parlak zaferler kazandırmıştır.</seg>\n",
      "    </tuv>\n",
      "   </tu>\n",
      "   <tu tuid=\"2\" datatype=\"Text\">\n",
      "    <prop type=\"score-bicleaner-ai\">0.974</prop>\n",
      "    <prop type=\"biroamer-entities\">No</prop>\n",
      "    <prop type=\"translation-direction\">en-orig</prop>\n",
      "    <prop type=\"type\">1:1</prop>\n",
      "    <tuv xml:lang=\"en\">\n",
      "     <prop type=\"source-document\">https://www.anadoluhayat.com.tr/en/privacy-policy</prop>\n",
      "     <prop type=\"checksum-seg\">cd1dfb0d3c063de9</prop>\n",
      "     <prop type=\"paragraph-id\">p59s0</prop>\n",
      "    <prop type=\"english-variant-document\">B</prop>\n",
      "    <prop type=\"english-variant-domain\">UNK</prop>\n",
      "     <seg>Anadolu Hayat Emeklilik reserves the right to change this policy at any time to maintain the up-to-datedness of privacy and data protection principles and to enable compliance of the said to applicable legislation or when necessary in terms of new services provided by Anadolu Hayat Emeklilik.</seg>\n",
      "    </tuv>\n",
      "    <tuv xml:lang=\"tr\">\n",
      "     <prop type=\"source-document\">https://www.izbas.net/cerez-politikamiz</prop>\n",
      "     <prop type=\"checksum-seg\">11ee1cccf796d248</prop>\n",
      "     <prop type=\"paragraph-id\">p93s0</prop>\n",
      "     <seg>Şirket, işbu Çerez Politikası hükümlerini dilediği zaman değiştirebilir. Güncel Çerez Politikası, Veri Sahibi’ne herhangi bir yöntemle sunulduğu tarihte yürürlük kazanır.</seg>\n",
      "    </tuv>\n",
      "   </tu>\n",
      "   <tu tuid=\"3\" datatype=\"Text\">\n",
      "    <prop type=\"score-bicleaner-ai\">0.591</prop>\n",
      "    <prop type=\"biroamer-entities\">No</prop>\n",
      "    <prop type=\"translation-direction\">tr-orig</prop>\n",
      "    <prop type=\"type\">1:1</prop>\n",
      "    <tuv xml:lang=\"en\">\n",
      "     <prop type=\"source-document\">https://www.fatfreekitchen.com/home-remedy/constipation.html</prop>\n",
      "     <prop type=\"checksum-seg\">b8d16274d6043f97</prop>\n",
      "     <prop type=\"paragraph-id\">p30s0</prop>\n",
      "    <prop type=\"english-variant-document\">A</prop>\n",
      "    <prop type=\"english-variant-domain\">UNK</prop>\n",
      "     <seg>Prevention of Constipation</seg>\n",
      "    </tuv>\n",
      "    <tuv xml:lang=\"tr\">\n",
      "     <prop type=\"source-document\">https://www.posta.com.tr/bebeklerde-kabizlik-neden-olur-bebeklerde-kabizliga-ne-iyi-gelir-2279128</prop>\n",
      "     <prop type=\"checksum-seg\">7593ac1ae3a1f16b</prop>\n",
      "     <prop type=\"paragraph-id\">p53s0</prop>\n",
      "     <seg>Bebeklerde kabızlık belirtileri</seg>\n",
      "    </tuv>\n",
      "   </tu>\n",
      "   <tu tuid=\"4\" datatype=\"Text\">\n",
      "    <prop type=\"score-bicleaner-ai\">0.939</prop>\n",
      "    <prop type=\"biroamer-entities\">Yes</prop>\n",
      "    <prop type=\"translation-direction\">tr-orig</prop>\n",
      "    <prop type=\"type\">1:1</prop>\n",
      "    <tuv xml:lang=\"en\">\n",
      "     <prop type=\"source-document\">http://teklas.com/bizbizeyeterizturkiyem</prop>\n",
      "     <prop type=\"checksum-seg\">f1732817cd78e463</prop>\n",
      "     <prop type=\"paragraph-id\">p12s0</prop>\n",
      "    <prop type=\"english-variant-document\">UNK</prop>\n",
      "    <prop type=\"english-variant-domain\">UNK</prop>\n",
      "     <seg>As Teklas, we support the 'National Solidarity Campaign' that Turkey launched by donating 1 Million TL, on behalf of our employees in Turkey, Bulgaria, Serbia, France, Germany, Mexico and China!</seg>\n",
      "    </tuv>\n",
      "    <tuv xml:lang=\"tr\">\n",
      "     <prop type=\"source-document\">https://www.bgazete.com.tr/haberleri/milli-dayanisma-kampanyasi</prop>\n",
      "     <prop type=\"checksum-seg\">50bb5d550ee60a6c</prop>\n",
      "     <prop type=\"paragraph-id\">p17s0</prop>\n",
      "     <seg>Yataş Grup'tan yapılan açıklamada, Biz Bize Yeteriz Türkiyem sloganıyla başlatılan Milli Dayanışma Kampanyası'na 1 milyon lira bağış yapıldığı belirti...</seg>\n",
      "    </tuv>\n",
      "   </tu>\n",
      "   <tu tuid=\"5\" datatype=\"Text\">\n",
      "    <prop type=\"score-bicleaner-ai\">0.990</prop>\n",
      "    <prop type=\"biroamer-entities\">No</prop>\n",
      "    <prop type=\"translation-direction\">tr-orig</prop>\n",
      "    <pr\n"
     ]
    }
   ],
   "source": [
    "# Create and view a sample of the corpus\n",
    "corpus_sample = open('MaCoCu-tr-en.tmx', \"r\").read(5000)\n",
    "print(corpus_sample)"
   ]
  },
  {
   "cell_type": "code",
   "execution_count": 6,
   "metadata": {},
   "outputs": [],
   "source": [
    "# Prepare all the regexes\n",
    "# Compile all tus\n",
    "tu_re = re.compile('<tu tuid=\".*?>\\n(.*?)<\\/tu>', re.DOTALL)\n",
    "# Compile relevant information inside tus\n",
    "bi_score_re = re.compile('<prop type=\"score-bicleaner-ai\">(.*?)</prop>')\n",
    "biroamer_re = re.compile('<prop type=\"biroamer-entities\">(.*?)</prop>')\n",
    "translation_dir_re = re.compile('<prop type=\"translation-direction\">(.*?)</prop>')\n",
    "en_source_re = re.compile('<tuv xml:lang=\"en\">.*?<prop type=\"source-document\">(.*?)</prop>', re.DOTALL)\n",
    "en_par_id_re = re.compile('<tuv xml:lang=\"en\">.*?<prop type=\"paragraph-id\">(.*?)</prop', re.DOTALL)\n",
    "en_par_re = re.compile('<tuv xml:lang=\"en\">.*?<seg>(.*?)</seg>', re.DOTALL)\n",
    "en_var_doc_re = re.compile('<prop type=\"english-variant-document\">(.*?)</prop>')\n",
    "en_var_dom_re = re.compile('<prop type=\"english-variant-domain\">(.*?)</prop>')\n",
    "sl_source_re = re.compile('<tuv xml:lang=\"tr\">.*?<prop type=\"source-document\">(.*?)</prop>', re.DOTALL)\n",
    "sl_par_id_re = re.compile('<tuv xml:lang=\"tr\">.*?<prop type=\"paragraph-id\">(.*?)</prop', re.DOTALL)\n",
    "sl_par_re = re.compile('<tuv xml:lang=\"tr\">.*?<seg>(.*?)</seg>', re.DOTALL)\n"
   ]
  },
  {
   "cell_type": "code",
   "execution_count": 7,
   "metadata": {},
   "outputs": [
    {
     "data": {
      "text/plain": [
       "4"
      ]
     },
     "execution_count": 7,
     "metadata": {},
     "output_type": "execute_result"
    }
   ],
   "source": [
    "# Create a list of all tus from the sample corpus\n",
    "tus_list_sample = tu_re.findall(corpus_sample)\n",
    "len(tus_list_sample)"
   ]
  },
  {
   "cell_type": "code",
   "execution_count": 8,
   "metadata": {},
   "outputs": [
    {
     "data": {
      "text/plain": [
       "'    <prop type=\"score-bicleaner-ai\">0.974</prop>\\n    <prop type=\"biroamer-entities\">No</prop>\\n    <prop type=\"translation-direction\">en-orig</prop>\\n    <prop type=\"type\">1:1</prop>\\n    <tuv xml:lang=\"en\">\\n     <prop type=\"source-document\">https://www.anadoluhayat.com.tr/en/privacy-policy</prop>\\n     <prop type=\"checksum-seg\">cd1dfb0d3c063de9</prop>\\n     <prop type=\"paragraph-id\">p59s0</prop>\\n    <prop type=\"english-variant-document\">B</prop>\\n    <prop type=\"english-variant-domain\">UNK</prop>\\n     <seg>Anadolu Hayat Emeklilik reserves the right to change this policy at any time to maintain the up-to-datedness of privacy and data protection principles and to enable compliance of the said to applicable legislation or when necessary in terms of new services provided by Anadolu Hayat Emeklilik.</seg>\\n    </tuv>\\n    <tuv xml:lang=\"tr\">\\n     <prop type=\"source-document\">https://www.izbas.net/cerez-politikamiz</prop>\\n     <prop type=\"checksum-seg\">11ee1cccf796d248</prop>\\n     <prop type=\"paragraph-id\">p93s0</prop>\\n     <seg>Şirket, işbu Çerez Politikası hükümlerini dilediği zaman değiştirebilir. Güncel Çerez Politikası, Veri Sahibi’ne herhangi bir yöntemle sunulduğu tarihte yürürlük kazanır.</seg>\\n    </tuv>\\n   '"
      ]
     },
     "execution_count": 8,
     "metadata": {},
     "output_type": "execute_result"
    }
   ],
   "source": [
    "# View the tus_list\n",
    "tus_list_sample[1]"
   ]
  },
  {
   "cell_type": "code",
   "execution_count": 9,
   "metadata": {},
   "outputs": [
    {
     "name": "stdout",
     "output_type": "stream",
     "text": [
      "['0.974']\n",
      "['No']\n",
      "['en-orig']\n",
      "['https://www.anadoluhayat.com.tr/en/privacy-policy']\n",
      "['p59s0']\n",
      "['Anadolu Hayat Emeklilik reserves the right to change this policy at any time to maintain the up-to-datedness of privacy and data protection principles and to enable compliance of the said to applicable legislation or when necessary in terms of new services provided by Anadolu Hayat Emeklilik.']\n",
      "['B']\n",
      "['UNK']\n",
      "['https://www.izbas.net/cerez-politikamiz']\n",
      "['p93s0']\n",
      "['Şirket, işbu Çerez Politikası hükümlerini dilediği zaman değiştirebilir. Güncel Çerez Politikası, Veri Sahibi’ne herhangi bir yöntemle sunulduğu tarihte yürürlük kazanır.']\n"
     ]
    }
   ],
   "source": [
    "# Check if regexes work\n",
    "regexes =  [bi_score_re, biroamer_re, translation_dir_re, en_source_re, en_par_id_re, en_par_re, en_var_doc_re, en_var_dom_re, sl_source_re, sl_par_id_re, sl_par_re]\n",
    "\n",
    "for rex in regexes:\n",
    "    test_list = rex.findall(tus_list_sample[1])\n",
    "    print(test_list)"
   ]
  },
  {
   "cell_type": "code",
   "execution_count": 10,
   "metadata": {},
   "outputs": [
    {
     "data": {
      "text/plain": [
       "10323996"
      ]
     },
     "execution_count": 10,
     "metadata": {},
     "output_type": "execute_result"
    }
   ],
   "source": [
    "# Create a list of all tus from the corpus\n",
    "tus_list = tu_re.findall(corpus)\n",
    "len(tus_list)"
   ]
  },
  {
   "cell_type": "code",
   "execution_count": 11,
   "metadata": {},
   "outputs": [
    {
     "data": {
      "text/plain": [
       "['    <prop type=\"score-bicleaner-ai\">0.994</prop>\\n    <prop type=\"biroamer-entities\">No</prop>\\n    <prop type=\"translation-direction\">tr-orig</prop>\\n    <prop type=\"type\">1:1</prop>\\n    <prop type=\"info\">different numbers in TUVs</prop>\\n    <tuv xml:lang=\"en\">\\n     <prop type=\"source-document\">https://kocaeli.ktb.gov.tr/EN-176348/united-kingdom.html</prop>\\n     <prop type=\"checksum-seg\">5b26b2c1eff5d02e</prop>\\n     <prop type=\"paragraph-id\">p63s0</prop>\\n    <prop type=\"english-variant-document\">UNK</prop>\\n    <prop type=\"english-variant-domain\">B</prop>\\n     <seg>His resistance at Galippoli peninsula in WW I and his ingenious struggle in the War of Independence has brought him glamorous victories.</seg>\\n    </tuv>\\n    <tuv xml:lang=\"tr\">\\n     <prop type=\"source-document\">https://www.ktb.gov.tr/TR-96495/ingiltere.html</prop>\\n     <prop type=\"checksum-seg\">c997e14feac4c7e6</prop>\\n     <prop type=\"paragraph-id\">p61s0</prop>\\n     <seg>1. Cihan Savaşında, Gelibolu yarımadasındaki kahramanlık destanı olan mücadelede ve Kurtuluş Savaşı\\'daki davada yüksek dehâsı kendisine tam ve parlak zaferler kazandırmıştır.</seg>\\n    </tuv>\\n   ']"
      ]
     },
     "execution_count": 11,
     "metadata": {},
     "output_type": "execute_result"
    }
   ],
   "source": [
    "# Inspect an instance\n",
    "tus_list[:1]"
   ]
  },
  {
   "cell_type": "code",
   "execution_count": 12,
   "metadata": {},
   "outputs": [
    {
     "name": "stdout",
     "output_type": "stream",
     "text": [
      "10323996\n"
     ]
    },
    {
     "data": {
      "text/plain": [
       "[{'score_bicleaner_ai': 0.994,\n",
       "  'biroamer_entities': 'No',\n",
       "  'translation_direction': 'tr-orig',\n",
       "  'en_source': 'https://kocaeli.ktb.gov.tr/EN-176348/united-kingdom.html',\n",
       "  'en_par_id': 'p63s0',\n",
       "  'en_par': 'His resistance at Galippoli peninsula in WW I and his ingenious struggle in the War of Independence has brought him glamorous victories.',\n",
       "  'en_var_doc': 'UNK',\n",
       "  'en_var_dom': 'B',\n",
       "  'tr_source': 'https://www.ktb.gov.tr/TR-96495/ingiltere.html',\n",
       "  'tr_par_id': 'p61s0',\n",
       "  'tr_par': \"1. Cihan Savaşında, Gelibolu yarımadasındaki kahramanlık destanı olan mücadelede ve Kurtuluş Savaşı'daki davada yüksek dehâsı kendisine tam ve parlak zaferler kazandırmıştır.\"},\n",
       " {'score_bicleaner_ai': 0.974,\n",
       "  'biroamer_entities': 'No',\n",
       "  'translation_direction': 'en-orig',\n",
       "  'en_source': 'https://www.anadoluhayat.com.tr/en/privacy-policy',\n",
       "  'en_par_id': 'p59s0',\n",
       "  'en_par': 'Anadolu Hayat Emeklilik reserves the right to change this policy at any time to maintain the up-to-datedness of privacy and data protection principles and to enable compliance of the said to applicable legislation or when necessary in terms of new services provided by Anadolu Hayat Emeklilik.',\n",
       "  'en_var_doc': 'B',\n",
       "  'en_var_dom': 'UNK',\n",
       "  'tr_source': 'https://www.izbas.net/cerez-politikamiz',\n",
       "  'tr_par_id': 'p93s0',\n",
       "  'tr_par': 'Şirket, işbu Çerez Politikası hükümlerini dilediği zaman değiştirebilir. Güncel Çerez Politikası, Veri Sahibi’ne herhangi bir yöntemle sunulduğu tarihte yürürlük kazanır.'}]"
      ]
     },
     "execution_count": 12,
     "metadata": {},
     "output_type": "execute_result"
    }
   ],
   "source": [
    "# Create a list of dictionaries from the tus_list based on regexes\n",
    "tus_content = []\n",
    "\n",
    "for i in tus_list:\n",
    "\t# Find all relevant information based on regexes\n",
    "\tbi_score = bi_score_re.search(i).group(1)\n",
    "\tbiroamer = biroamer_re.search(i).group(1)\n",
    "\ttranslation_dir = translation_dir_re.search(i).group(1)\n",
    "\ten_source = en_source_re.search(i).group(1)\n",
    "\ten_par_id = en_par_id_re.search(i).group(1)\n",
    "\ten_par = en_par_re.search(i).group(1)\n",
    "\ten_var_doc = en_var_doc_re.search(i).group(1)\n",
    "\ten_var_dom = en_var_dom_re.search(i).group(1)\n",
    "\tsl_source = sl_source_re.search(i).group(1)\n",
    "\tsl_par_id = sl_par_id_re.search(i).group(1)\n",
    "\tsl_par = sl_par_re.search(i).group(1)\n",
    "\t# Add information to the dictionary\n",
    "\tcurrent_tu = {\"score_bicleaner_ai\": float(bi_score), \"biroamer_entities\": biroamer, \"translation_direction\": translation_dir, \"en_source\": en_source, \"en_par_id\": en_par_id, \"en_par\": en_par, \"en_var_doc\": en_var_doc, \"en_var_dom\": en_var_dom, \"tr_source\": sl_source, \"tr_par_id\": sl_par_id, \"tr_par\": sl_par}\n",
    "\t# Append the dictionary to the list\n",
    "\ttus_content.append(current_tu)\n",
    "\n",
    "print(len(tus_content))\n",
    "\n",
    "# Print some instances of the tus_content\n",
    "tus_content[:2]"
   ]
  },
  {
   "cell_type": "code",
   "execution_count": 13,
   "metadata": {},
   "outputs": [],
   "source": [
    "# Save json\n",
    "\n",
    "with open(\"Macocu-tr-en.json\", \"w\") as file:\n",
    "\tjson.dump(tus_content,file, indent= \"\")"
   ]
  }
 ],
 "metadata": {
  "kernelspec": {
   "display_name": "Python 3.9.7 ('base': conda)",
   "language": "python",
   "name": "python3"
  },
  "language_info": {
   "codemirror_mode": {
    "name": "ipython",
    "version": 3
   },
   "file_extension": ".py",
   "mimetype": "text/x-python",
   "name": "python",
   "nbconvert_exporter": "python",
   "pygments_lexer": "ipython3",
   "version": "3.9.7"
  },
  "orig_nbformat": 4,
  "vscode": {
   "interpreter": {
    "hash": "7e373e41fe05b496006fe2fc132d7af19f1d513370c44925a0044a5f3ee41336"
   }
  }
 },
 "nbformat": 4,
 "nbformat_minor": 2
}
