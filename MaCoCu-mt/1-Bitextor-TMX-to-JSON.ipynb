{
 "cells": [
  {
   "cell_type": "code",
   "execution_count": 1,
   "metadata": {},
   "outputs": [],
   "source": [
    "import gzip\n",
    "import shutil\n",
    "import wget\n",
    "import regex as re\n",
    "import pandas as pd\n",
    "import numpy as np\n",
    "import json"
   ]
  },
  {
   "cell_type": "code",
   "execution_count": 2,
   "metadata": {},
   "outputs": [
    {
     "name": "stdout",
     "output_type": "stream",
     "text": [
      "Downloading Completed\n"
     ]
    }
   ],
   "source": [
    "# Download the file\n",
    "\n",
    "#Defining the zip file URL\n",
    "url = \"https://www.clarin.si/repository/xmlui/bitstream/handle/11356/1525/MaCoCu-mt-en.tmx.gz\"\n",
    "\n",
    "# Downloading the file by sending the request to the URL\n",
    "corpus_file = wget.download(url)\n",
    "print('Downloading Completed')"
   ]
  },
  {
   "cell_type": "code",
   "execution_count": 3,
   "metadata": {},
   "outputs": [],
   "source": [
    "# Unzip the file\n",
    "with gzip.open('MaCoCu-mt-en.tmx.gz', 'rb') as f_in:\n",
    "    with open('MaCoCu-mt-en.tmx', 'wb') as f_out:\n",
    "        shutil.copyfileobj(f_in, f_out)"
   ]
  },
  {
   "cell_type": "code",
   "execution_count": 4,
   "metadata": {},
   "outputs": [],
   "source": [
    "corpus = open('MaCoCu-mt-en.tmx', \"r\").read()"
   ]
  },
  {
   "cell_type": "code",
   "execution_count": 5,
   "metadata": {},
   "outputs": [
    {
     "name": "stdout",
     "output_type": "stream",
     "text": [
      "<?xml version=\"1.0\"?>\n",
      "<tmx version=\"1.4\">\n",
      " <header\n",
      "   adminlang=\"C\"\n",
      "   srclang=\"en\"\n",
      "   o-tmf=\"PlainText\"\n",
      "   creationtool=\"bitextor\"\n",
      "   creationtoolversion=\"8.2\"\n",
      "   datatype=\"PlainText\"\n",
      "   segtype=\"sentence\"\n",
      "   creationdate=\"20220420T120753\"\n",
      "   o-encoding=\"utf-8\">\n",
      " </header>\n",
      " <body>\n",
      "   <tu tuid=\"1\" datatype=\"Text\">\n",
      "    <prop type=\"score-bicleaner-ai\">0.999</prop>\n",
      "    <prop type=\"biroamer-entities\">No</prop>\n",
      "    <prop type=\"translation-direction\">en-orig</prop>\n",
      "    <prop type=\"type\">1:1</prop>\n",
      "    <prop type=\"info\">different numbers in TUVs</prop>\n",
      "    <tuv xml:lang=\"en\">\n",
      "     <prop type=\"source-document\">https://eur-lex.europa.eu/legal-content/en/TXT/?uri=CELEX:62009CJ0325</prop>\n",
      "     <prop type=\"checksum-seg\">f24019104ded0be7</prop>\n",
      "     <prop type=\"paragraph-id\">p319s0</prop>\n",
      "    <prop type=\"english-variant-document\">A</prop>\n",
      "    <prop type=\"english-variant-domain\">B</prop>\n",
      "     <seg>18 Income support is a means-tested benefit for various groups of persons.</seg>\n",
      "    </tuv>\n",
      "    <tuv xml:lang=\"mt\">\n",
      "     <prop type=\"source-document\">https://eur-lex.europa.eu/legal-content/MT/TXT/?uri=CELEX:62009CJ0162</prop>\n",
      "     <prop type=\"checksum-seg\">871be9dd9a460ba4</prop>\n",
      "     <prop type=\"paragraph-id\">p285s0</prop>\n",
      "     <seg>L-appoġġ tad-dħul huwa benefiċċju mogħti skont ir-riżorsi lil gruppi differenti ta' persuni.</seg>\n",
      "    </tuv>\n",
      "   </tu>\n",
      "   <tu tuid=\"2\" datatype=\"Text\">\n",
      "    <prop type=\"score-bicleaner-ai\">1.000</prop>\n",
      "    <prop type=\"biroamer-entities\">No</prop>\n",
      "    <prop type=\"translation-direction\">mt-orig</prop>\n",
      "    <prop type=\"type\">1:1</prop>\n",
      "    <tuv xml:lang=\"en\">\n",
      "     <prop type=\"source-document\">https://www.europarl.europa.eu/doceo/document/A-8-2015-0209_EN.html</prop>\n",
      "     <prop type=\"checksum-seg\">56f5b20ff10cb6e5</prop>\n",
      "     <prop type=\"paragraph-id\">p168s0</prop>\n",
      "    <prop type=\"english-variant-document\">B</prop>\n",
      "    <prop type=\"english-variant-domain\">B</prop>\n",
      "     <seg>Stresses the importance of taking into account the conclusions of the numerous experiments being undertaken by the book industry to establish fair, balanced and viable business models;</seg>\n",
      "    </tuv>\n",
      "    <tuv xml:lang=\"mt\">\n",
      "     <prop type=\"source-document\">https://www.europarl.europa.eu/doceo/document/A-8-2015-0209_MT.html</prop>\n",
      "     <prop type=\"checksum-seg\">3f1f2fccb1774b2c</prop>\n",
      "     <prop type=\"paragraph-id\">p168s0</prop>\n",
      "     <seg>Jenfasizza l-importanza li jiġu meqjusa l-konklużjonijiet ta' diversi esperimenti li qed jitwettqu mill-industrija tal-kotba biex jiġu stabbiliti mudelli tan-negozju ġusti, bilanċjati u vijabbli;</seg>\n",
      "    </tuv>\n",
      "   </tu>\n",
      "   <tu tuid=\"3\" datatype=\"Text\">\n",
      "    <prop type=\"score-bicleaner-ai\">1.000</prop>\n",
      "    <prop type=\"biroamer-entities\">No</prop>\n",
      "    <prop type=\"translation-direction\">en-orig</prop>\n",
      "    <prop type=\"type\">1:1</prop>\n",
      "    <tuv xml:lang=\"en\">\n",
      "     <prop type=\"source-document\">https://eur-lex.europa.eu/legal-content/EN/ALL/?uri=CELEX%3A32009L0016</prop>\n",
      "     <prop type=\"checksum-seg\">714b7c0c4f679181</prop>\n",
      "     <prop type=\"paragraph-id\">p1082s0</prop>\n",
      "    <prop type=\"english-variant-document\">B</prop>\n",
      "    <prop type=\"english-variant-domain\">B</prop>\n",
      "     <seg>In addition, the Commission shall inform the European Parliament and the Council on a regular basis of progress in the implementation of this Directive within the Member States, in particular with a view to a uniform application of the inspection system in the Community.</seg>\n",
      "    </tuv>\n",
      "    <tuv xml:lang=\"mt\">\n",
      "     <prop type=\"source-document\">https://eur-lex.europa.eu/legal-content/MT/ALL/?uri=CELEX:32009L0016</prop>\n",
      "     <prop type=\"checksum-seg\">4e7bbec39be8dac9</prop>\n",
      "     <prop type=\"paragraph-id\">p1082s0</prop>\n",
      "     <seg>B'żieda ma' dan, il-Kummissjoni għandha tavża lill-Parlament Ewropew u lill-Kunsill fuq bażi regolari dwar il-progress tal-implimentazzjoni tad-Direttiva ġewwa l-Istati Membri b'mod partikolari bil-għan li jkun hemm applikazzjoni ta' sistema ta' spezzjoni fil-Komunità.</seg>\n",
      "    </tuv>\n",
      "   </tu>\n",
      "   <tu tuid=\"4\" datatype=\"Text\">\n",
      "    <prop type=\"score-bicleaner-ai\">1.000</prop>\n",
      "    <prop type=\"biroamer-entities\">No</prop>\n",
      "    <prop type=\"translation-direction\">en-orig</prop>\n",
      "    <prop type=\"type\">1:1</prop>\n",
      "    <tuv xml:lang=\"en\">\n",
      "     <prop type=\"source-document\">https://www.europarl.europa.eu/doceo/document/TA-8-2016-04-12_EN.html</prop>\n",
      "     <prop type=\"checksum-seg\">e4aa2026b2c033f</prop>\n",
      "     <prop type=\"paragraph-id\">p890s0</prop>\n",
      "    <prop type=\"english-variant-document\">B</prop>\n",
      "    <prop type=\"english-variant-domain\">B</prop>\n",
      "     <seg>Emphasises the importance of correlation tables in monitoring correct implementation; calls on the Member States to draw up and publish their own correlation tables;</seg>\n",
      "    </tuv>\n",
      "    <tuv xml:lang=\"mt\">\n",
      "     <prop type=\"source-document\">https://www.europarl.europa.eu/doceo/document/TA-8-2016-04-12_MT.html</prop>\n",
      "     <prop type=\"checksum-seg\">a16f5eda6a4d47de</prop>\n",
      "     <prop type=\"paragraph-id\">p890s0</prop>\n",
      "     <seg>Jenfasizza l-importanza tat-tabelli ta' korrel\n"
     ]
    }
   ],
   "source": [
    "# Create and view a sample of the corpus\n",
    "corpus_sample = open('MaCoCu-mt-en.tmx', \"r\").read(5000)\n",
    "print(corpus_sample)"
   ]
  },
  {
   "cell_type": "code",
   "execution_count": 6,
   "metadata": {},
   "outputs": [],
   "source": [
    "# Prepare all the regexes\n",
    "# Compile all tus\n",
    "tu_re = re.compile('<tu tuid=\".*?>\\n(.*?)<\\/tu>', re.DOTALL)\n",
    "# Compile relevant information inside tus\n",
    "bi_score_re = re.compile('<prop type=\"score-bicleaner-ai\">(.*?)</prop>')\n",
    "biroamer_re = re.compile('<prop type=\"biroamer-entities\">(.*?)</prop>')\n",
    "translation_dir_re = re.compile('<prop type=\"translation-direction\">(.*?)</prop>')\n",
    "en_source_re = re.compile('<tuv xml:lang=\"en\">.*?<prop type=\"source-document\">(.*?)</prop>', re.DOTALL)\n",
    "en_par_id_re = re.compile('<tuv xml:lang=\"en\">.*?<prop type=\"paragraph-id\">(.*?)</prop', re.DOTALL)\n",
    "en_par_re = re.compile('<tuv xml:lang=\"en\">.*?<seg>(.*?)</seg>', re.DOTALL)\n",
    "en_var_doc_re = re.compile('<prop type=\"english-variant-document\">(.*?)</prop>')\n",
    "en_var_dom_re = re.compile('<prop type=\"english-variant-domain\">(.*?)</prop>')\n",
    "sl_source_re = re.compile('<tuv xml:lang=\"mt\">.*?<prop type=\"source-document\">(.*?)</prop>', re.DOTALL)\n",
    "sl_par_id_re = re.compile('<tuv xml:lang=\"mt\">.*?<prop type=\"paragraph-id\">(.*?)</prop', re.DOTALL)\n",
    "sl_par_re = re.compile('<tuv xml:lang=\"mt\">.*?<seg>(.*?)</seg>', re.DOTALL)\n"
   ]
  },
  {
   "cell_type": "code",
   "execution_count": 7,
   "metadata": {},
   "outputs": [
    {
     "data": {
      "text/plain": [
       "3"
      ]
     },
     "execution_count": 7,
     "metadata": {},
     "output_type": "execute_result"
    }
   ],
   "source": [
    "# Create a list of all tus from the sample corpus\n",
    "tus_list_sample = tu_re.findall(corpus_sample)\n",
    "len(tus_list_sample)"
   ]
  },
  {
   "cell_type": "code",
   "execution_count": 8,
   "metadata": {},
   "outputs": [
    {
     "data": {
      "text/plain": [
       "'    <prop type=\"score-bicleaner-ai\">1.000</prop>\\n    <prop type=\"biroamer-entities\">No</prop>\\n    <prop type=\"translation-direction\">mt-orig</prop>\\n    <prop type=\"type\">1:1</prop>\\n    <tuv xml:lang=\"en\">\\n     <prop type=\"source-document\">https://www.europarl.europa.eu/doceo/document/A-8-2015-0209_EN.html</prop>\\n     <prop type=\"checksum-seg\">56f5b20ff10cb6e5</prop>\\n     <prop type=\"paragraph-id\">p168s0</prop>\\n    <prop type=\"english-variant-document\">B</prop>\\n    <prop type=\"english-variant-domain\">B</prop>\\n     <seg>Stresses the importance of taking into account the conclusions of the numerous experiments being undertaken by the book industry to establish fair, balanced and viable business models;</seg>\\n    </tuv>\\n    <tuv xml:lang=\"mt\">\\n     <prop type=\"source-document\">https://www.europarl.europa.eu/doceo/document/A-8-2015-0209_MT.html</prop>\\n     <prop type=\"checksum-seg\">3f1f2fccb1774b2c</prop>\\n     <prop type=\"paragraph-id\">p168s0</prop>\\n     <seg>Jenfasizza l-importanza li jiġu meqjusa l-konklużjonijiet ta\\' diversi esperimenti li qed jitwettqu mill-industrija tal-kotba biex jiġu stabbiliti mudelli tan-negozju ġusti, bilanċjati u vijabbli;</seg>\\n    </tuv>\\n   '"
      ]
     },
     "execution_count": 8,
     "metadata": {},
     "output_type": "execute_result"
    }
   ],
   "source": [
    "# View the tus_list\n",
    "tus_list_sample[1]"
   ]
  },
  {
   "cell_type": "code",
   "execution_count": 9,
   "metadata": {},
   "outputs": [
    {
     "name": "stdout",
     "output_type": "stream",
     "text": [
      "['1.000']\n",
      "['No']\n",
      "['mt-orig']\n",
      "['https://www.europarl.europa.eu/doceo/document/A-8-2015-0209_EN.html']\n",
      "['p168s0']\n",
      "['Stresses the importance of taking into account the conclusions of the numerous experiments being undertaken by the book industry to establish fair, balanced and viable business models;']\n",
      "['B']\n",
      "['B']\n",
      "['https://www.europarl.europa.eu/doceo/document/A-8-2015-0209_MT.html']\n",
      "['p168s0']\n",
      "[\"Jenfasizza l-importanza li jiġu meqjusa l-konklużjonijiet ta' diversi esperimenti li qed jitwettqu mill-industrija tal-kotba biex jiġu stabbiliti mudelli tan-negozju ġusti, bilanċjati u vijabbli;\"]\n"
     ]
    }
   ],
   "source": [
    "# Check if regexes work\n",
    "regexes =  [bi_score_re, biroamer_re, translation_dir_re, en_source_re, en_par_id_re, en_par_re, en_var_doc_re, en_var_dom_re, sl_source_re, sl_par_id_re, sl_par_re]\n",
    "\n",
    "for rex in regexes:\n",
    "    test_list = rex.findall(tus_list_sample[1])\n",
    "    print(test_list)"
   ]
  },
  {
   "cell_type": "code",
   "execution_count": 10,
   "metadata": {},
   "outputs": [
    {
     "data": {
      "text/plain": [
       "1231654"
      ]
     },
     "execution_count": 10,
     "metadata": {},
     "output_type": "execute_result"
    }
   ],
   "source": [
    "# Create a list of all tus from the corpus\n",
    "tus_list = tu_re.findall(corpus)\n",
    "len(tus_list)"
   ]
  },
  {
   "cell_type": "code",
   "execution_count": 11,
   "metadata": {},
   "outputs": [
    {
     "data": {
      "text/plain": [
       "['    <prop type=\"score-bicleaner-ai\">0.999</prop>\\n    <prop type=\"biroamer-entities\">No</prop>\\n    <prop type=\"translation-direction\">en-orig</prop>\\n    <prop type=\"type\">1:1</prop>\\n    <prop type=\"info\">different numbers in TUVs</prop>\\n    <tuv xml:lang=\"en\">\\n     <prop type=\"source-document\">https://eur-lex.europa.eu/legal-content/en/TXT/?uri=CELEX:62009CJ0325</prop>\\n     <prop type=\"checksum-seg\">f24019104ded0be7</prop>\\n     <prop type=\"paragraph-id\">p319s0</prop>\\n    <prop type=\"english-variant-document\">A</prop>\\n    <prop type=\"english-variant-domain\">B</prop>\\n     <seg>18 Income support is a means-tested benefit for various groups of persons.</seg>\\n    </tuv>\\n    <tuv xml:lang=\"mt\">\\n     <prop type=\"source-document\">https://eur-lex.europa.eu/legal-content/MT/TXT/?uri=CELEX:62009CJ0162</prop>\\n     <prop type=\"checksum-seg\">871be9dd9a460ba4</prop>\\n     <prop type=\"paragraph-id\">p285s0</prop>\\n     <seg>L-appoġġ tad-dħul huwa benefiċċju mogħti skont ir-riżorsi lil gruppi differenti ta\\' persuni.</seg>\\n    </tuv>\\n   ']"
      ]
     },
     "execution_count": 11,
     "metadata": {},
     "output_type": "execute_result"
    }
   ],
   "source": [
    "# Inspect an instance\n",
    "tus_list[:1]"
   ]
  },
  {
   "cell_type": "code",
   "execution_count": 12,
   "metadata": {},
   "outputs": [
    {
     "name": "stdout",
     "output_type": "stream",
     "text": [
      "1231654\n"
     ]
    },
    {
     "data": {
      "text/plain": [
       "[{'score_bicleaner_ai': 0.999,\n",
       "  'biroamer_entities': 'No',\n",
       "  'translation_direction': 'en-orig',\n",
       "  'en_source': 'https://eur-lex.europa.eu/legal-content/en/TXT/?uri=CELEX:62009CJ0325',\n",
       "  'en_par_id': 'p319s0',\n",
       "  'en_par': '18 Income support is a means-tested benefit for various groups of persons.',\n",
       "  'en_var_doc': 'A',\n",
       "  'en_var_dom': 'B',\n",
       "  'mt_source': 'https://eur-lex.europa.eu/legal-content/MT/TXT/?uri=CELEX:62009CJ0162',\n",
       "  'mt_par_id': 'p285s0',\n",
       "  'mt_par': \"L-appoġġ tad-dħul huwa benefiċċju mogħti skont ir-riżorsi lil gruppi differenti ta' persuni.\"},\n",
       " {'score_bicleaner_ai': 1.0,\n",
       "  'biroamer_entities': 'No',\n",
       "  'translation_direction': 'mt-orig',\n",
       "  'en_source': 'https://www.europarl.europa.eu/doceo/document/A-8-2015-0209_EN.html',\n",
       "  'en_par_id': 'p168s0',\n",
       "  'en_par': 'Stresses the importance of taking into account the conclusions of the numerous experiments being undertaken by the book industry to establish fair, balanced and viable business models;',\n",
       "  'en_var_doc': 'B',\n",
       "  'en_var_dom': 'B',\n",
       "  'mt_source': 'https://www.europarl.europa.eu/doceo/document/A-8-2015-0209_MT.html',\n",
       "  'mt_par_id': 'p168s0',\n",
       "  'mt_par': \"Jenfasizza l-importanza li jiġu meqjusa l-konklużjonijiet ta' diversi esperimenti li qed jitwettqu mill-industrija tal-kotba biex jiġu stabbiliti mudelli tan-negozju ġusti, bilanċjati u vijabbli;\"}]"
      ]
     },
     "execution_count": 12,
     "metadata": {},
     "output_type": "execute_result"
    }
   ],
   "source": [
    "# Create a list of dictionaries from the tus_list based on regexes\n",
    "tus_content = []\n",
    "\n",
    "for i in tus_list:\n",
    "\t# Find all relevant information based on regexes\n",
    "\tbi_score = bi_score_re.search(i).group(1)\n",
    "\tbiroamer = biroamer_re.search(i).group(1)\n",
    "\ttranslation_dir = translation_dir_re.search(i).group(1)\n",
    "\ten_source = en_source_re.search(i).group(1)\n",
    "\ten_par_id = en_par_id_re.search(i).group(1)\n",
    "\ten_par = en_par_re.search(i).group(1)\n",
    "\ten_var_doc = en_var_doc_re.search(i).group(1)\n",
    "\ten_var_dom = en_var_dom_re.search(i).group(1)\n",
    "\tsl_source = sl_source_re.search(i).group(1)\n",
    "\tsl_par_id = sl_par_id_re.search(i).group(1)\n",
    "\tsl_par = sl_par_re.search(i).group(1)\n",
    "\t# Add information to the dictionary\n",
    "\tcurrent_tu = {\"score_bicleaner_ai\": float(bi_score), \"biroamer_entities\": biroamer, \"translation_direction\": translation_dir, \"en_source\": en_source, \"en_par_id\": en_par_id, \"en_par\": en_par, \"en_var_doc\": en_var_doc, \"en_var_dom\": en_var_dom, \"mt_source\": sl_source, \"mt_par_id\": sl_par_id, \"mt_par\": sl_par}\n",
    "\t# Append the dictionary to the list\n",
    "\ttus_content.append(current_tu)\n",
    "\n",
    "print(len(tus_content))\n",
    "\n",
    "# Print some instances of the tus_content\n",
    "tus_content[:2]"
   ]
  },
  {
   "cell_type": "code",
   "execution_count": 13,
   "metadata": {},
   "outputs": [],
   "source": [
    "# Save json\n",
    "\n",
    "with open(\"Macocu-mt-en.json\", \"w\") as file:\n",
    "\tjson.dump(tus_content,file, indent= \"\")"
   ]
  }
 ],
 "metadata": {
  "kernelspec": {
   "display_name": "Python 3.9.7 ('base': conda)",
   "language": "python",
   "name": "python3"
  },
  "language_info": {
   "codemirror_mode": {
    "name": "ipython",
    "version": 3
   },
   "file_extension": ".py",
   "mimetype": "text/x-python",
   "name": "python",
   "nbconvert_exporter": "python",
   "pygments_lexer": "ipython3",
   "version": "3.9.7"
  },
  "orig_nbformat": 4,
  "vscode": {
   "interpreter": {
    "hash": "7e373e41fe05b496006fe2fc132d7af19f1d513370c44925a0044a5f3ee41336"
   }
  }
 },
 "nbformat": 4,
 "nbformat_minor": 2
}
