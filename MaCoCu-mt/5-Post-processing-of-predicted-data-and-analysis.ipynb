{
 "cells": [
  {
   "cell_type": "markdown",
   "metadata": {},
   "source": [
    "# Post-processing of predicted data\n",
    "\n",
    "Based on the foundings of the manual analysis, we will post-process the data to get reliable results:\n",
    "* predictions will be removed from texts, labeled as \"Other\" or \"Forum\"\n",
    "* predictions will be removed from texts where the prediction confidence is below 0.9\n",
    "\n",
    "The analysis of results (in terms of connection of genres and language varieties) is then done on post-processed data."
   ]
  },
  {
   "cell_type": "code",
   "execution_count": 1,
   "metadata": {},
   "outputs": [],
   "source": [
    "import pandas as pd\n",
    "import numpy as np"
   ]
  },
  {
   "cell_type": "code",
   "execution_count": 2,
   "metadata": {},
   "outputs": [
    {
     "data": {
      "text/html": [
       "<div>\n",
       "<style scoped>\n",
       "    .dataframe tbody tr th:only-of-type {\n",
       "        vertical-align: middle;\n",
       "    }\n",
       "\n",
       "    .dataframe tbody tr th {\n",
       "        vertical-align: top;\n",
       "    }\n",
       "\n",
       "    .dataframe thead th {\n",
       "        text-align: right;\n",
       "    }\n",
       "</style>\n",
       "<table border=\"1\" class=\"dataframe\">\n",
       "  <thead>\n",
       "    <tr style=\"text-align: right;\">\n",
       "      <th></th>\n",
       "      <th>biroamer_entities</th>\n",
       "      <th>translation_direction</th>\n",
       "      <th>en_source</th>\n",
       "      <th>en_var_doc</th>\n",
       "      <th>en_var_dom</th>\n",
       "      <th>mt_source</th>\n",
       "      <th>en_domain</th>\n",
       "      <th>mt_domain</th>\n",
       "      <th>average_score</th>\n",
       "      <th>en_doc</th>\n",
       "      <th>mt_doc</th>\n",
       "      <th>en_length</th>\n",
       "      <th>mt_length</th>\n",
       "      <th>punct_ratio</th>\n",
       "      <th>X-GENRE</th>\n",
       "      <th>label_distribution</th>\n",
       "      <th>chosen_category_distr</th>\n",
       "    </tr>\n",
       "  </thead>\n",
       "  <tbody>\n",
       "    <tr>\n",
       "      <th>1129134</th>\n",
       "      <td>No</td>\n",
       "      <td>en-orig</td>\n",
       "      <td>http://amberalert.com.mt/amber-alert-malta/</td>\n",
       "      <td>B</td>\n",
       "      <td>B</td>\n",
       "      <td>http://www.amberalert.com.mt/mt/amber-alert-ma...</td>\n",
       "      <td>amberalert.com.mt</td>\n",
       "      <td>amberalert.com.mt</td>\n",
       "      <td>0.883300</td>\n",
       "      <td>AMBER Alert Europe connects law enforcement wi...</td>\n",
       "      <td>L-AMBER Alert Europe iqarreb lill-forzi tal-or...</td>\n",
       "      <td>223</td>\n",
       "      <td>207</td>\n",
       "      <td>0.083665</td>\n",
       "      <td>News</td>\n",
       "      <td>{'Other': 0.001, 'Information/Explanation': 0....</td>\n",
       "      <td>0.953956</td>\n",
       "    </tr>\n",
       "    <tr>\n",
       "      <th>840121</th>\n",
       "      <td>No</td>\n",
       "      <td>en-orig</td>\n",
       "      <td>http://catholicvoices.mt/a-number-of-reactions...</td>\n",
       "      <td>B</td>\n",
       "      <td>B</td>\n",
       "      <td>http://catholicvoices.mt/numru-ta-reazzjonijie...</td>\n",
       "      <td>catholicvoices.mt</td>\n",
       "      <td>catholicvoices.mt</td>\n",
       "      <td>0.902923</td>\n",
       "      <td>A number of reactions to the Manifesto “Rebuil...</td>\n",
       "      <td>Ir-reazzjonijiet li waslu minn numru ta' kandi...</td>\n",
       "      <td>288</td>\n",
       "      <td>227</td>\n",
       "      <td>0.094801</td>\n",
       "      <td>Opinion/Argumentation</td>\n",
       "      <td>{'Other': 0.0007, 'Information/Explanation': 0...</td>\n",
       "      <td>0.998019</td>\n",
       "    </tr>\n",
       "    <tr>\n",
       "      <th>4581</th>\n",
       "      <td>Yes</td>\n",
       "      <td>en-orig</td>\n",
       "      <td>http://catholicvoices.mt/pope-francis-says-pan...</td>\n",
       "      <td>B</td>\n",
       "      <td>B</td>\n",
       "      <td>http://catholicvoices.mt/papa-frangisku-jghid-...</td>\n",
       "      <td>catholicvoices.mt</td>\n",
       "      <td>catholicvoices.mt</td>\n",
       "      <td>0.876624</td>\n",
       "      <td>In an exclusive interview recorded for The Tab...</td>\n",
       "      <td>F'intervista esklussiva għal TheTablet — l-eww...</td>\n",
       "      <td>2243</td>\n",
       "      <td>1834</td>\n",
       "      <td>0.103216</td>\n",
       "      <td>Other</td>\n",
       "      <td>{'Other': 0.9955, 'Information/Explanation': 0...</td>\n",
       "      <td>0.995455</td>\n",
       "    </tr>\n",
       "  </tbody>\n",
       "</table>\n",
       "</div>"
      ],
      "text/plain": [
       "        biroamer_entities translation_direction  \\\n",
       "1129134                No               en-orig   \n",
       "840121                 No               en-orig   \n",
       "4581                  Yes               en-orig   \n",
       "\n",
       "                                                 en_source en_var_doc  \\\n",
       "1129134        http://amberalert.com.mt/amber-alert-malta/          B   \n",
       "840121   http://catholicvoices.mt/a-number-of-reactions...          B   \n",
       "4581     http://catholicvoices.mt/pope-francis-says-pan...          B   \n",
       "\n",
       "        en_var_dom                                          mt_source  \\\n",
       "1129134          B  http://www.amberalert.com.mt/mt/amber-alert-ma...   \n",
       "840121           B  http://catholicvoices.mt/numru-ta-reazzjonijie...   \n",
       "4581             B  http://catholicvoices.mt/papa-frangisku-jghid-...   \n",
       "\n",
       "                 en_domain          mt_domain  average_score  \\\n",
       "1129134  amberalert.com.mt  amberalert.com.mt       0.883300   \n",
       "840121   catholicvoices.mt  catholicvoices.mt       0.902923   \n",
       "4581     catholicvoices.mt  catholicvoices.mt       0.876624   \n",
       "\n",
       "                                                    en_doc  \\\n",
       "1129134  AMBER Alert Europe connects law enforcement wi...   \n",
       "840121   A number of reactions to the Manifesto “Rebuil...   \n",
       "4581     In an exclusive interview recorded for The Tab...   \n",
       "\n",
       "                                                    mt_doc  en_length  \\\n",
       "1129134  L-AMBER Alert Europe iqarreb lill-forzi tal-or...        223   \n",
       "840121   Ir-reazzjonijiet li waslu minn numru ta' kandi...        288   \n",
       "4581     F'intervista esklussiva għal TheTablet — l-eww...       2243   \n",
       "\n",
       "         mt_length  punct_ratio                X-GENRE  \\\n",
       "1129134        207     0.083665                   News   \n",
       "840121         227     0.094801  Opinion/Argumentation   \n",
       "4581          1834     0.103216                  Other   \n",
       "\n",
       "                                        label_distribution  \\\n",
       "1129134  {'Other': 0.001, 'Information/Explanation': 0....   \n",
       "840121   {'Other': 0.0007, 'Information/Explanation': 0...   \n",
       "4581     {'Other': 0.9955, 'Information/Explanation': 0...   \n",
       "\n",
       "         chosen_category_distr  \n",
       "1129134               0.953956  \n",
       "840121                0.998019  \n",
       "4581                  0.995455  "
      ]
     },
     "execution_count": 2,
     "metadata": {},
     "output_type": "execute_result"
    }
   ],
   "source": [
    "corpus = pd.read_csv(\"Macocu-mt-en-predicted.csv\", sep = \"\\t\", index_col = 0)\n",
    "corpus.head(3)"
   ]
  },
  {
   "cell_type": "code",
   "execution_count": 3,
   "metadata": {},
   "outputs": [
    {
     "data": {
      "text/plain": [
       "(23999, 17)"
      ]
     },
     "execution_count": 3,
     "metadata": {},
     "output_type": "execute_result"
    }
   ],
   "source": [
    "# See initial number of texts\n",
    "corpus.shape"
   ]
  },
  {
   "cell_type": "code",
   "execution_count": 6,
   "metadata": {},
   "outputs": [
    {
     "name": "stdout",
     "output_type": "stream",
     "text": [
      "|                         |    X-GENRE |\n",
      "|:------------------------|-----------:|\n",
      "| News                    | 0.335264   |\n",
      "| Legal                   | 0.26847    |\n",
      "| Information/Explanation | 0.194883   |\n",
      "| Instruction             | 0.0864619  |\n",
      "| Opinion/Argumentation   | 0.0427101  |\n",
      "| Promotion               | 0.0286262  |\n",
      "| Prose/Lyrical           | 0.0272095  |\n",
      "| Other                   | 0.0143756  |\n",
      "| Forum                   | 0.00200008 |\n",
      "\n",
      "\n",
      "|                         |   X-GENRE |\n",
      "|:------------------------|----------:|\n",
      "| News                    |      8046 |\n",
      "| Legal                   |      6443 |\n",
      "| Information/Explanation |      4677 |\n",
      "| Instruction             |      2075 |\n",
      "| Opinion/Argumentation   |      1025 |\n",
      "| Promotion               |       687 |\n",
      "| Prose/Lyrical           |       653 |\n",
      "| Other                   |       345 |\n",
      "| Forum                   |        48 |\n"
     ]
    }
   ],
   "source": [
    "print(corpus[\"X-GENRE\"].value_counts(normalize=True).to_markdown())\n",
    "print(\"\\n\")\n",
    "print(corpus[\"X-GENRE\"].value_counts().to_markdown())"
   ]
  },
  {
   "cell_type": "code",
   "execution_count": 7,
   "metadata": {},
   "outputs": [
    {
     "data": {
      "text/html": [
       "<div>\n",
       "<style scoped>\n",
       "    .dataframe tbody tr th:only-of-type {\n",
       "        vertical-align: middle;\n",
       "    }\n",
       "\n",
       "    .dataframe tbody tr th {\n",
       "        vertical-align: top;\n",
       "    }\n",
       "\n",
       "    .dataframe thead th {\n",
       "        text-align: right;\n",
       "    }\n",
       "</style>\n",
       "<table border=\"1\" class=\"dataframe\">\n",
       "  <thead>\n",
       "    <tr style=\"text-align: right;\">\n",
       "      <th></th>\n",
       "      <th>biroamer_entities</th>\n",
       "      <th>translation_direction</th>\n",
       "      <th>en_source</th>\n",
       "      <th>en_var_doc</th>\n",
       "      <th>en_var_dom</th>\n",
       "      <th>mt_source</th>\n",
       "      <th>en_domain</th>\n",
       "      <th>mt_domain</th>\n",
       "      <th>average_score</th>\n",
       "      <th>en_doc</th>\n",
       "      <th>mt_doc</th>\n",
       "      <th>en_length</th>\n",
       "      <th>mt_length</th>\n",
       "      <th>punct_ratio</th>\n",
       "      <th>X-GENRE</th>\n",
       "      <th>label_distribution</th>\n",
       "      <th>chosen_category_distr</th>\n",
       "      <th>final-X-GENRE</th>\n",
       "    </tr>\n",
       "  </thead>\n",
       "  <tbody>\n",
       "    <tr>\n",
       "      <th>1129134</th>\n",
       "      <td>No</td>\n",
       "      <td>en-orig</td>\n",
       "      <td>http://amberalert.com.mt/amber-alert-malta/</td>\n",
       "      <td>B</td>\n",
       "      <td>B</td>\n",
       "      <td>http://www.amberalert.com.mt/mt/amber-alert-ma...</td>\n",
       "      <td>amberalert.com.mt</td>\n",
       "      <td>amberalert.com.mt</td>\n",
       "      <td>0.883300</td>\n",
       "      <td>AMBER Alert Europe connects law enforcement wi...</td>\n",
       "      <td>L-AMBER Alert Europe iqarreb lill-forzi tal-or...</td>\n",
       "      <td>223</td>\n",
       "      <td>207</td>\n",
       "      <td>0.083665</td>\n",
       "      <td>News</td>\n",
       "      <td>{'Other': 0.001, 'Information/Explanation': 0....</td>\n",
       "      <td>0.953956</td>\n",
       "      <td>News</td>\n",
       "    </tr>\n",
       "    <tr>\n",
       "      <th>840121</th>\n",
       "      <td>No</td>\n",
       "      <td>en-orig</td>\n",
       "      <td>http://catholicvoices.mt/a-number-of-reactions...</td>\n",
       "      <td>B</td>\n",
       "      <td>B</td>\n",
       "      <td>http://catholicvoices.mt/numru-ta-reazzjonijie...</td>\n",
       "      <td>catholicvoices.mt</td>\n",
       "      <td>catholicvoices.mt</td>\n",
       "      <td>0.902923</td>\n",
       "      <td>A number of reactions to the Manifesto “Rebuil...</td>\n",
       "      <td>Ir-reazzjonijiet li waslu minn numru ta' kandi...</td>\n",
       "      <td>288</td>\n",
       "      <td>227</td>\n",
       "      <td>0.094801</td>\n",
       "      <td>Opinion/Argumentation</td>\n",
       "      <td>{'Other': 0.0007, 'Information/Explanation': 0...</td>\n",
       "      <td>0.998019</td>\n",
       "      <td>Opinion/Argumentation</td>\n",
       "    </tr>\n",
       "    <tr>\n",
       "      <th>4581</th>\n",
       "      <td>Yes</td>\n",
       "      <td>en-orig</td>\n",
       "      <td>http://catholicvoices.mt/pope-francis-says-pan...</td>\n",
       "      <td>B</td>\n",
       "      <td>B</td>\n",
       "      <td>http://catholicvoices.mt/papa-frangisku-jghid-...</td>\n",
       "      <td>catholicvoices.mt</td>\n",
       "      <td>catholicvoices.mt</td>\n",
       "      <td>0.876624</td>\n",
       "      <td>In an exclusive interview recorded for The Tab...</td>\n",
       "      <td>F'intervista esklussiva għal TheTablet — l-eww...</td>\n",
       "      <td>2243</td>\n",
       "      <td>1834</td>\n",
       "      <td>0.103216</td>\n",
       "      <td>Other</td>\n",
       "      <td>{'Other': 0.9955, 'Information/Explanation': 0...</td>\n",
       "      <td>0.995455</td>\n",
       "      <td>NaN</td>\n",
       "    </tr>\n",
       "  </tbody>\n",
       "</table>\n",
       "</div>"
      ],
      "text/plain": [
       "        biroamer_entities translation_direction  \\\n",
       "1129134                No               en-orig   \n",
       "840121                 No               en-orig   \n",
       "4581                  Yes               en-orig   \n",
       "\n",
       "                                                 en_source en_var_doc  \\\n",
       "1129134        http://amberalert.com.mt/amber-alert-malta/          B   \n",
       "840121   http://catholicvoices.mt/a-number-of-reactions...          B   \n",
       "4581     http://catholicvoices.mt/pope-francis-says-pan...          B   \n",
       "\n",
       "        en_var_dom                                          mt_source  \\\n",
       "1129134          B  http://www.amberalert.com.mt/mt/amber-alert-ma...   \n",
       "840121           B  http://catholicvoices.mt/numru-ta-reazzjonijie...   \n",
       "4581             B  http://catholicvoices.mt/papa-frangisku-jghid-...   \n",
       "\n",
       "                 en_domain          mt_domain  average_score  \\\n",
       "1129134  amberalert.com.mt  amberalert.com.mt       0.883300   \n",
       "840121   catholicvoices.mt  catholicvoices.mt       0.902923   \n",
       "4581     catholicvoices.mt  catholicvoices.mt       0.876624   \n",
       "\n",
       "                                                    en_doc  \\\n",
       "1129134  AMBER Alert Europe connects law enforcement wi...   \n",
       "840121   A number of reactions to the Manifesto “Rebuil...   \n",
       "4581     In an exclusive interview recorded for The Tab...   \n",
       "\n",
       "                                                    mt_doc  en_length  \\\n",
       "1129134  L-AMBER Alert Europe iqarreb lill-forzi tal-or...        223   \n",
       "840121   Ir-reazzjonijiet li waslu minn numru ta' kandi...        288   \n",
       "4581     F'intervista esklussiva għal TheTablet — l-eww...       2243   \n",
       "\n",
       "         mt_length  punct_ratio                X-GENRE  \\\n",
       "1129134        207     0.083665                   News   \n",
       "840121         227     0.094801  Opinion/Argumentation   \n",
       "4581          1834     0.103216                  Other   \n",
       "\n",
       "                                        label_distribution  \\\n",
       "1129134  {'Other': 0.001, 'Information/Explanation': 0....   \n",
       "840121   {'Other': 0.0007, 'Information/Explanation': 0...   \n",
       "4581     {'Other': 0.9955, 'Information/Explanation': 0...   \n",
       "\n",
       "         chosen_category_distr          final-X-GENRE  \n",
       "1129134               0.953956                   News  \n",
       "840121                0.998019  Opinion/Argumentation  \n",
       "4581                  0.995455                    NaN  "
      ]
     },
     "execution_count": 7,
     "metadata": {},
     "output_type": "execute_result"
    }
   ],
   "source": [
    "# Post-process the data\n",
    "\n",
    "# Copy all predicted labels to a new column, except if the label is \"Other\"\n",
    "corpus[\"final-X-GENRE\"] = np.where(corpus[\"X-GENRE\"] == \"Other\", np.nan, corpus[\"X-GENRE\"])\n",
    "\n",
    "corpus.head(3)"
   ]
  },
  {
   "cell_type": "code",
   "execution_count": 8,
   "metadata": {},
   "outputs": [
    {
     "data": {
      "text/plain": [
       "News                       8046\n",
       "Legal                      6443\n",
       "Information/Explanation    4677\n",
       "Instruction                2075\n",
       "Opinion/Argumentation      1025\n",
       "Promotion                   687\n",
       "Prose/Lyrical               653\n",
       "Forum                        48\n",
       "Name: final-X-GENRE, dtype: int64"
      ]
     },
     "execution_count": 8,
     "metadata": {},
     "output_type": "execute_result"
    }
   ],
   "source": [
    "corpus[\"final-X-GENRE\"].value_counts()"
   ]
  },
  {
   "cell_type": "code",
   "execution_count": 9,
   "metadata": {},
   "outputs": [],
   "source": [
    "# Copy all predicted labels to a column \"final-X-GENRE\", except if the label is \"Forum\"\n",
    "corpus[\"final-X-GENRE\"] = np.where(corpus[\"final-X-GENRE\"] == \"Forum\", np.nan, corpus[\"final-X-GENRE\"])"
   ]
  },
  {
   "cell_type": "code",
   "execution_count": 10,
   "metadata": {},
   "outputs": [
    {
     "data": {
      "text/plain": [
       "News                       8046\n",
       "Legal                      6443\n",
       "Information/Explanation    4677\n",
       "Instruction                2075\n",
       "Opinion/Argumentation      1025\n",
       "Promotion                   687\n",
       "Prose/Lyrical               653\n",
       "Name: final-X-GENRE, dtype: int64"
      ]
     },
     "execution_count": 10,
     "metadata": {},
     "output_type": "execute_result"
    }
   ],
   "source": [
    "corpus[\"final-X-GENRE\"].value_counts()"
   ]
  },
  {
   "cell_type": "code",
   "execution_count": 11,
   "metadata": {},
   "outputs": [
    {
     "data": {
      "text/plain": [
       "count     23606\n",
       "unique        7\n",
       "top        News\n",
       "freq       8046\n",
       "Name: final-X-GENRE, dtype: object"
      ]
     },
     "execution_count": 11,
     "metadata": {},
     "output_type": "execute_result"
    }
   ],
   "source": [
    "corpus[\"final-X-GENRE\"].describe()"
   ]
  },
  {
   "cell_type": "code",
   "execution_count": 12,
   "metadata": {},
   "outputs": [],
   "source": [
    "# Copy all predicted labels to a column \"final-X-GENRE\", except if the prediction confidence is lower than 0.9\n",
    "corpus[\"final-X-GENRE\"] = np.where(corpus[\"chosen_category_distr\"] < 0.9, np.nan, corpus[\"final-X-GENRE\"])"
   ]
  },
  {
   "cell_type": "code",
   "execution_count": 13,
   "metadata": {},
   "outputs": [
    {
     "data": {
      "text/plain": [
       "count     21376\n",
       "unique        7\n",
       "top        News\n",
       "freq       7481\n",
       "Name: final-X-GENRE, dtype: object"
      ]
     },
     "execution_count": 13,
     "metadata": {},
     "output_type": "execute_result"
    }
   ],
   "source": [
    "# See the final distribution\n",
    "corpus[\"final-X-GENRE\"].describe()"
   ]
  },
  {
   "cell_type": "code",
   "execution_count": 16,
   "metadata": {},
   "outputs": [
    {
     "name": "stdout",
     "output_type": "stream",
     "text": [
      "|                         |   final-X-GENRE |\n",
      "|:------------------------|----------------:|\n",
      "| News                    |            7481 |\n",
      "| Legal                   |            5962 |\n",
      "| Information/Explanation |            4107 |\n",
      "| Instruction             |            1829 |\n",
      "| Opinion/Argumentation   |             820 |\n",
      "| Prose/Lyrical           |             589 |\n",
      "| Promotion               |             588 |\n",
      "\n",
      "\n",
      "|                         |   final-X-GENRE |\n",
      "|:------------------------|----------------:|\n",
      "| News                    |       0.349972  |\n",
      "| Legal                   |       0.278911  |\n",
      "| Information/Explanation |       0.192131  |\n",
      "| Instruction             |       0.0855632 |\n",
      "| Opinion/Argumentation   |       0.0383608 |\n",
      "| Prose/Lyrical           |       0.0275543 |\n",
      "| Promotion               |       0.0275075 |\n"
     ]
    }
   ],
   "source": [
    "print(corpus[\"final-X-GENRE\"].value_counts().to_markdown())\n",
    "print(\"\\n\")\n",
    "print(corpus[\"final-X-GENRE\"].value_counts(normalize=True).to_markdown())"
   ]
  },
  {
   "cell_type": "code",
   "execution_count": 17,
   "metadata": {},
   "outputs": [
    {
     "name": "stdout",
     "output_type": "stream",
     "text": [
      "['News', 'Opinion/Argumentation', nan, 'Promotion', 'Instruction', 'Information/Explanation', 'Legal', 'Prose/Lyrical']\n"
     ]
    }
   ],
   "source": [
    "LABELS = list(corpus[\"final-X-GENRE\"].unique())\n",
    "print(LABELS)"
   ]
  },
  {
   "cell_type": "code",
   "execution_count": 18,
   "metadata": {},
   "outputs": [
    {
     "name": "stdout",
     "output_type": "stream",
     "text": [
      "News\n",
      "|     |   en_var_doc |\n",
      "|:----|-------------:|\n",
      "| B   |    0.675444  |\n",
      "| UNK |    0.277904  |\n",
      "| A   |    0.0239273 |\n",
      "| MIX |    0.0227242 |\n",
      "Opinion/Argumentation\n",
      "|     |   en_var_doc |\n",
      "|:----|-------------:|\n",
      "| B   |    0.403659  |\n",
      "| A   |    0.342683  |\n",
      "| UNK |    0.212195  |\n",
      "| MIX |    0.0414634 |\n",
      "Promotion\n",
      "|     |   en_var_doc |\n",
      "|:----|-------------:|\n",
      "| B   |    0.522109  |\n",
      "| UNK |    0.384354  |\n",
      "| A   |    0.0680272 |\n",
      "| MIX |    0.0255102 |\n",
      "Instruction\n",
      "|     |   en_var_doc |\n",
      "|:----|-------------:|\n",
      "| B   |    0.509021  |\n",
      "| UNK |    0.323674  |\n",
      "| A   |    0.136687  |\n",
      "| MIX |    0.0306178 |\n",
      "Information/Explanation\n",
      "|     |   en_var_doc |\n",
      "|:----|-------------:|\n",
      "| B   |    0.587047  |\n",
      "| UNK |    0.218164  |\n",
      "| A   |    0.160214  |\n",
      "| MIX |    0.0345751 |\n",
      "Legal\n",
      "|     |   en_var_doc |\n",
      "|:----|-------------:|\n",
      "| B   |    0.751593  |\n",
      "| UNK |    0.169406  |\n",
      "| MIX |    0.0424354 |\n",
      "| A   |    0.0365649 |\n",
      "Prose/Lyrical\n",
      "|     |   en_var_doc |\n",
      "|:----|-------------:|\n",
      "| A   |    0.500849  |\n",
      "| UNK |    0.449915  |\n",
      "| B   |    0.0373514 |\n",
      "| MIX |    0.0118846 |\n"
     ]
    }
   ],
   "source": [
    "# Analyze differences in genres based on language varieties\n",
    "\n",
    "for i in ['News', 'Opinion/Argumentation', 'Promotion', 'Instruction', 'Information/Explanation', 'Legal', 'Prose/Lyrical']:\n",
    "    print(i)\n",
    "    filtered_corpus = corpus[corpus[\"final-X-GENRE\"] == i]\n",
    "    print(filtered_corpus[\"en_var_doc\"].value_counts(normalize=\"True\").to_markdown())"
   ]
  },
  {
   "cell_type": "code",
   "execution_count": 19,
   "metadata": {},
   "outputs": [
    {
     "name": "stdout",
     "output_type": "stream",
     "text": [
      "|       |   en_length |\n",
      "|:------|------------:|\n",
      "| count |    23999    |\n",
      "| mean  |     1290.69 |\n",
      "| std   |     3911.68 |\n",
      "| min   |       79    |\n",
      "| 25%   |      153    |\n",
      "| 50%   |      300    |\n",
      "| 75%   |      853    |\n",
      "| max   |   123935    |\n"
     ]
    }
   ],
   "source": [
    "# Length distribution of the entire corpus\n",
    "print(corpus[\"en_length\"].describe().to_markdown())"
   ]
  },
  {
   "cell_type": "code",
   "execution_count": 20,
   "metadata": {},
   "outputs": [
    {
     "name": "stdout",
     "output_type": "stream",
     "text": [
      "News\n",
      "|       |   en_length |\n",
      "|:------|------------:|\n",
      "| count |    7481     |\n",
      "| mean  |     592.741 |\n",
      "| std   |    1451.67  |\n",
      "| min   |      79     |\n",
      "| 25%   |     128     |\n",
      "| 50%   |     213     |\n",
      "| 75%   |     447     |\n",
      "| max   |   37591     |\n",
      "Opinion/Argumentation\n",
      "|       |   en_length |\n",
      "|:------|------------:|\n",
      "| count |     820     |\n",
      "| mean  |     720.037 |\n",
      "| std   |     758.044 |\n",
      "| min   |      81     |\n",
      "| 25%   |     235     |\n",
      "| 50%   |     498     |\n",
      "| 75%   |    1112.5   |\n",
      "| max   |   10791     |\n",
      "Promotion\n",
      "|       |   en_length |\n",
      "|:------|------------:|\n",
      "| count |     588     |\n",
      "| mean  |     257.4   |\n",
      "| std   |     609.635 |\n",
      "| min   |      79     |\n",
      "| 25%   |     113     |\n",
      "| 50%   |     171.5   |\n",
      "| 75%   |     271.25  |\n",
      "| max   |   12086     |\n",
      "Instruction\n",
      "|       |   en_length |\n",
      "|:------|------------:|\n",
      "| count |    1829     |\n",
      "| mean  |     525.561 |\n",
      "| std   |    1440.09  |\n",
      "| min   |      79     |\n",
      "| 25%   |     167     |\n",
      "| 50%   |     284     |\n",
      "| 75%   |     522     |\n",
      "| max   |   46141     |\n",
      "Information/Explanation\n",
      "|       |   en_length |\n",
      "|:------|------------:|\n",
      "| count |     4107    |\n",
      "| mean  |     1153.17 |\n",
      "| std   |     2962.37 |\n",
      "| min   |       79    |\n",
      "| 25%   |      151    |\n",
      "| 50%   |      320    |\n",
      "| 75%   |     1004    |\n",
      "| max   |    86595    |\n",
      "Legal\n",
      "|       |   en_length |\n",
      "|:------|------------:|\n",
      "| count |     5962    |\n",
      "| mean  |     2846.23 |\n",
      "| std   |     6811.27 |\n",
      "| min   |       79    |\n",
      "| 25%   |      224    |\n",
      "| 50%   |      606    |\n",
      "| 75%   |     2242    |\n",
      "| max   |   123935    |\n",
      "Prose/Lyrical\n",
      "|       |   en_length |\n",
      "|:------|------------:|\n",
      "| count |     589     |\n",
      "| mean  |     265.379 |\n",
      "| std   |     297.762 |\n",
      "| min   |      79     |\n",
      "| 25%   |     115     |\n",
      "| 50%   |     169     |\n",
      "| 75%   |     265     |\n",
      "| max   |    2148     |\n"
     ]
    }
   ],
   "source": [
    "# Analyze differences in genres based on text length\n",
    "\n",
    "for i in ['News', 'Opinion/Argumentation', 'Promotion', 'Instruction', 'Information/Explanation', 'Legal', 'Prose/Lyrical']:\n",
    "    print(i)\n",
    "    filtered_corpus = corpus[corpus[\"final-X-GENRE\"] == i]\n",
    "    print(filtered_corpus[\"en_length\"].describe().to_markdown())"
   ]
  }
 ],
 "metadata": {
  "kernelspec": {
   "display_name": "Python 3.9.7 ('base')",
   "language": "python",
   "name": "python3"
  },
  "language_info": {
   "codemirror_mode": {
    "name": "ipython",
    "version": 3
   },
   "file_extension": ".py",
   "mimetype": "text/x-python",
   "name": "python",
   "nbconvert_exporter": "python",
   "pygments_lexer": "ipython3",
   "version": "3.9.7"
  },
  "orig_nbformat": 4,
  "vscode": {
   "interpreter": {
    "hash": "7e373e41fe05b496006fe2fc132d7af19f1d513370c44925a0044a5f3ee41336"
   }
  }
 },
 "nbformat": 4,
 "nbformat_minor": 2
}
