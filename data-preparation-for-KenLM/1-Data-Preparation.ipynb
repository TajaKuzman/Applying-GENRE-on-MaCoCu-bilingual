{
 "cells": [
  {
   "cell_type": "markdown",
   "metadata": {},
   "source": [
    "I'll use the CORE, EN-GINCO and FTD texts for training the KenLM model. Based on the instructions, the text should be \"in a single file with one sentence per line\"."
   ]
  },
  {
   "cell_type": "code",
   "execution_count": null,
   "metadata": {},
   "outputs": [],
   "source": [
    "# Install NLTK\n",
    "!pip install --user -U nltk\n",
    "\n",
    "# Install NLTK data\n",
    "import nltk; nltk.download('popular')"
   ]
  },
  {
   "cell_type": "code",
   "execution_count": 42,
   "metadata": {},
   "outputs": [],
   "source": [
    "import pandas as pd\n",
    "from nltk.tokenize import sent_tokenize, word_tokenize\n",
    "import regex as re"
   ]
  },
  {
   "cell_type": "code",
   "execution_count": 9,
   "metadata": {},
   "outputs": [],
   "source": [
    "# Import datasets\n",
    "core_df = pd.read_csv(\"/home/tajak/Genre-Datasets-Comparison/Genre-Datasets-Comparison/data-sheets-with-all-info/CORE-all-information.csv\", sep=\"\\t\", index_col = 0)\n",
    "ftd_df = pd.read_csv(\"/home/tajak/Genre-Datasets-Comparison/Genre-Datasets-Comparison/data-sheets-with-all-info/FTD-dataset-with-all-information.csv\", sep = \"\\t\", index_col = 0)\n",
    "en_ginco_df = pd.read_csv(\"/home/tajak/Genre-Datasets-Comparison/Genre-Datasets-Comparison/data-sheets-with-all-info/EN-GINCO-X-GENRE.csv\", index_col = 0)"
   ]
  },
  {
   "cell_type": "code",
   "execution_count": null,
   "metadata": {},
   "outputs": [],
   "source": [
    "# Use only the columns with text\n",
    "core_df = core_df[\"text\"]\n",
    "ftd_df = ftd_df[\"text\"]\n",
    "en_ginco_df = en_ginco_df[\"text\"]"
   ]
  },
  {
   "cell_type": "code",
   "execution_count": null,
   "metadata": {},
   "outputs": [],
   "source": [
    "# Merge datasets\n",
    "step = pd.concat([core_df, ftd_df])\n",
    "merged_df = pd.concat([step, en_ginco_df])\n",
    "merged_df.shape"
   ]
  },
  {
   "cell_type": "code",
   "execution_count": null,
   "metadata": {},
   "outputs": [],
   "source": [
    "# Create a list of all texts\n",
    "texts_list = merged_df.to_list()\n",
    "texts_list[:2]"
   ]
  },
  {
   "cell_type": "code",
   "execution_count": 27,
   "metadata": {},
   "outputs": [
    {
     "data": {
      "text/plain": [
       "\"The Top TEN 'Whiniest Sets of Fans' in English Football The art of moaning is almost intrinsically built within us as football fans. As much as we love a 30-yard-screamer or a derby day thumping, we also love to indulge in a spot of match-day whining. As good as a match-day is, it just wouldn't be the same without finding something to kick-off about. No matter how well your team have performed, be it the extortionate Yorkie bar that has forced you to break into a fiver, to your teams' right-back's insistence on wearing gloves in August, we simply love to whine. But for some fans, a bit of harmless complaining resembles so much more than a simple bit of fun- it is a way of life. Indeed, for this bunch, the whining is incessant, the fickleness is in abundance and their unworldly levels of expectation simply will never be satisfied. In no particular order, here is an over the top, over exaggerative, completely unbalanced yet painfully true take on ten of the whiniest fans in English footb\""
      ]
     },
     "execution_count": 27,
     "metadata": {},
     "output_type": "execute_result"
    }
   ],
   "source": [
    "# Join all texts into one big text\n",
    "text = \"\"\n",
    "\n",
    "for i in texts_list:\n",
    "\ttext += i\n",
    "\ttext += \" \"\n",
    "\n",
    "text[:1000]"
   ]
  },
  {
   "cell_type": "code",
   "execution_count": 52,
   "metadata": {},
   "outputs": [],
   "source": [
    "# Discard all markup elements\n",
    "# Replace all <p> signs\n",
    "text_processed = re.sub(r\"<p>\", \"\", text)\n",
    "\n",
    "# Replace all other symbols that are between brackets\n",
    "markup_re = re.compile(\"<.{1,100}>\")\n",
    "text_processed = re.sub(markup_re, \"\", text_processed)\n"
   ]
  },
  {
   "cell_type": "code",
   "execution_count": 57,
   "metadata": {},
   "outputs": [
    {
     "data": {
      "text/plain": [
       "3090299"
      ]
     },
     "execution_count": 57,
     "metadata": {},
     "output_type": "execute_result"
    }
   ],
   "source": [
    "# Segment the whole text into sentences\n",
    "sentence_list = sent_tokenize(text_processed)\n",
    "len(sentence_list)"
   ]
  },
  {
   "cell_type": "code",
   "execution_count": 58,
   "metadata": {},
   "outputs": [
    {
     "data": {
      "text/plain": [
       "'Close by is the 200 square kilometer nature paradise Reinhardswald.'"
      ]
     },
     "execution_count": 58,
     "metadata": {},
     "output_type": "execute_result"
    }
   ],
   "source": [
    "sentence_list[-10]"
   ]
  },
  {
   "cell_type": "markdown",
   "metadata": {},
   "source": [
    "We got around 3M sentences."
   ]
  },
  {
   "cell_type": "code",
   "execution_count": 64,
   "metadata": {},
   "outputs": [],
   "source": [
    "# Create a TXT file with each sentence is a new line\n",
    "English_file = open(\"//home/tajak/KenLM/data-preparation/English-data-for-KenLM.txt\", \"w\")\n",
    "\n",
    "for i in sentence_list:\n",
    "\tEnglish_file.write(i)\n",
    "\tEnglish_file.write(\"\\n\")\n",
    "\n",
    "English_file.close()"
   ]
  }
 ],
 "metadata": {
  "kernelspec": {
   "display_name": "Python 3.9.7 ('base')",
   "language": "python",
   "name": "python3"
  },
  "language_info": {
   "codemirror_mode": {
    "name": "ipython",
    "version": 3
   },
   "file_extension": ".py",
   "mimetype": "text/x-python",
   "name": "python",
   "nbconvert_exporter": "python",
   "pygments_lexer": "ipython3",
   "version": "3.9.7"
  },
  "orig_nbformat": 4,
  "vscode": {
   "interpreter": {
    "hash": "7e373e41fe05b496006fe2fc132d7af19f1d513370c44925a0044a5f3ee41336"
   }
  }
 },
 "nbformat": 4,
 "nbformat_minor": 2
}
