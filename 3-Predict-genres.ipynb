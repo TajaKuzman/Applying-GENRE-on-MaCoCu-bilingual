{
 "cells": [
  {
   "cell_type": "code",
   "execution_count": 1,
   "metadata": {},
   "outputs": [
    {
     "name": "stderr",
     "output_type": "stream",
     "text": [
      "Failed to detect the name of this notebook, you can set it manually with the WANDB_NOTEBOOK_NAME environment variable to enable code saving.\n",
      "\u001b[34m\u001b[1mwandb\u001b[0m: Currently logged in as: \u001b[33mtajak\u001b[0m (use `wandb login --relogin` to force relogin)\n"
     ]
    },
    {
     "data": {
      "text/plain": [
       "True"
      ]
     },
     "execution_count": 1,
     "metadata": {},
     "output_type": "execute_result"
    }
   ],
   "source": [
    "# install the libraries necessary for data wrangling, prediction and result analysis\n",
    "import json\n",
    "import numpy as np\n",
    "import pandas as pd\n",
    "import time\n",
    "import matplotlib.pyplot as plt\n",
    "from sklearn import metrics\n",
    "from sklearn.metrics import classification_report, confusion_matrix, f1_score,precision_score, recall_score\n",
    "import torch\n",
    "from numba import cuda\n",
    "\n",
    "# Install transformers\n",
    "# (this needs to be done on Kaggle each time you start the session)\n",
    "#!pip install -q transformers\n",
    "\n",
    "# Install the simpletransformers\n",
    "#!pip install -q simpletransformers\n",
    "from simpletransformers.classification import ClassificationModel\n",
    "\n",
    "# Install wandb\n",
    "#!pip install -q wandb\n",
    "import wandb\n",
    "\n",
    "# Login to wandb\n",
    "wandb.login()"
   ]
  },
  {
   "cell_type": "code",
   "execution_count": 2,
   "metadata": {},
   "outputs": [
    {
     "data": {
      "text/html": [
       "<div>\n",
       "<style scoped>\n",
       "    .dataframe tbody tr th:only-of-type {\n",
       "        vertical-align: middle;\n",
       "    }\n",
       "\n",
       "    .dataframe tbody tr th {\n",
       "        vertical-align: top;\n",
       "    }\n",
       "\n",
       "    .dataframe thead th {\n",
       "        text-align: right;\n",
       "    }\n",
       "</style>\n",
       "<table border=\"1\" class=\"dataframe\">\n",
       "  <thead>\n",
       "    <tr style=\"text-align: right;\">\n",
       "      <th></th>\n",
       "      <th>biroamer_entities</th>\n",
       "      <th>translation_direction</th>\n",
       "      <th>en_source</th>\n",
       "      <th>en_var_doc</th>\n",
       "      <th>en_var_dom</th>\n",
       "      <th>sl_source</th>\n",
       "      <th>en_domain</th>\n",
       "      <th>sl_domain</th>\n",
       "      <th>average_score</th>\n",
       "      <th>en_doc</th>\n",
       "      <th>sl_doc</th>\n",
       "      <th>en_length</th>\n",
       "      <th>sl_length</th>\n",
       "      <th>punct_ratio</th>\n",
       "    </tr>\n",
       "  </thead>\n",
       "  <tbody>\n",
       "    <tr>\n",
       "      <th>2584979</th>\n",
       "      <td>No</td>\n",
       "      <td>sl-orig</td>\n",
       "      <td>http://15.liffe.si/?lang_chg=en</td>\n",
       "      <td>B</td>\n",
       "      <td>B</td>\n",
       "      <td>http://15.liffe.si/?lang_chg=sl</td>\n",
       "      <td>15.liffe.si</td>\n",
       "      <td>15.liffe.si</td>\n",
       "      <td>0.936808</td>\n",
       "      <td>It went out with a bang. The evening sparkled ...</td>\n",
       "      <td>Končalo se je razburljivo in z razkošjem. Veče...</td>\n",
       "      <td>574</td>\n",
       "      <td>463</td>\n",
       "      <td>0.103501</td>\n",
       "    </tr>\n",
       "    <tr>\n",
       "      <th>1212933</th>\n",
       "      <td>No</td>\n",
       "      <td>sl-orig</td>\n",
       "      <td>http://16.liffe.si/?lang_chg=en</td>\n",
       "      <td>B</td>\n",
       "      <td>B</td>\n",
       "      <td>http://16.liffe.si/index.php?menu_item=domov</td>\n",
       "      <td>16.liffe.si</td>\n",
       "      <td>16.liffe.si</td>\n",
       "      <td>0.900000</td>\n",
       "      <td>Some days ago the organisers of the 17th Liffe...</td>\n",
       "      <td>Pred dnevi smo se iz 59. mednarodnega filmskeg...</td>\n",
       "      <td>293</td>\n",
       "      <td>184</td>\n",
       "      <td>0.076220</td>\n",
       "    </tr>\n",
       "  </tbody>\n",
       "</table>\n",
       "</div>"
      ],
      "text/plain": [
       "        biroamer_entities translation_direction  \\\n",
       "2584979                No               sl-orig   \n",
       "1212933                No               sl-orig   \n",
       "\n",
       "                               en_source en_var_doc en_var_dom  \\\n",
       "2584979  http://15.liffe.si/?lang_chg=en          B          B   \n",
       "1212933  http://16.liffe.si/?lang_chg=en          B          B   \n",
       "\n",
       "                                            sl_source    en_domain  \\\n",
       "2584979               http://15.liffe.si/?lang_chg=sl  15.liffe.si   \n",
       "1212933  http://16.liffe.si/index.php?menu_item=domov  16.liffe.si   \n",
       "\n",
       "           sl_domain  average_score  \\\n",
       "2584979  15.liffe.si       0.936808   \n",
       "1212933  16.liffe.si       0.900000   \n",
       "\n",
       "                                                    en_doc  \\\n",
       "2584979  It went out with a bang. The evening sparkled ...   \n",
       "1212933  Some days ago the organisers of the 17th Liffe...   \n",
       "\n",
       "                                                    sl_doc  en_length  \\\n",
       "2584979  Končalo se je razburljivo in z razkošjem. Veče...        574   \n",
       "1212933  Pred dnevi smo se iz 59. mednarodnega filmskeg...        293   \n",
       "\n",
       "         sl_length  punct_ratio  \n",
       "2584979        463     0.103501  \n",
       "1212933        184     0.076220  "
      ]
     },
     "execution_count": 2,
     "metadata": {},
     "output_type": "execute_result"
    }
   ],
   "source": [
    "# Open csv file\n",
    "corpus_path = \"Macocu-sl-en-doc-format-filtered.csv\"\n",
    "\n",
    "corpus_df = pd.read_csv(corpus_path, sep = \"\\t\", index_col= 0)\n",
    "\n",
    "corpus_df.head(2)"
   ]
  },
  {
   "cell_type": "code",
   "execution_count": 3,
   "metadata": {},
   "outputs": [
    {
     "data": {
      "text/plain": [
       "(101807, 14)"
      ]
     },
     "execution_count": 3,
     "metadata": {},
     "output_type": "execute_result"
    }
   ],
   "source": [
    "# See corpus size\n",
    "corpus_df.shape"
   ]
  },
  {
   "cell_type": "code",
   "execution_count": 4,
   "metadata": {},
   "outputs": [],
   "source": [
    "import os\n",
    "os.environ[\"TOKENIZERS_PARALLELISM\"] = \"false\""
   ]
  },
  {
   "cell_type": "code",
   "execution_count": 5,
   "metadata": {},
   "outputs": [
    {
     "data": {
      "text/html": [
       "wandb version 0.13.3 is available!  To upgrade, please run:\n",
       " $ pip install wandb --upgrade"
      ],
      "text/plain": [
       "<IPython.core.display.HTML object>"
      ]
     },
     "metadata": {},
     "output_type": "display_data"
    },
    {
     "data": {
      "text/html": [
       "Tracking run with wandb version 0.12.11"
      ],
      "text/plain": [
       "<IPython.core.display.HTML object>"
      ]
     },
     "metadata": {},
     "output_type": "display_data"
    },
    {
     "data": {
      "text/html": [
       "Run data is saved locally in <code>/home/tajak/Applying-GENRE-on-MaCoCu-bilingual/wandb/run-20220914_143708-hlwpiw2t</code>"
      ],
      "text/plain": [
       "<IPython.core.display.HTML object>"
      ]
     },
     "metadata": {},
     "output_type": "display_data"
    },
    {
     "data": {
      "text/html": [
       "Syncing run <strong><a href=\"https://wandb.ai/tajak/X-GENRE%20classifiers/runs/hlwpiw2t\" target=\"_blank\">testing-trained-model</a></strong> to <a href=\"https://wandb.ai/tajak/X-GENRE%20classifiers\" target=\"_blank\">Weights & Biases</a> (<a href=\"https://wandb.me/run\" target=\"_blank\">docs</a>)<br/>"
      ],
      "text/plain": [
       "<IPython.core.display.HTML object>"
      ]
     },
     "metadata": {},
     "output_type": "display_data"
    }
   ],
   "source": [
    "# Initialize Wandb\n",
    "run = wandb.init(project=\"X-GENRE classifiers\", entity=\"tajak\", name=\"testing-trained-model\")"
   ]
  },
  {
   "cell_type": "code",
   "execution_count": 7,
   "metadata": {},
   "outputs": [
    {
     "name": "stderr",
     "output_type": "stream",
     "text": [
      "\u001b[34m\u001b[1mwandb\u001b[0m: Downloading large artifact X-GENRE-classifier:latest, 1081.88MB. 8 files... Done. 0:0:0\n",
      "/home/tajak/anaconda3/lib/python3.9/site-packages/simpletransformers/classification/classification_model.py:459: UserWarning: use_multiprocessing automatically disabled as xlmroberta fails when using multiprocessing for feature conversion.\n",
      "  warnings.warn(\n"
     ]
    }
   ],
   "source": [
    "# Load the trained model from Wandb\n",
    "model_name = \"tajak/X-GENRE classifiers/X-GENRE-classifier\"\n",
    "# Use the latest version of the model\n",
    "model_at = run.use_artifact(model_name + \":latest\")\n",
    "# Download the directory\n",
    "model_dir = model_at.download()\n",
    "\n",
    "# Loading a local save\n",
    "model = ClassificationModel(\n",
    "    \"xlmroberta\", model_dir)"
   ]
  },
  {
   "cell_type": "code",
   "execution_count": 8,
   "metadata": {},
   "outputs": [
    {
     "data": {
      "text/plain": [
       "101807"
      ]
     },
     "execution_count": 8,
     "metadata": {},
     "output_type": "execute_result"
    }
   ],
   "source": [
    "corpus_df.shape[0]"
   ]
  },
  {
   "cell_type": "code",
   "execution_count": 20,
   "metadata": {},
   "outputs": [
    {
     "data": {
      "text/plain": [
       "(['Forum', 'Forum', 'Forum'],\n",
       " array([[ 0.46240234, -1.42871094, -0.60058594, -1.08496094, -0.38623047,\n",
       "          2.18359375, -0.42700195, -1.00195312,  1.59960938],\n",
       "        [-0.05444336, -1.43457031, -0.65429688, -1.48046875, -0.25244141,\n",
       "          5.75      , -0.34912109, -1.05566406, -0.71582031],\n",
       "        [ 1.58886719, -1.82910156, -1.2890625 , -2.22070312, -0.25073242,\n",
       "          3.46875   ,  2.30859375, -1.54882812, -0.54833984]]))"
      ]
     },
     "execution_count": 20,
     "metadata": {},
     "output_type": "execute_result"
    }
   ],
   "source": [
    "output = model.predict([\"hoj hej\", \"helo helo\", \"fzcj yiz\"])\n",
    "\n",
    "output"
   ]
  },
  {
   "cell_type": "code",
   "execution_count": 52,
   "metadata": {},
   "outputs": [
    {
     "name": "stdout",
     "output_type": "stream",
     "text": [
      "(['Opinion/Argumentation', 'News', 'News'], array([[-1.29296875, -1.39453125,  2.24414062, -1.65234375,  6.8984375 ,\n",
      "        -0.90429688, -1.2734375 , -2.13085938, -1.28027344],\n",
      "       [-0.68164062, -2.03710938,  6.2421875 , -1.53710938,  2.92578125,\n",
      "        -0.92724609, -0.92285156, -2.28320312, -2.04101562],\n",
      "       [-1.53320312, -1.45507812,  7.3828125 , -1.09277344,  0.95214844,\n",
      "        -1.11230469, -1.03222656, -1.85449219, -1.63378906]]))\n",
      "Batch 1 predicted.\n",
      "(['Opinion/Argumentation', 'News', 'Promotion'], array([[-0.81445312,  0.75439453, -0.57714844, -1.1796875 ,  7.47265625,\n",
      "        -0.625     , -1.42773438, -1.69140625, -1.52734375],\n",
      "       [-1.55761719, -1.24316406,  7.44140625, -1.0859375 ,  0.62109375,\n",
      "        -1.26464844, -1.15234375, -1.79882812, -1.41308594],\n",
      "       [-0.53613281,  3.55078125,  0.33105469, -0.62597656, -2.16796875,\n",
      "        -2.70898438, -2.52539062,  1.16308594,  3.70898438]]))\n",
      "Batch 2 predicted.\n",
      "(['Legal', 'Legal', 'Information/Explanation'], array([[-0.95947266, -0.29882812, -1.04296875, -0.58154297, -1.89257812,\n",
      "        -0.8125    , -0.83105469,  7.03515625, -1.00097656],\n",
      "       [-1.09960938,  0.33422852, -0.83642578, -0.64648438, -1.84960938,\n",
      "        -0.97265625, -0.97412109,  6.734375  , -1.10351562],\n",
      "       [-1.00292969,  7.875     , -0.24536133, -0.26000977, -1.35839844,\n",
      "        -1.60351562, -1.56738281,  0.37451172, -0.98925781]]))\n",
      "Batch 3 predicted.\n",
      "['Opinion/Argumentation', 'News', 'News', 'Opinion/Argumentation', 'News', 'Promotion', 'Legal', 'Legal', 'Information/Explanation']\n",
      "[0.988794185808889, 0.9616003478532744, 0.9972635879080093, 0.9973838691259985, 0.9978320097186046, 0.49999261662044236, 0.9969860919895732, 0.9953458304319048, 0.9983252042610541]\n"
     ]
    }
   ],
   "source": [
    "# Apply softmax to the raw outputs\n",
    "def softmax(x):\n",
    "#Compute softmax values for each sets of scores in x.\n",
    "\treturn np.exp(x) / np.sum(np.exp(x), axis=0)\n",
    "\n",
    "y_pred = []\n",
    "y_distr = []\n",
    "batch_counter = 0\n",
    "\n",
    "for i in sample_batches:\n",
    "\toutput = model.predict(i)\n",
    "\tcurrent_y_pred = output[0]\n",
    "\tcurrent_y_distr = output[1]\n",
    "\tcurrent_y_distr_softmax = []\n",
    "\tfor i in current_y_distr:\n",
    "\t\tdistr = softmax(i)\n",
    "\t\tdistr_sorted = np.sort(distr)\n",
    "\t\tcurrent_y_distr_softmax.append(distr_sorted[-1])\n",
    "\n",
    "\tfor i in current_y_pred:\n",
    "\t\ty_pred.append(i)\n",
    "\t\n",
    "\tfor i in current_y_distr_softmax:\n",
    "\t\ty_distr.append(i)\n",
    "\t\n",
    "\tbatch_counter += 1\n",
    "\tprint(f\"Batch {batch_counter} predicted.\")\n",
    "\t\n",
    "\tjson_backup = [batch_counter,y_pred, y_distr]\n",
    "\n",
    "\t# Save y_pred and y_distr just in case\n",
    "\twith open(\"batch-backup-predictions.json\",\"w\") as backup:\n",
    "\t\tjson.dump(json_backup, backup)\n",
    "\n",
    "print(y_pred)\n",
    "print(y_distr)"
   ]
  },
  {
   "cell_type": "code",
   "execution_count": null,
   "metadata": {},
   "outputs": [],
   "source": [
    "sample_batches = batches_list_new[:3]\n",
    "\n",
    "sample_batches"
   ]
  },
  {
   "cell_type": "code",
   "execution_count": 58,
   "metadata": {},
   "outputs": [],
   "source": [
    "def predict(dataframe, file_path):\n",
    "    \"\"\"\n",
    "    This function takes the dataframe with English documents in the en_doc column, prepared in previous notebooks, and applies the trained model on it to infer predictions. It prints the time that it took to predict to all instances. It saves the results as a new column in the dataframe and returns the dataframe.\n",
    "\n",
    "    Args:\n",
    "    - dataframe (pandas DataFrame)\n",
    "    - file_path: the path to the new CSV file with predictions\n",
    "    \"\"\"\n",
    "    # Split the dataframe into batches\n",
    "    # Create batches of text\n",
    "    from itertools import islice\n",
    "\n",
    "    def chunk(arr_range, arr_size):\n",
    "        arr_range = iter(arr_range)\n",
    "        return iter(lambda: tuple(islice(arr_range, arr_size)), ())\n",
    "\n",
    "    batches_list = list(chunk(dataframe.en_doc, 3))\n",
    "\n",
    "    batches_list_new = []\n",
    "\n",
    "    for i in batches_list:\n",
    "        batches_list_new.append(list(i))\n",
    "\n",
    "    print(f\"The dataset is split into {len(batches_list_new)} batches of {len(batches_list_new[0])} texts.\")\n",
    "\n",
    "    # Apply softmax to the raw outputs\n",
    "    def softmax(x):\n",
    "    #Compute softmax values for each sets of scores in x.\n",
    "        return np.exp(x) / np.sum(np.exp(x), axis=0)\n",
    "\n",
    "    y_pred = []\n",
    "    y_distr = []\n",
    "    batch_counter = 0\n",
    "\n",
    "    print(\"Prediction started.\")\n",
    "    start_time = time.time()\n",
    "\n",
    "    for i in batches_list_new:\n",
    "        output = model.predict(i)\n",
    "        current_y_pred = output[0]\n",
    "        current_y_distr = output[1]\n",
    "        current_y_distr_softmax = []\n",
    "        for i in current_y_distr:\n",
    "            distr = softmax(i)\n",
    "            distr_sorted = np.sort(distr)\n",
    "            current_y_distr_softmax.append(distr_sorted[-1])\n",
    "\n",
    "        for i in current_y_pred:\n",
    "            y_pred.append(i)\n",
    "        \n",
    "        for i in current_y_distr_softmax:\n",
    "            y_distr.append(i)\n",
    "        \n",
    "        batch_counter += 1\n",
    "        print(f\"Batch {batch_counter} predicted.\")\n",
    "        \n",
    "        json_backup = [batch_counter,y_pred, y_distr]\n",
    "\n",
    "        # Save y_pred and y_distr just in case\n",
    "        with open(\"batch-backup-predictions.json\",\"w\") as backup:\n",
    "            json.dump(json_backup, backup)\n",
    "\n",
    "    prediction_time = round((time.time() - start_time)/60,2)\n",
    "\n",
    "    print(f\"Prediction completed. It took {prediction_time} minutes for {dataframe.shape[0]} instances - {prediction_time/dataframe.shape[0]} minutes per one instance.\")\n",
    "    \n",
    "    dataframe[\"X-GENRE\"] = y_pred\n",
    "    dataframe[\"label_distribution\"] = y_distr\n",
    "\n",
    "    # Save the new dataframe which contains the y_pred values as well\n",
    "    dataframe.to_csv(f\"{file_path}\", sep=\"\\t\")\n",
    "\n",
    "    return dataframe"
   ]
  },
  {
   "cell_type": "code",
   "execution_count": 54,
   "metadata": {},
   "outputs": [
    {
     "data": {
      "text/plain": [
       "(100, 14)"
      ]
     },
     "execution_count": 54,
     "metadata": {},
     "output_type": "execute_result"
    }
   ],
   "source": [
    "# Try the code on a sample of the corpus\n",
    "sample_corpus = corpus_df.sample(n = 100)\n",
    "\n",
    "sample_corpus.shape"
   ]
  },
  {
   "cell_type": "code",
   "execution_count": 59,
   "metadata": {},
   "outputs": [
    {
     "name": "stdout",
     "output_type": "stream",
     "text": [
      "The dataset is split into 34 batches of 3 texts.\n",
      "Prediction started.\n",
      "Batch 1 predicted.\n",
      "Batch 2 predicted.\n",
      "Batch 3 predicted.\n",
      "Batch 4 predicted.\n",
      "Batch 5 predicted.\n",
      "Batch 6 predicted.\n",
      "Batch 7 predicted.\n",
      "Batch 8 predicted.\n",
      "Batch 9 predicted.\n",
      "Batch 10 predicted.\n",
      "Batch 11 predicted.\n",
      "Batch 12 predicted.\n",
      "Batch 13 predicted.\n",
      "Batch 14 predicted.\n",
      "Batch 15 predicted.\n",
      "Batch 16 predicted.\n",
      "Batch 17 predicted.\n",
      "Batch 18 predicted.\n",
      "Batch 19 predicted.\n",
      "Batch 20 predicted.\n",
      "Batch 21 predicted.\n",
      "Batch 22 predicted.\n",
      "Batch 23 predicted.\n",
      "Batch 24 predicted.\n",
      "Batch 25 predicted.\n",
      "Batch 26 predicted.\n",
      "Batch 27 predicted.\n",
      "Batch 28 predicted.\n",
      "Batch 29 predicted.\n",
      "Batch 30 predicted.\n",
      "Batch 31 predicted.\n",
      "Batch 32 predicted.\n",
      "Batch 33 predicted.\n",
      "Batch 34 predicted.\n",
      "Prediction completed. It took 0.59 minutes for 100 instances - 0.0059 minutes per one instance.\n"
     ]
    }
   ],
   "source": [
    "sample_predicted = predict(sample_corpus, \"sample-corpus-filtered-predicted-test.csv\") "
   ]
  },
  {
   "cell_type": "markdown",
   "metadata": {},
   "source": [
    "Prediction took 12 seconds per instance - it would take 350 hours (14 days) to predict everything. "
   ]
  },
  {
   "cell_type": "code",
   "execution_count": 60,
   "metadata": {},
   "outputs": [
    {
     "data": {
      "text/html": [
       "<div>\n",
       "<style scoped>\n",
       "    .dataframe tbody tr th:only-of-type {\n",
       "        vertical-align: middle;\n",
       "    }\n",
       "\n",
       "    .dataframe tbody tr th {\n",
       "        vertical-align: top;\n",
       "    }\n",
       "\n",
       "    .dataframe thead th {\n",
       "        text-align: right;\n",
       "    }\n",
       "</style>\n",
       "<table border=\"1\" class=\"dataframe\">\n",
       "  <thead>\n",
       "    <tr style=\"text-align: right;\">\n",
       "      <th></th>\n",
       "      <th>biroamer_entities</th>\n",
       "      <th>translation_direction</th>\n",
       "      <th>en_source</th>\n",
       "      <th>en_var_doc</th>\n",
       "      <th>en_var_dom</th>\n",
       "      <th>sl_source</th>\n",
       "      <th>en_domain</th>\n",
       "      <th>sl_domain</th>\n",
       "      <th>average_score</th>\n",
       "      <th>en_doc</th>\n",
       "      <th>sl_doc</th>\n",
       "      <th>en_length</th>\n",
       "      <th>sl_length</th>\n",
       "      <th>punct_ratio</th>\n",
       "      <th>X-GENRE</th>\n",
       "      <th>label_distribution</th>\n",
       "    </tr>\n",
       "  </thead>\n",
       "  <tbody>\n",
       "    <tr>\n",
       "      <th>2186273</th>\n",
       "      <td>No</td>\n",
       "      <td>sl-orig</td>\n",
       "      <td>https://cisotra.eu/</td>\n",
       "      <td>B</td>\n",
       "      <td>MIX</td>\n",
       "      <td>https://cisotra.eu/sl/o-projektu-cisotra/</td>\n",
       "      <td>cisotra.eu</td>\n",
       "      <td>cisotra.eu</td>\n",
       "      <td>0.915000</td>\n",
       "      <td>CiSoTRA Civil Society for social inclusion of ...</td>\n",
       "      <td>Naslov projekta: Civilna družba in socialno vk...</td>\n",
       "      <td>211</td>\n",
       "      <td>562</td>\n",
       "      <td>0.077236</td>\n",
       "      <td>Information/Explanation</td>\n",
       "      <td>0.995965</td>\n",
       "    </tr>\n",
       "    <tr>\n",
       "      <th>179779</th>\n",
       "      <td>No</td>\n",
       "      <td>sl-orig</td>\n",
       "      <td>http://psiholoska-obzorja.si/en/article?id=392</td>\n",
       "      <td>A</td>\n",
       "      <td>MIX</td>\n",
       "      <td>http://psiholoska-obzorja.si/article?id=392</td>\n",
       "      <td>psiholoska-obzorja.si</td>\n",
       "      <td>psiholoska-obzorja.si</td>\n",
       "      <td>0.963875</td>\n",
       "      <td>We can distinguish healthy narcissism, an appr...</td>\n",
       "      <td>Povzetek: Ločimo zdrav narcisizem, ki se kaže ...</td>\n",
       "      <td>204</td>\n",
       "      <td>203</td>\n",
       "      <td>0.110204</td>\n",
       "      <td>Information/Explanation</td>\n",
       "      <td>0.999019</td>\n",
       "    </tr>\n",
       "    <tr>\n",
       "      <th>1477797</th>\n",
       "      <td>No</td>\n",
       "      <td>sl-orig</td>\n",
       "      <td>https://oblacila.si/regard-regard-cevlji-derby...</td>\n",
       "      <td>A</td>\n",
       "      <td>MIX</td>\n",
       "      <td>https://oblacila.si/karrimor-karrimor-resolve-...</td>\n",
       "      <td>oblacila.si</td>\n",
       "      <td>oblacila.si</td>\n",
       "      <td>0.824000</td>\n",
       "      <td>The shoes fit well to the shape of the foot, t...</td>\n",
       "      <td>Zgornji del je izdelan iz kakovostne razteglji...</td>\n",
       "      <td>84</td>\n",
       "      <td>42</td>\n",
       "      <td>0.127273</td>\n",
       "      <td>Promotion</td>\n",
       "      <td>0.998912</td>\n",
       "    </tr>\n",
       "    <tr>\n",
       "      <th>154445</th>\n",
       "      <td>No</td>\n",
       "      <td>sl-orig</td>\n",
       "      <td>https://www.ntf.uni-lj.si/ntf/en/notification/...</td>\n",
       "      <td>A</td>\n",
       "      <td>B</td>\n",
       "      <td>https://www.ntf.uni-lj.si/ogro/news/informativ...</td>\n",
       "      <td>ntf.uni-lj.si</td>\n",
       "      <td>ntf.uni-lj.si</td>\n",
       "      <td>0.855000</td>\n",
       "      <td>Geotechnology Department of Geotechnology, Min...</td>\n",
       "      <td>Informativni dan za 2. in 3. stopnjo Informati...</td>\n",
       "      <td>208</td>\n",
       "      <td>107</td>\n",
       "      <td>0.174194</td>\n",
       "      <td>Information/Explanation</td>\n",
       "      <td>0.998925</td>\n",
       "    </tr>\n",
       "    <tr>\n",
       "      <th>291402</th>\n",
       "      <td>No</td>\n",
       "      <td>sl-orig</td>\n",
       "      <td>https://www.sng-ng.si/en/repertory/archive/per...</td>\n",
       "      <td>UNK</td>\n",
       "      <td>B</td>\n",
       "      <td>https://sng-ng.si/repertoar/arhiv/predstave/20...</td>\n",
       "      <td>sng-ng.si</td>\n",
       "      <td>sng-ng.si</td>\n",
       "      <td>0.846714</td>\n",
       "      <td>When, in the middle of a night, a successful m...</td>\n",
       "      <td>Ko se sredi noči uspešnež z ženo in prijateljs...</td>\n",
       "      <td>195</td>\n",
       "      <td>156</td>\n",
       "      <td>0.085106</td>\n",
       "      <td>Opinion/Argumentation</td>\n",
       "      <td>0.998021</td>\n",
       "    </tr>\n",
       "    <tr>\n",
       "      <th>...</th>\n",
       "      <td>...</td>\n",
       "      <td>...</td>\n",
       "      <td>...</td>\n",
       "      <td>...</td>\n",
       "      <td>...</td>\n",
       "      <td>...</td>\n",
       "      <td>...</td>\n",
       "      <td>...</td>\n",
       "      <td>...</td>\n",
       "      <td>...</td>\n",
       "      <td>...</td>\n",
       "      <td>...</td>\n",
       "      <td>...</td>\n",
       "      <td>...</td>\n",
       "      <td>...</td>\n",
       "      <td>...</td>\n",
       "    </tr>\n",
       "    <tr>\n",
       "      <th>2158339</th>\n",
       "      <td>No</td>\n",
       "      <td>sl-orig</td>\n",
       "      <td>https://ikss.zrc-sazu.si/en/programi-in-projek...</td>\n",
       "      <td>B</td>\n",
       "      <td>B</td>\n",
       "      <td>https://ikss.zrc-sazu.si/sl/programi-in-projek...</td>\n",
       "      <td>ikss.zrc-sazu.si</td>\n",
       "      <td>ikss.zrc-sazu.si</td>\n",
       "      <td>0.950333</td>\n",
       "      <td>The project theorises multicultural heritage a...</td>\n",
       "      <td>Projekt zasnuje koncept večkulturne dediščine ...</td>\n",
       "      <td>75</td>\n",
       "      <td>72</td>\n",
       "      <td>0.083333</td>\n",
       "      <td>Information/Explanation</td>\n",
       "      <td>0.998955</td>\n",
       "    </tr>\n",
       "    <tr>\n",
       "      <th>481526</th>\n",
       "      <td>No</td>\n",
       "      <td>sl-orig</td>\n",
       "      <td>https://www.uni-lj.si/academies_and_faculties/...</td>\n",
       "      <td>UNK</td>\n",
       "      <td>B</td>\n",
       "      <td>https://www.uni-lj.si/studij/clanice</td>\n",
       "      <td>uni-lj.si</td>\n",
       "      <td>uni-lj.si</td>\n",
       "      <td>0.933917</td>\n",
       "      <td>FACULTY OF COMPUTER AND INFORMATION SCIENCE Th...</td>\n",
       "      <td>Biotehniška fakulteta Temeljno poslanstvo Biot...</td>\n",
       "      <td>306</td>\n",
       "      <td>342</td>\n",
       "      <td>0.060241</td>\n",
       "      <td>Information/Explanation</td>\n",
       "      <td>0.992803</td>\n",
       "    </tr>\n",
       "    <tr>\n",
       "      <th>598950</th>\n",
       "      <td>No</td>\n",
       "      <td>sl-orig</td>\n",
       "      <td>https://www.fdv.uni-lj.si/en/study/departments...</td>\n",
       "      <td>B</td>\n",
       "      <td>MIX</td>\n",
       "      <td>https://www.fdv.uni-lj.si/studij/oddelki-in-ka...</td>\n",
       "      <td>fdv.uni-lj.si</td>\n",
       "      <td>fdv.uni-lj.si</td>\n",
       "      <td>0.967833</td>\n",
       "      <td>The December meeting of the \"Open Data\" The fo...</td>\n",
       "      <td>Decembrsko srečanje »Open data« Že četrto leto...</td>\n",
       "      <td>117</td>\n",
       "      <td>91</td>\n",
       "      <td>0.073529</td>\n",
       "      <td>Promotion</td>\n",
       "      <td>0.821992</td>\n",
       "    </tr>\n",
       "    <tr>\n",
       "      <th>2848706</th>\n",
       "      <td>No</td>\n",
       "      <td>sl-orig</td>\n",
       "      <td>https://support.microsoft.com/en-us/topic/use-...</td>\n",
       "      <td>A</td>\n",
       "      <td>A</td>\n",
       "      <td>https://support.microsoft.com/sl-si/office/raz...</td>\n",
       "      <td>support.microsoft.com</td>\n",
       "      <td>support.microsoft.com</td>\n",
       "      <td>0.911510</td>\n",
       "      <td>Heading level 2: The name of the channel Headi...</td>\n",
       "      <td>Enkrat pritisnite tipko TAB, da premaknete fok...</td>\n",
       "      <td>3038</td>\n",
       "      <td>3782</td>\n",
       "      <td>0.111234</td>\n",
       "      <td>Instruction</td>\n",
       "      <td>0.998689</td>\n",
       "    </tr>\n",
       "    <tr>\n",
       "      <th>1645442</th>\n",
       "      <td>Yes</td>\n",
       "      <td>sl-orig</td>\n",
       "      <td>http://2013.festivalmaribor.si/en/performers/b...</td>\n",
       "      <td>UNK</td>\n",
       "      <td>B</td>\n",
       "      <td>http://2013.festivalmaribor.si/izvajalci/bostj...</td>\n",
       "      <td>2013.festivalmaribor.si</td>\n",
       "      <td>2013.festivalmaribor.si</td>\n",
       "      <td>0.968000</td>\n",
       "      <td>Boštjan Lipovšek comes from a musical family w...</td>\n",
       "      <td>Boštjan Lipovšek izhaja iz glasbene družine, v...</td>\n",
       "      <td>96</td>\n",
       "      <td>83</td>\n",
       "      <td>0.119266</td>\n",
       "      <td>Information/Explanation</td>\n",
       "      <td>0.999125</td>\n",
       "    </tr>\n",
       "  </tbody>\n",
       "</table>\n",
       "<p>100 rows × 16 columns</p>\n",
       "</div>"
      ],
      "text/plain": [
       "        biroamer_entities translation_direction  \\\n",
       "2186273                No               sl-orig   \n",
       "179779                 No               sl-orig   \n",
       "1477797                No               sl-orig   \n",
       "154445                 No               sl-orig   \n",
       "291402                 No               sl-orig   \n",
       "...                   ...                   ...   \n",
       "2158339                No               sl-orig   \n",
       "481526                 No               sl-orig   \n",
       "598950                 No               sl-orig   \n",
       "2848706                No               sl-orig   \n",
       "1645442               Yes               sl-orig   \n",
       "\n",
       "                                                 en_source en_var_doc  \\\n",
       "2186273                                https://cisotra.eu/          B   \n",
       "179779      http://psiholoska-obzorja.si/en/article?id=392          A   \n",
       "1477797  https://oblacila.si/regard-regard-cevlji-derby...          A   \n",
       "154445   https://www.ntf.uni-lj.si/ntf/en/notification/...          A   \n",
       "291402   https://www.sng-ng.si/en/repertory/archive/per...        UNK   \n",
       "...                                                    ...        ...   \n",
       "2158339  https://ikss.zrc-sazu.si/en/programi-in-projek...          B   \n",
       "481526   https://www.uni-lj.si/academies_and_faculties/...        UNK   \n",
       "598950   https://www.fdv.uni-lj.si/en/study/departments...          B   \n",
       "2848706  https://support.microsoft.com/en-us/topic/use-...          A   \n",
       "1645442  http://2013.festivalmaribor.si/en/performers/b...        UNK   \n",
       "\n",
       "        en_var_dom                                          sl_source  \\\n",
       "2186273        MIX          https://cisotra.eu/sl/o-projektu-cisotra/   \n",
       "179779         MIX        http://psiholoska-obzorja.si/article?id=392   \n",
       "1477797        MIX  https://oblacila.si/karrimor-karrimor-resolve-...   \n",
       "154445           B  https://www.ntf.uni-lj.si/ogro/news/informativ...   \n",
       "291402           B  https://sng-ng.si/repertoar/arhiv/predstave/20...   \n",
       "...            ...                                                ...   \n",
       "2158339          B  https://ikss.zrc-sazu.si/sl/programi-in-projek...   \n",
       "481526           B               https://www.uni-lj.si/studij/clanice   \n",
       "598950         MIX  https://www.fdv.uni-lj.si/studij/oddelki-in-ka...   \n",
       "2848706          A  https://support.microsoft.com/sl-si/office/raz...   \n",
       "1645442          B  http://2013.festivalmaribor.si/izvajalci/bostj...   \n",
       "\n",
       "                       en_domain                sl_domain  average_score  \\\n",
       "2186273               cisotra.eu               cisotra.eu       0.915000   \n",
       "179779     psiholoska-obzorja.si    psiholoska-obzorja.si       0.963875   \n",
       "1477797              oblacila.si              oblacila.si       0.824000   \n",
       "154445             ntf.uni-lj.si            ntf.uni-lj.si       0.855000   \n",
       "291402                 sng-ng.si                sng-ng.si       0.846714   \n",
       "...                          ...                      ...            ...   \n",
       "2158339         ikss.zrc-sazu.si         ikss.zrc-sazu.si       0.950333   \n",
       "481526                 uni-lj.si                uni-lj.si       0.933917   \n",
       "598950             fdv.uni-lj.si            fdv.uni-lj.si       0.967833   \n",
       "2848706    support.microsoft.com    support.microsoft.com       0.911510   \n",
       "1645442  2013.festivalmaribor.si  2013.festivalmaribor.si       0.968000   \n",
       "\n",
       "                                                    en_doc  \\\n",
       "2186273  CiSoTRA Civil Society for social inclusion of ...   \n",
       "179779   We can distinguish healthy narcissism, an appr...   \n",
       "1477797  The shoes fit well to the shape of the foot, t...   \n",
       "154445   Geotechnology Department of Geotechnology, Min...   \n",
       "291402   When, in the middle of a night, a successful m...   \n",
       "...                                                    ...   \n",
       "2158339  The project theorises multicultural heritage a...   \n",
       "481526   FACULTY OF COMPUTER AND INFORMATION SCIENCE Th...   \n",
       "598950   The December meeting of the \"Open Data\" The fo...   \n",
       "2848706  Heading level 2: The name of the channel Headi...   \n",
       "1645442  Boštjan Lipovšek comes from a musical family w...   \n",
       "\n",
       "                                                    sl_doc  en_length  \\\n",
       "2186273  Naslov projekta: Civilna družba in socialno vk...        211   \n",
       "179779   Povzetek: Ločimo zdrav narcisizem, ki se kaže ...        204   \n",
       "1477797  Zgornji del je izdelan iz kakovostne razteglji...         84   \n",
       "154445   Informativni dan za 2. in 3. stopnjo Informati...        208   \n",
       "291402   Ko se sredi noči uspešnež z ženo in prijateljs...        195   \n",
       "...                                                    ...        ...   \n",
       "2158339  Projekt zasnuje koncept večkulturne dediščine ...         75   \n",
       "481526   Biotehniška fakulteta Temeljno poslanstvo Biot...        306   \n",
       "598950   Decembrsko srečanje »Open data« Že četrto leto...        117   \n",
       "2848706  Enkrat pritisnite tipko TAB, da premaknete fok...       3038   \n",
       "1645442  Boštjan Lipovšek izhaja iz glasbene družine, v...         96   \n",
       "\n",
       "         sl_length  punct_ratio                  X-GENRE  label_distribution  \n",
       "2186273        562     0.077236  Information/Explanation            0.995965  \n",
       "179779         203     0.110204  Information/Explanation            0.999019  \n",
       "1477797         42     0.127273                Promotion            0.998912  \n",
       "154445         107     0.174194  Information/Explanation            0.998925  \n",
       "291402         156     0.085106    Opinion/Argumentation            0.998021  \n",
       "...            ...          ...                      ...                 ...  \n",
       "2158339         72     0.083333  Information/Explanation            0.998955  \n",
       "481526         342     0.060241  Information/Explanation            0.992803  \n",
       "598950          91     0.073529                Promotion            0.821992  \n",
       "2848706       3782     0.111234              Instruction            0.998689  \n",
       "1645442         83     0.119266  Information/Explanation            0.999125  \n",
       "\n",
       "[100 rows x 16 columns]"
      ]
     },
     "execution_count": 60,
     "metadata": {},
     "output_type": "execute_result"
    }
   ],
   "source": [
    "sample_predicted"
   ]
  },
  {
   "cell_type": "code",
   "execution_count": 125,
   "metadata": {},
   "outputs": [
    {
     "data": {
      "text/plain": [
       "(100, 18)"
      ]
     },
     "execution_count": 125,
     "metadata": {},
     "output_type": "execute_result"
    }
   ],
   "source": [
    "sample_predicted.shape"
   ]
  },
  {
   "cell_type": "code",
   "execution_count": 126,
   "metadata": {},
   "outputs": [
    {
     "data": {
      "text/plain": [
       "Information/Explanation    0.37\n",
       "Promotion                  0.35\n",
       "Instruction                0.09\n",
       "News                       0.07\n",
       "Opinion/Argumentation      0.04\n",
       "Forum                      0.04\n",
       "Legal                      0.02\n",
       "Other                      0.02\n",
       "Name: X-GENRE, dtype: float64"
      ]
     },
     "execution_count": 126,
     "metadata": {},
     "output_type": "execute_result"
    }
   ],
   "source": [
    "# Analyze label distribution\n",
    "sample_predicted[\"X-GENRE\"].value_counts(normalize=True)"
   ]
  },
  {
   "cell_type": "code",
   "execution_count": 127,
   "metadata": {},
   "outputs": [
    {
     "data": {
      "text/plain": [
       "count    100.000000\n",
       "mean       0.963065\n",
       "std        0.105893\n",
       "min        0.477552\n",
       "25%        0.996548\n",
       "50%        0.998755\n",
       "75%        0.998971\n",
       "max        0.999106\n",
       "Name: label_distribution, dtype: float64"
      ]
     },
     "execution_count": 127,
     "metadata": {},
     "output_type": "execute_result"
    }
   ],
   "source": [
    "# Analyze the softmax values\n",
    "sample_predicted[\"label_distribution\"].describe()"
   ]
  },
  {
   "cell_type": "markdown",
   "metadata": {},
   "source": [
    "Most values are very high."
   ]
  },
  {
   "cell_type": "code",
   "execution_count": 3,
   "metadata": {},
   "outputs": [
    {
     "data": {
      "text/html": [
       "<div>\n",
       "<style scoped>\n",
       "    .dataframe tbody tr th:only-of-type {\n",
       "        vertical-align: middle;\n",
       "    }\n",
       "\n",
       "    .dataframe tbody tr th {\n",
       "        vertical-align: top;\n",
       "    }\n",
       "\n",
       "    .dataframe thead th {\n",
       "        text-align: right;\n",
       "    }\n",
       "</style>\n",
       "<table border=\"1\" class=\"dataframe\">\n",
       "  <thead>\n",
       "    <tr style=\"text-align: right;\">\n",
       "      <th></th>\n",
       "      <th>biroamer_entities</th>\n",
       "      <th>translation_direction</th>\n",
       "      <th>en_source</th>\n",
       "      <th>en_var_doc</th>\n",
       "      <th>en_var_dom</th>\n",
       "      <th>sl_source</th>\n",
       "      <th>en_domain</th>\n",
       "      <th>sl_domain</th>\n",
       "      <th>same_domains</th>\n",
       "      <th>different_domains</th>\n",
       "      <th>average_score</th>\n",
       "      <th>en_doc</th>\n",
       "      <th>sl_doc</th>\n",
       "      <th>en_length</th>\n",
       "      <th>sl_length</th>\n",
       "      <th>output</th>\n",
       "      <th>X-GENRE</th>\n",
       "      <th>label_distribution</th>\n",
       "      <th>analysis</th>\n",
       "      <th>comments</th>\n",
       "    </tr>\n",
       "  </thead>\n",
       "  <tbody>\n",
       "    <tr>\n",
       "      <th>1887229</th>\n",
       "      <td>Yes</td>\n",
       "      <td>sl-orig</td>\n",
       "      <td>https://www.europarl.europa.eu/doceo/document/...</td>\n",
       "      <td>B</td>\n",
       "      <td>B</td>\n",
       "      <td>https://www.europarl.europa.eu/doceo/document/...</td>\n",
       "      <td>europarl.europa.eu</td>\n",
       "      <td>europarl.europa.eu</td>\n",
       "      <td>yes</td>\n",
       "      <td>europarl.europa.eu europarl.europa.eu</td>\n",
       "      <td>0.838333</td>\n",
       "      <td>Implementation of EU requirements for exchange...</td>\n",
       "      <td>Varnostne razmere v Burkina Fasu Izjava podpre...</td>\n",
       "      <td>101</td>\n",
       "      <td>119</td>\n",
       "      <td>(['News'], array([[-1.33398438,  2.00195312,  ...</td>\n",
       "      <td>News</td>\n",
       "      <td>0.991544</td>\n",
       "      <td>Non-textual</td>\n",
       "      <td>not suitable: samo naštevanje naslovov, mi bi ...</td>\n",
       "    </tr>\n",
       "    <tr>\n",
       "      <th>799225</th>\n",
       "      <td>No</td>\n",
       "      <td>sl-orig</td>\n",
       "      <td>https://www.grafolit.si/en/about_us.html</td>\n",
       "      <td>UNK</td>\n",
       "      <td>B</td>\n",
       "      <td>https://www.grafolit.si/onas.html</td>\n",
       "      <td>grafolit.si</td>\n",
       "      <td>grafolit.si</td>\n",
       "      <td>yes</td>\n",
       "      <td>grafolit.si grafolit.si</td>\n",
       "      <td>0.926091</td>\n",
       "      <td>DEVELOPMENT AND SHORT HISTORY The company was ...</td>\n",
       "      <td>RAZVOJ IN KRATKA ZGODOVINA Podjetje je ustanov...</td>\n",
       "      <td>463</td>\n",
       "      <td>223</td>\n",
       "      <td>(['Information/Explanation'], array([[-0.68066...</td>\n",
       "      <td>Information/Explanation</td>\n",
       "      <td>0.999070</td>\n",
       "      <td>Information/Explanation</td>\n",
       "      <td>NaN</td>\n",
       "    </tr>\n",
       "    <tr>\n",
       "      <th>1001538</th>\n",
       "      <td>No</td>\n",
       "      <td>sl-orig</td>\n",
       "      <td>https://oblacila.si/nike-nike-advance-polo-shi...</td>\n",
       "      <td>A</td>\n",
       "      <td>MIX</td>\n",
       "      <td>https://oblacila.si/craft-craft-fuseknit-light...</td>\n",
       "      <td>oblacila.si</td>\n",
       "      <td>oblacila.si</td>\n",
       "      <td>yes</td>\n",
       "      <td>oblacila.si oblacila.si</td>\n",
       "      <td>0.814500</td>\n",
       "      <td>Smooth T-shirt with a round neckline. Smooth T...</td>\n",
       "      <td>Izdelana je iz 100% bombaža, ki zelo dobro dih...</td>\n",
       "      <td>188</td>\n",
       "      <td>63</td>\n",
       "      <td>(['Promotion'], array([[-0.60498047, -0.895507...</td>\n",
       "      <td>Promotion</td>\n",
       "      <td>0.998907</td>\n",
       "      <td>Promotion</td>\n",
       "      <td>besedilo v angleščini se ponavlja, mogoče neka...</td>\n",
       "    </tr>\n",
       "  </tbody>\n",
       "</table>\n",
       "</div>"
      ],
      "text/plain": [
       "        biroamer_entities translation_direction  \\\n",
       "1887229               Yes               sl-orig   \n",
       "799225                 No               sl-orig   \n",
       "1001538                No               sl-orig   \n",
       "\n",
       "                                                 en_source en_var_doc  \\\n",
       "1887229  https://www.europarl.europa.eu/doceo/document/...          B   \n",
       "799225            https://www.grafolit.si/en/about_us.html        UNK   \n",
       "1001538  https://oblacila.si/nike-nike-advance-polo-shi...          A   \n",
       "\n",
       "        en_var_dom                                          sl_source  \\\n",
       "1887229          B  https://www.europarl.europa.eu/doceo/document/...   \n",
       "799225           B                  https://www.grafolit.si/onas.html   \n",
       "1001538        MIX  https://oblacila.si/craft-craft-fuseknit-light...   \n",
       "\n",
       "                  en_domain           sl_domain same_domains  \\\n",
       "1887229  europarl.europa.eu  europarl.europa.eu          yes   \n",
       "799225          grafolit.si         grafolit.si          yes   \n",
       "1001538         oblacila.si         oblacila.si          yes   \n",
       "\n",
       "                             different_domains  average_score  \\\n",
       "1887229  europarl.europa.eu europarl.europa.eu       0.838333   \n",
       "799225                 grafolit.si grafolit.si       0.926091   \n",
       "1001538                oblacila.si oblacila.si       0.814500   \n",
       "\n",
       "                                                    en_doc  \\\n",
       "1887229  Implementation of EU requirements for exchange...   \n",
       "799225   DEVELOPMENT AND SHORT HISTORY The company was ...   \n",
       "1001538  Smooth T-shirt with a round neckline. Smooth T...   \n",
       "\n",
       "                                                    sl_doc  en_length  \\\n",
       "1887229  Varnostne razmere v Burkina Fasu Izjava podpre...        101   \n",
       "799225   RAZVOJ IN KRATKA ZGODOVINA Podjetje je ustanov...        463   \n",
       "1001538  Izdelana je iz 100% bombaža, ki zelo dobro dih...        188   \n",
       "\n",
       "         sl_length                                             output  \\\n",
       "1887229        119  (['News'], array([[-1.33398438,  2.00195312,  ...   \n",
       "799225         223  (['Information/Explanation'], array([[-0.68066...   \n",
       "1001538         63  (['Promotion'], array([[-0.60498047, -0.895507...   \n",
       "\n",
       "                         X-GENRE  label_distribution                 analysis  \\\n",
       "1887229                     News            0.991544              Non-textual   \n",
       "799225   Information/Explanation            0.999070  Information/Explanation   \n",
       "1001538                Promotion            0.998907                Promotion   \n",
       "\n",
       "                                                  comments  \n",
       "1887229  not suitable: samo naštevanje naslovov, mi bi ...  \n",
       "799225                                                 NaN  \n",
       "1001538  besedilo v angleščini se ponavlja, mogoče neka...  "
      ]
     },
     "execution_count": 3,
     "metadata": {},
     "output_type": "execute_result"
    }
   ],
   "source": [
    "# Open the file with predictions which was manually analyses\n",
    "\n",
    "analysed_df = pd.read_csv(\"sample-corpus-predicted.csv\", sep=\"\\t\", index_col = 0)\n",
    "\n",
    "analysed_df.head(3)"
   ]
  },
  {
   "cell_type": "code",
   "execution_count": 134,
   "metadata": {},
   "outputs": [
    {
     "data": {
      "text/plain": [
       "Promotion                  36\n",
       "Information/Explanation    31\n",
       "Non-textual                13\n",
       "Instruction                 9\n",
       "Opinion/Argumentation       4\n",
       "News                        3\n",
       "Legal                       3\n",
       "Other                       1\n",
       "Name: analysis, dtype: int64"
      ]
     },
     "execution_count": 134,
     "metadata": {},
     "output_type": "execute_result"
    }
   ],
   "source": [
    "# Analyze distribution of manually assigned labels\n",
    "analysed_df.analysis.value_counts()"
   ]
  },
  {
   "cell_type": "code",
   "execution_count": 5,
   "metadata": {},
   "outputs": [
    {
     "name": "stdout",
     "output_type": "stream",
     "text": [
      "Dejan Habicht - Zvočni film / Sound Movie (00:05:22) Subtitle: 12 dolgočasnih pesmi Production: Center in Galerija P74, 2007 The sound of an airplane over a forest. Dejan Habicht - Nevarni vzorci Subtitle: 12 dolgočasnih pesmi Production: Center in Galerija P74, 2006 Dangerous Patterns is an electronic book, which can be printed at home (557KB). Dejan Habicht - die Heißeste Nummer Subtitle: 12 dolgočasnih pesmi Production: Center in Galerija P74, 2004/06 die Heißeste Nummer / The Hottest Number is an e-book that one can print at home. Saša Spačal - 7K: new life form (00:10:13) Production: Saša Spačal, Muzej sodobne umetnosti Metelkova - MSUM+, 2016 The video conceptually reflects on 7K: new life form, an artwork by Saša Spačal.\n",
      "0.9986470725751748\n",
      "Instructions for use of QR Code for FOTO LADO d.o.o. Click here for further information. Instructions for use of QR Code for STROPNIK RADO s.p. Instructions for use of QR Code for STROPNIK RADO s.p. Instructions for use of QR Code for PETER KLINC s.p. Click here for further information. Instructions for use of QR Code for FOTO M DAVORIN FLIS S.P. Click here for further information. Instructions for use of QR Code for FOTO M DAVORIN FLIS S.P. Click here for further information. Instructions for use of QR Code for FOTO M DAVORIN FLIS S.P. Click here for further information. Instructions for use of QR Code for FOTO M DAVORIN FLIS S.P. Instructions for use of QR Code for FOTO M DAVORIN FLIS S.P. Click here for further information. Instructions for use of QR Code for FOTO M DAVORIN FLIS S.P. Click here for further information. Instructions for use of QR Code for FOTO M DAVORIN FLIS S.P. Click here for further information. Instructions for use of QR Code for FOTO M DAVORIN FLIS S.P. Instructions for use of QR Code for FOTO M DAVORIN FLIS S.P. Instructions for use of QR Code for FOTO M DAVORIN FLIS S.P. Instructions for use of QR Code for FOTO M DAVORIN FLIS S.P. Instructions for use of QR Code for FOTO HOST, Hozyan Štefan, s.p. Instructions for use of QR Code for FOTO HOST, Hozyan Štefan, s.p. Instructions for use of QR Code for FOTO HOST, Hozyan Štefan, s.p. Instructions for use of QR Code for FOTO IVKO, KARMEN KOGAL S.P. Instructions for use of QR Code for FOTO IVKO, KARMEN KOGAL S.P. Instructions for use of QR Code for FOTO KLAVDIJA, Kobal Klavdija, s.p. Instructions for use of QR Code for FOTO KLAVDIJA, Kobal Klavdija, s.p. Instructions for use of QR Code for FOTO KLAVDIJA, Kobal Klavdija, s.p.\n",
      "0.998311095111016\n",
      "The former village of the Gottschee Germans is situated in a place with a view, near the round hilltop. German word… This former village of the Gottschee Germans is situated in a location to the west of Polom, in a hilly… The former village of the Gottschee Germans is situated right at the edge, in the southeast of a system of… This former village of the Gottschee Germans is situated on the eastern, rather gently sloping, side of the peak of… The former village of the Gottschee Germans is situated right at the edge, in the southeast of a system of… This former village of the Gottschee Germans is situated on the eastern, rather gently sloping, side of the peak of… The former village of the Gottschee Germans is situated in a Carst basin between Kočevski Rog in the north and… This former village of the Gottschee Germans is situated in the middle of the woods near the mountain Rog and… Once a workers’ settlement, Jelendol is situated in a wavy, woodsy world, next to the road between Dolenja Vas and… This former village of the Gottschee Germans is situated in the middle of the woods near the mountain Rog and… Once a workers’ settlement, Jelendol is situated in a wavy, woodsy world, next to the road between Dolenja Vas and… The abandoned village of the Gottschee Germans is situated in the valley of Verderb and Verdreng or the Podleška valley,… The abandoned village of the Gottschee Germans is situated in the valley of Verderb and Verdreng or the Podleška valley,… Nosilec projekta The abandoned village of the Gottschee Germans is situated in the valley of Verderb and Verdreng or the Podleška valley,… Nosilec projekta\n",
      "0.9989704510248892\n"
     ]
    }
   ],
   "source": [
    "# Analyze the characteristics of non-textual texts that were not removed with additional processing\n",
    "remaining_non_textual = [150635, 2754062, 84675]\n",
    "\n",
    "\n",
    "for i in remaining_non_textual:\n",
    "\tprint(analysed_df.loc[i].en_doc)\n",
    "\tprint(analysed_df.loc[i].label_distribution)\n"
   ]
  },
  {
   "cell_type": "code",
   "execution_count": 135,
   "metadata": {},
   "outputs": [
    {
     "data": {
      "text/plain": [
       "(87, 20)"
      ]
     },
     "execution_count": 135,
     "metadata": {},
     "output_type": "execute_result"
    }
   ],
   "source": [
    "# Discard texts that are in reality non-textual from the analysis\n",
    "analysed_cleaned = analysed_df[analysed_df[\"analysis\"]!= \"Non-textual\"]\n",
    "analysed_cleaned.shape"
   ]
  },
  {
   "cell_type": "code",
   "execution_count": 143,
   "metadata": {},
   "outputs": [
    {
     "name": "stdout",
     "output_type": "stream",
     "text": [
      "['Information/Explanation' 'Promotion' 'Opinion/Argumentation' 'News'\n",
      " 'Instruction' 'Legal' 'Other']\n",
      "['Information/Explanation' 'Promotion' 'Opinion/Argumentation' 'News'\n",
      " 'Instruction' 'Legal' 'Forum' 'Other']\n"
     ]
    }
   ],
   "source": [
    "# Define labels that are present in the sample\n",
    "print(analysed_cleaned.analysis.unique())\n",
    "print(analysed_cleaned[\"X-GENRE\"].unique())\n",
    "\n",
    "\n",
    "LABELS = ['Information/Explanation', 'Promotion', 'Opinion/Argumentation', 'News', 'Instruction', 'Legal', 'Forum', 'Other']"
   ]
  },
  {
   "cell_type": "code",
   "execution_count": 147,
   "metadata": {},
   "outputs": [
    {
     "name": "stdout",
     "output_type": "stream",
     "text": [
      "Macro f1: 0.663, Micro f1: 0.908\n"
     ]
    },
    {
     "data": {
      "image/png": "[encoded data removed]",
      "text/plain": [
       "<Figure size 648x648 with 1 Axes>"
      ]
     },
     "metadata": {
      "needs_background": "light"
     },
     "output_type": "display_data"
    },
    {
     "name": "stdout",
     "output_type": "stream",
     "text": [
      "                         precision    recall  f1-score   support\n",
      "\n",
      "Information/Explanation       0.97      0.94      0.95        31\n",
      "              Promotion       0.97      0.92      0.94        36\n",
      "  Opinion/Argumentation       1.00      1.00      1.00         4\n",
      "                   News       0.50      1.00      0.67         3\n",
      "            Instruction       1.00      0.89      0.94         9\n",
      "                  Legal       1.00      0.67      0.80         3\n",
      "                  Forum       0.00      0.00      0.00         0\n",
      "                  Other       0.00      0.00      0.00         1\n",
      "\n",
      "               accuracy                           0.91        87\n",
      "              macro avg       0.68      0.68      0.66        87\n",
      "           weighted avg       0.95      0.91      0.92        87\n",
      "\n"
     ]
    },
    {
     "name": "stderr",
     "output_type": "stream",
     "text": [
      "/home/tajak/anaconda3/lib/python3.9/site-packages/sklearn/metrics/_classification.py:1248: UndefinedMetricWarning: Recall and F-score are ill-defined and being set to 0.0 in labels with no true samples. Use `zero_division` parameter to control this behavior.\n",
      "  _warn_prf(average, modifier, msg_start, len(result))\n",
      "/home/tajak/anaconda3/lib/python3.9/site-packages/sklearn/metrics/_classification.py:1248: UndefinedMetricWarning: Recall and F-score are ill-defined and being set to 0.0 in labels with no true samples. Use `zero_division` parameter to control this behavior.\n",
      "  _warn_prf(average, modifier, msg_start, len(result))\n",
      "/home/tajak/anaconda3/lib/python3.9/site-packages/sklearn/metrics/_classification.py:1248: UndefinedMetricWarning: Recall and F-score are ill-defined and being set to 0.0 in labels with no true samples. Use `zero_division` parameter to control this behavior.\n",
      "  _warn_prf(average, modifier, msg_start, len(result))\n"
     ]
    },
    {
     "data": {
      "text/plain": [
       "<Figure size 432x288 with 0 Axes>"
      ]
     },
     "metadata": {},
     "output_type": "display_data"
    }
   ],
   "source": [
    "# Analyse results\n",
    "y_true = analysed_cleaned[\"analysis\"].to_list()\n",
    "y_pred = analysed_cleaned[\"X-GENRE\"].to_list()\n",
    "\n",
    "# Calculate the scores\n",
    "macro = f1_score(y_true, y_pred, labels=LABELS, average=\"macro\")\n",
    "micro = f1_score(y_true, y_pred, labels=LABELS,  average=\"micro\")\n",
    "\n",
    "print(f\"Macro f1: {macro:0.3}, Micro f1: {micro:0.3}\")\n",
    "\n",
    "# Plot the confusion matrix:\n",
    "cm = confusion_matrix(y_true, y_pred, labels=LABELS)\n",
    "plt.figure(figsize=(9, 9))\n",
    "plt.imshow(cm, cmap=\"Oranges\")\n",
    "for (i, j), z in np.ndenumerate(cm):\n",
    "\tplt.text(j, i, '{:d}'.format(z), ha='center', va='center')\n",
    "classNames = LABELS\n",
    "plt.ylabel('True label')\n",
    "plt.xlabel('Predicted label')\n",
    "tick_marks = np.arange(len(classNames))\n",
    "plt.xticks(tick_marks, classNames, rotation=90)\n",
    "plt.yticks(tick_marks, classNames)\n",
    "plt.title(f\"Confusion matrix for a sample of 100 instances\")\n",
    "\n",
    "plt.tight_layout()\n",
    "fig1 = plt.gcf()\n",
    "plt.show()\n",
    "plt.draw()\n",
    "# Save the confusion matrix\n",
    "fig1.savefig(f\"Confusion-matrix-predicted-sample.png\",dpi=100)\n",
    "\n",
    "# Print classification report\n",
    "print(classification_report(y_true, y_pred, labels = LABELS))"
   ]
  }
 ],
 "metadata": {
  "kernelspec": {
   "display_name": "Python 3.9.7 ('base')",
   "language": "python",
   "name": "python3"
  },
  "language_info": {
   "codemirror_mode": {
    "name": "ipython",
    "version": 3
   },
   "file_extension": ".py",
   "mimetype": "text/x-python",
   "name": "python",
   "nbconvert_exporter": "python",
   "pygments_lexer": "ipython3",
   "version": "3.9.7"
  },
  "orig_nbformat": 4,
  "vscode": {
   "interpreter": {
    "hash": "7e373e41fe05b496006fe2fc132d7af19f1d513370c44925a0044a5f3ee41336"
   }
  }
 },
 "nbformat": 4,
 "nbformat_minor": 2
}
