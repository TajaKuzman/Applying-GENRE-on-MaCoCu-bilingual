{
 "cells": [
  {
   "cell_type": "markdown",
   "metadata": {},
   "source": [
    "# Post-processing of predicted data\n",
    "\n",
    "Based on the foundings of the manual analysis, we will post-process the data to get reliable results:\n",
    "* predictions will be removed from texts, labeled as \"Other\" or \"Forum\"\n",
    "* predictions will be removed from texts where the prediction confidence is below 0.9\n",
    "\n",
    "The analysis of results (in terms of connection of genres and language varieties) is then done on post-processed data."
   ]
  },
  {
   "cell_type": "code",
   "execution_count": 1,
   "metadata": {},
   "outputs": [],
   "source": [
    "import pandas as pd\n",
    "import numpy as np"
   ]
  },
  {
   "cell_type": "code",
   "execution_count": 2,
   "metadata": {},
   "outputs": [
    {
     "data": {
      "text/html": [
       "<div>\n",
       "<style scoped>\n",
       "    .dataframe tbody tr th:only-of-type {\n",
       "        vertical-align: middle;\n",
       "    }\n",
       "\n",
       "    .dataframe tbody tr th {\n",
       "        vertical-align: top;\n",
       "    }\n",
       "\n",
       "    .dataframe thead th {\n",
       "        text-align: right;\n",
       "    }\n",
       "</style>\n",
       "<table border=\"1\" class=\"dataframe\">\n",
       "  <thead>\n",
       "    <tr style=\"text-align: right;\">\n",
       "      <th></th>\n",
       "      <th>biroamer_entities</th>\n",
       "      <th>translation_direction</th>\n",
       "      <th>en_source</th>\n",
       "      <th>en_var_doc</th>\n",
       "      <th>en_var_dom</th>\n",
       "      <th>is_source</th>\n",
       "      <th>en_domain</th>\n",
       "      <th>is_domain</th>\n",
       "      <th>average_score</th>\n",
       "      <th>en_doc</th>\n",
       "      <th>is_doc</th>\n",
       "      <th>en_length</th>\n",
       "      <th>is_length</th>\n",
       "      <th>X-GENRE</th>\n",
       "      <th>label_distribution</th>\n",
       "      <th>chosen_category_distr</th>\n",
       "    </tr>\n",
       "  </thead>\n",
       "  <tbody>\n",
       "    <tr>\n",
       "      <th>321109</th>\n",
       "      <td>No</td>\n",
       "      <td>en-orig</td>\n",
       "      <td>http://2way.is/</td>\n",
       "      <td>A</td>\n",
       "      <td>A</td>\n",
       "      <td>http://2way.is/is/</td>\n",
       "      <td>2way</td>\n",
       "      <td>2way</td>\n",
       "      <td>0.808083</td>\n",
       "      <td>Members can provide constructive feedback for ...</td>\n",
       "      <td>Notendur geta veitt endurgjöf á gististaði og ...</td>\n",
       "      <td>385</td>\n",
       "      <td>383</td>\n",
       "      <td>Instruction</td>\n",
       "      <td>{'Other': 0.0001, 'Information/Explanation': 0...</td>\n",
       "      <td>0.997964</td>\n",
       "    </tr>\n",
       "    <tr>\n",
       "      <th>267802</th>\n",
       "      <td>No</td>\n",
       "      <td>is-orig</td>\n",
       "      <td>http://aflafrettir.com/en/frettir/flokkur/19</td>\n",
       "      <td>UNK</td>\n",
       "      <td>UNK</td>\n",
       "      <td>http://aflafrettir.is/frettir/flokkur/19</td>\n",
       "      <td>aflafrettir</td>\n",
       "      <td>aflafrettir</td>\n",
       "      <td>0.787000</td>\n",
       "      <td>Skreigrunn with 41 tons in 4 trips,. Akom came...</td>\n",
       "      <td>Skreigrunn með 41 tonn í 4 róðrum . Ingvaldson...</td>\n",
       "      <td>230</td>\n",
       "      <td>214</td>\n",
       "      <td>Forum</td>\n",
       "      <td>{'Other': 0.0005, 'Information/Explanation': 0...</td>\n",
       "      <td>0.997729</td>\n",
       "    </tr>\n",
       "    <tr>\n",
       "      <th>207459</th>\n",
       "      <td>No</td>\n",
       "      <td>is-orig</td>\n",
       "      <td>http://aflafrettir.com/en/frettir/grein/16-cre...</td>\n",
       "      <td>UNK</td>\n",
       "      <td>UNK</td>\n",
       "      <td>http://aflafrettir.is/frettir/grein/16-manns-s...</td>\n",
       "      <td>aflafrettir</td>\n",
       "      <td>aflafrettir</td>\n",
       "      <td>0.841167</td>\n",
       "      <td>There have been quite a number of vessels fish...</td>\n",
       "      <td>Það hefur verið þónokkur fjöldi skipa á veiðum...</td>\n",
       "      <td>108</td>\n",
       "      <td>105</td>\n",
       "      <td>News</td>\n",
       "      <td>{'Other': 0.0001, 'Information/Explanation': 0...</td>\n",
       "      <td>0.998150</td>\n",
       "    </tr>\n",
       "  </tbody>\n",
       "</table>\n",
       "</div>"
      ],
      "text/plain": [
       "       biroamer_entities translation_direction  \\\n",
       "321109                No               en-orig   \n",
       "267802                No               is-orig   \n",
       "207459                No               is-orig   \n",
       "\n",
       "                                                en_source en_var_doc  \\\n",
       "321109                                    http://2way.is/          A   \n",
       "267802       http://aflafrettir.com/en/frettir/flokkur/19        UNK   \n",
       "207459  http://aflafrettir.com/en/frettir/grein/16-cre...        UNK   \n",
       "\n",
       "       en_var_dom                                          is_source  \\\n",
       "321109          A                                 http://2way.is/is/   \n",
       "267802        UNK           http://aflafrettir.is/frettir/flokkur/19   \n",
       "207459        UNK  http://aflafrettir.is/frettir/grein/16-manns-s...   \n",
       "\n",
       "          en_domain    is_domain  average_score  \\\n",
       "321109         2way         2way       0.808083   \n",
       "267802  aflafrettir  aflafrettir       0.787000   \n",
       "207459  aflafrettir  aflafrettir       0.841167   \n",
       "\n",
       "                                                   en_doc  \\\n",
       "321109  Members can provide constructive feedback for ...   \n",
       "267802  Skreigrunn with 41 tons in 4 trips,. Akom came...   \n",
       "207459  There have been quite a number of vessels fish...   \n",
       "\n",
       "                                                   is_doc  en_length  \\\n",
       "321109  Notendur geta veitt endurgjöf á gististaði og ...        385   \n",
       "267802  Skreigrunn með 41 tonn í 4 róðrum . Ingvaldson...        230   \n",
       "207459  Það hefur verið þónokkur fjöldi skipa á veiðum...        108   \n",
       "\n",
       "        is_length      X-GENRE  \\\n",
       "321109        383  Instruction   \n",
       "267802        214        Forum   \n",
       "207459        105         News   \n",
       "\n",
       "                                       label_distribution  \\\n",
       "321109  {'Other': 0.0001, 'Information/Explanation': 0...   \n",
       "267802  {'Other': 0.0005, 'Information/Explanation': 0...   \n",
       "207459  {'Other': 0.0001, 'Information/Explanation': 0...   \n",
       "\n",
       "        chosen_category_distr  \n",
       "321109               0.997964  \n",
       "267802               0.997729  \n",
       "207459               0.998150  "
      ]
     },
     "execution_count": 2,
     "metadata": {},
     "output_type": "execute_result"
    }
   ],
   "source": [
    "corpus = pd.read_csv(\"Macocu-is-en-predicted.csv\", sep = \"\\t\", index_col = 0)\n",
    "corpus.head(3)"
   ]
  },
  {
   "cell_type": "code",
   "execution_count": 3,
   "metadata": {},
   "outputs": [
    {
     "data": {
      "text/plain": [
       "(13174, 16)"
      ]
     },
     "execution_count": 3,
     "metadata": {},
     "output_type": "execute_result"
    }
   ],
   "source": [
    "# See initial number of texts\n",
    "corpus.shape"
   ]
  },
  {
   "cell_type": "code",
   "execution_count": 6,
   "metadata": {},
   "outputs": [
    {
     "name": "stdout",
     "output_type": "stream",
     "text": [
      "|                         |    X-GENRE |\n",
      "|:------------------------|-----------:|\n",
      "| Information/Explanation | 0.305526   |\n",
      "| News                    | 0.239866   |\n",
      "| Instruction             | 0.156445   |\n",
      "| Promotion               | 0.151359   |\n",
      "| Legal                   | 0.0575376  |\n",
      "| Opinion/Argumentation   | 0.0538181  |\n",
      "| Other                   | 0.024518   |\n",
      "| Forum                   | 0.00698345 |\n",
      "| Prose/Lyrical           | 0.00394717 |\n"
     ]
    }
   ],
   "source": [
    "print(corpus[\"X-GENRE\"].value_counts(normalize=True).to_markdown())"
   ]
  },
  {
   "cell_type": "code",
   "execution_count": 7,
   "metadata": {},
   "outputs": [
    {
     "data": {
      "text/html": [
       "<div>\n",
       "<style scoped>\n",
       "    .dataframe tbody tr th:only-of-type {\n",
       "        vertical-align: middle;\n",
       "    }\n",
       "\n",
       "    .dataframe tbody tr th {\n",
       "        vertical-align: top;\n",
       "    }\n",
       "\n",
       "    .dataframe thead th {\n",
       "        text-align: right;\n",
       "    }\n",
       "</style>\n",
       "<table border=\"1\" class=\"dataframe\">\n",
       "  <thead>\n",
       "    <tr style=\"text-align: right;\">\n",
       "      <th></th>\n",
       "      <th>biroamer_entities</th>\n",
       "      <th>translation_direction</th>\n",
       "      <th>en_source</th>\n",
       "      <th>en_var_doc</th>\n",
       "      <th>en_var_dom</th>\n",
       "      <th>is_source</th>\n",
       "      <th>en_domain</th>\n",
       "      <th>is_domain</th>\n",
       "      <th>average_score</th>\n",
       "      <th>en_doc</th>\n",
       "      <th>is_doc</th>\n",
       "      <th>en_length</th>\n",
       "      <th>is_length</th>\n",
       "      <th>X-GENRE</th>\n",
       "      <th>label_distribution</th>\n",
       "      <th>chosen_category_distr</th>\n",
       "      <th>final-X-GENRE</th>\n",
       "    </tr>\n",
       "  </thead>\n",
       "  <tbody>\n",
       "    <tr>\n",
       "      <th>321109</th>\n",
       "      <td>No</td>\n",
       "      <td>en-orig</td>\n",
       "      <td>http://2way.is/</td>\n",
       "      <td>A</td>\n",
       "      <td>A</td>\n",
       "      <td>http://2way.is/is/</td>\n",
       "      <td>2way</td>\n",
       "      <td>2way</td>\n",
       "      <td>0.808083</td>\n",
       "      <td>Members can provide constructive feedback for ...</td>\n",
       "      <td>Notendur geta veitt endurgjöf á gististaði og ...</td>\n",
       "      <td>385</td>\n",
       "      <td>383</td>\n",
       "      <td>Instruction</td>\n",
       "      <td>{'Other': 0.0001, 'Information/Explanation': 0...</td>\n",
       "      <td>0.997964</td>\n",
       "      <td>Instruction</td>\n",
       "    </tr>\n",
       "    <tr>\n",
       "      <th>267802</th>\n",
       "      <td>No</td>\n",
       "      <td>is-orig</td>\n",
       "      <td>http://aflafrettir.com/en/frettir/flokkur/19</td>\n",
       "      <td>UNK</td>\n",
       "      <td>UNK</td>\n",
       "      <td>http://aflafrettir.is/frettir/flokkur/19</td>\n",
       "      <td>aflafrettir</td>\n",
       "      <td>aflafrettir</td>\n",
       "      <td>0.787000</td>\n",
       "      <td>Skreigrunn with 41 tons in 4 trips,. Akom came...</td>\n",
       "      <td>Skreigrunn með 41 tonn í 4 róðrum . Ingvaldson...</td>\n",
       "      <td>230</td>\n",
       "      <td>214</td>\n",
       "      <td>Forum</td>\n",
       "      <td>{'Other': 0.0005, 'Information/Explanation': 0...</td>\n",
       "      <td>0.997729</td>\n",
       "      <td>Forum</td>\n",
       "    </tr>\n",
       "    <tr>\n",
       "      <th>207459</th>\n",
       "      <td>No</td>\n",
       "      <td>is-orig</td>\n",
       "      <td>http://aflafrettir.com/en/frettir/grein/16-cre...</td>\n",
       "      <td>UNK</td>\n",
       "      <td>UNK</td>\n",
       "      <td>http://aflafrettir.is/frettir/grein/16-manns-s...</td>\n",
       "      <td>aflafrettir</td>\n",
       "      <td>aflafrettir</td>\n",
       "      <td>0.841167</td>\n",
       "      <td>There have been quite a number of vessels fish...</td>\n",
       "      <td>Það hefur verið þónokkur fjöldi skipa á veiðum...</td>\n",
       "      <td>108</td>\n",
       "      <td>105</td>\n",
       "      <td>News</td>\n",
       "      <td>{'Other': 0.0001, 'Information/Explanation': 0...</td>\n",
       "      <td>0.998150</td>\n",
       "      <td>News</td>\n",
       "    </tr>\n",
       "  </tbody>\n",
       "</table>\n",
       "</div>"
      ],
      "text/plain": [
       "       biroamer_entities translation_direction  \\\n",
       "321109                No               en-orig   \n",
       "267802                No               is-orig   \n",
       "207459                No               is-orig   \n",
       "\n",
       "                                                en_source en_var_doc  \\\n",
       "321109                                    http://2way.is/          A   \n",
       "267802       http://aflafrettir.com/en/frettir/flokkur/19        UNK   \n",
       "207459  http://aflafrettir.com/en/frettir/grein/16-cre...        UNK   \n",
       "\n",
       "       en_var_dom                                          is_source  \\\n",
       "321109          A                                 http://2way.is/is/   \n",
       "267802        UNK           http://aflafrettir.is/frettir/flokkur/19   \n",
       "207459        UNK  http://aflafrettir.is/frettir/grein/16-manns-s...   \n",
       "\n",
       "          en_domain    is_domain  average_score  \\\n",
       "321109         2way         2way       0.808083   \n",
       "267802  aflafrettir  aflafrettir       0.787000   \n",
       "207459  aflafrettir  aflafrettir       0.841167   \n",
       "\n",
       "                                                   en_doc  \\\n",
       "321109  Members can provide constructive feedback for ...   \n",
       "267802  Skreigrunn with 41 tons in 4 trips,. Akom came...   \n",
       "207459  There have been quite a number of vessels fish...   \n",
       "\n",
       "                                                   is_doc  en_length  \\\n",
       "321109  Notendur geta veitt endurgjöf á gististaði og ...        385   \n",
       "267802  Skreigrunn með 41 tonn í 4 róðrum . Ingvaldson...        230   \n",
       "207459  Það hefur verið þónokkur fjöldi skipa á veiðum...        108   \n",
       "\n",
       "        is_length      X-GENRE  \\\n",
       "321109        383  Instruction   \n",
       "267802        214        Forum   \n",
       "207459        105         News   \n",
       "\n",
       "                                       label_distribution  \\\n",
       "321109  {'Other': 0.0001, 'Information/Explanation': 0...   \n",
       "267802  {'Other': 0.0005, 'Information/Explanation': 0...   \n",
       "207459  {'Other': 0.0001, 'Information/Explanation': 0...   \n",
       "\n",
       "        chosen_category_distr final-X-GENRE  \n",
       "321109               0.997964   Instruction  \n",
       "267802               0.997729         Forum  \n",
       "207459               0.998150          News  "
      ]
     },
     "execution_count": 7,
     "metadata": {},
     "output_type": "execute_result"
    }
   ],
   "source": [
    "# Post-process the data\n",
    "\n",
    "# Copy all predicted labels to a new column, except if the label is \"Other\"\n",
    "corpus[\"final-X-GENRE\"] = np.where(corpus[\"X-GENRE\"] == \"Other\", np.nan, corpus[\"X-GENRE\"])\n",
    "\n",
    "corpus.head(3)"
   ]
  },
  {
   "cell_type": "code",
   "execution_count": 8,
   "metadata": {},
   "outputs": [
    {
     "data": {
      "text/plain": [
       "Information/Explanation    4025\n",
       "News                       3160\n",
       "Instruction                2061\n",
       "Promotion                  1994\n",
       "Legal                       758\n",
       "Opinion/Argumentation       709\n",
       "Forum                        92\n",
       "Prose/Lyrical                52\n",
       "Name: final-X-GENRE, dtype: int64"
      ]
     },
     "execution_count": 8,
     "metadata": {},
     "output_type": "execute_result"
    }
   ],
   "source": [
    "corpus[\"final-X-GENRE\"].value_counts()"
   ]
  },
  {
   "cell_type": "code",
   "execution_count": 9,
   "metadata": {},
   "outputs": [],
   "source": [
    "# Copy all predicted labels to a column \"final-X-GENRE\", except if the label is \"Forum\"\n",
    "corpus[\"final-X-GENRE\"] = np.where(corpus[\"final-X-GENRE\"] == \"Forum\", np.nan, corpus[\"final-X-GENRE\"])"
   ]
  },
  {
   "cell_type": "code",
   "execution_count": 10,
   "metadata": {},
   "outputs": [
    {
     "data": {
      "text/plain": [
       "Information/Explanation    4025\n",
       "News                       3160\n",
       "Instruction                2061\n",
       "Promotion                  1994\n",
       "Legal                       758\n",
       "Opinion/Argumentation       709\n",
       "Prose/Lyrical                52\n",
       "Name: final-X-GENRE, dtype: int64"
      ]
     },
     "execution_count": 10,
     "metadata": {},
     "output_type": "execute_result"
    }
   ],
   "source": [
    "corpus[\"final-X-GENRE\"].value_counts()"
   ]
  },
  {
   "cell_type": "code",
   "execution_count": 11,
   "metadata": {},
   "outputs": [
    {
     "data": {
      "text/plain": [
       "count                       12759\n",
       "unique                          7\n",
       "top       Information/Explanation\n",
       "freq                         4025\n",
       "Name: final-X-GENRE, dtype: object"
      ]
     },
     "execution_count": 11,
     "metadata": {},
     "output_type": "execute_result"
    }
   ],
   "source": [
    "corpus[\"final-X-GENRE\"].describe()"
   ]
  },
  {
   "cell_type": "code",
   "execution_count": 12,
   "metadata": {},
   "outputs": [],
   "source": [
    "# Copy all predicted labels to a column \"final-X-GENRE\", except if the prediction confidence is lower than 0.9\n",
    "corpus[\"final-X-GENRE\"] = np.where(corpus[\"chosen_category_distr\"] < 0.9, np.nan, corpus[\"final-X-GENRE\"])"
   ]
  },
  {
   "cell_type": "code",
   "execution_count": 13,
   "metadata": {},
   "outputs": [
    {
     "data": {
      "text/plain": [
       "count                       11639\n",
       "unique                          7\n",
       "top       Information/Explanation\n",
       "freq                         3753\n",
       "Name: final-X-GENRE, dtype: object"
      ]
     },
     "execution_count": 13,
     "metadata": {},
     "output_type": "execute_result"
    }
   ],
   "source": [
    "# See the final distribution\n",
    "corpus[\"final-X-GENRE\"].describe()"
   ]
  },
  {
   "cell_type": "code",
   "execution_count": 17,
   "metadata": {},
   "outputs": [
    {
     "name": "stdout",
     "output_type": "stream",
     "text": [
      "|                         |   final-X-GENRE |\n",
      "|:------------------------|----------------:|\n",
      "| Information/Explanation |            3753 |\n",
      "| News                    |            2916 |\n",
      "| Instruction             |            1851 |\n",
      "| Promotion               |            1806 |\n",
      "| Legal                   |             672 |\n",
      "| Opinion/Argumentation   |             595 |\n",
      "| Prose/Lyrical           |              46 |\n"
     ]
    }
   ],
   "source": [
    "print(corpus[\"final-X-GENRE\"].value_counts().to_markdown())"
   ]
  },
  {
   "cell_type": "code",
   "execution_count": 18,
   "metadata": {},
   "outputs": [
    {
     "name": "stdout",
     "output_type": "stream",
     "text": [
      "['Instruction', nan, 'News', 'Promotion', 'Information/Explanation', 'Legal', 'Opinion/Argumentation', 'Prose/Lyrical']\n"
     ]
    }
   ],
   "source": [
    "LABELS = list(corpus[\"final-X-GENRE\"].unique())\n",
    "print(LABELS)"
   ]
  },
  {
   "cell_type": "code",
   "execution_count": 19,
   "metadata": {},
   "outputs": [
    {
     "name": "stdout",
     "output_type": "stream",
     "text": [
      "Instruction\n",
      "|     |   en_var_doc |\n",
      "|:----|-------------:|\n",
      "| UNK |    0.379795  |\n",
      "| B   |    0.349001  |\n",
      "| A   |    0.212858  |\n",
      "| MIX |    0.0583468 |\n",
      "News\n",
      "|     |   en_var_doc |\n",
      "|:----|-------------:|\n",
      "| B   |    0.498971  |\n",
      "| UNK |    0.351509  |\n",
      "| A   |    0.107339  |\n",
      "| MIX |    0.0421811 |\n",
      "Promotion\n",
      "|     |   en_var_doc |\n",
      "|:----|-------------:|\n",
      "| UNK |    0.399779  |\n",
      "| A   |    0.284053  |\n",
      "| B   |    0.245293  |\n",
      "| MIX |    0.0708749 |\n",
      "Information/Explanation\n",
      "|     |   en_var_doc |\n",
      "|:----|-------------:|\n",
      "| UNK |    0.404476  |\n",
      "| B   |    0.398348  |\n",
      "| A   |    0.145217  |\n",
      "| MIX |    0.0519584 |\n",
      "Legal\n",
      "|     |   en_var_doc |\n",
      "|:----|-------------:|\n",
      "| B   |    0.502976  |\n",
      "| UNK |    0.313988  |\n",
      "| A   |    0.125     |\n",
      "| MIX |    0.0580357 |\n",
      "Opinion/Argumentation\n",
      "|     |   en_var_doc |\n",
      "|:----|-------------:|\n",
      "| B   |    0.363025  |\n",
      "| UNK |    0.305882  |\n",
      "| A   |    0.248739  |\n",
      "| MIX |    0.0823529 |\n",
      "Prose/Lyrical\n",
      "|     |   en_var_doc |\n",
      "|:----|-------------:|\n",
      "| UNK |    0.369565  |\n",
      "| B   |    0.304348  |\n",
      "| A   |    0.282609  |\n",
      "| MIX |    0.0434783 |\n"
     ]
    }
   ],
   "source": [
    "# Analyze differences in genres based on language varieties\n",
    "\n",
    "for i in ['Instruction','News', 'Promotion', 'Information/Explanation', 'Legal', 'Opinion/Argumentation', 'Prose/Lyrical']:\n",
    "    print(i)\n",
    "    filtered_corpus = corpus[corpus[\"final-X-GENRE\"] == i]\n",
    "    print(filtered_corpus[\"en_var_doc\"].value_counts(normalize=\"True\").to_markdown())"
   ]
  },
  {
   "cell_type": "code",
   "execution_count": 20,
   "metadata": {},
   "outputs": [
    {
     "name": "stdout",
     "output_type": "stream",
     "text": [
      "|       |   en_length |\n",
      "|:------|------------:|\n",
      "| count |   13174     |\n",
      "| mean  |     346.647 |\n",
      "| std   |     502.707 |\n",
      "| min   |      79     |\n",
      "| 25%   |     124     |\n",
      "| 50%   |     201     |\n",
      "| 75%   |     380     |\n",
      "| max   |   11125     |\n"
     ]
    }
   ],
   "source": [
    "# Length distribution of the entire corpus\n",
    "print(corpus[\"en_length\"].describe().to_markdown())"
   ]
  },
  {
   "cell_type": "code",
   "execution_count": 21,
   "metadata": {},
   "outputs": [
    {
     "name": "stdout",
     "output_type": "stream",
     "text": [
      "Instruction\n",
      "|       |   en_length |\n",
      "|:------|------------:|\n",
      "| count |    1851     |\n",
      "| mean  |     451.455 |\n",
      "| std   |     655.151 |\n",
      "| min   |      79     |\n",
      "| 25%   |     146.5   |\n",
      "| 50%   |     248     |\n",
      "| 75%   |     487.5   |\n",
      "| max   |    8663     |\n",
      "News\n",
      "|       |   en_length |\n",
      "|:------|------------:|\n",
      "| count |    2916     |\n",
      "| mean  |     345.765 |\n",
      "| std   |     354.283 |\n",
      "| min   |      79     |\n",
      "| 25%   |     141     |\n",
      "| 50%   |     243     |\n",
      "| 75%   |     432     |\n",
      "| max   |    6054     |\n",
      "Promotion\n",
      "|       |   en_length |\n",
      "|:------|------------:|\n",
      "| count |    1806     |\n",
      "| mean  |     209.564 |\n",
      "| std   |     302.288 |\n",
      "| min   |      79     |\n",
      "| 25%   |     102     |\n",
      "| 50%   |     140     |\n",
      "| 75%   |     222.75  |\n",
      "| max   |    6234     |\n",
      "Information/Explanation\n",
      "|       |   en_length |\n",
      "|:------|------------:|\n",
      "| count |    3753     |\n",
      "| mean  |     274.125 |\n",
      "| std   |     389.098 |\n",
      "| min   |      79     |\n",
      "| 25%   |     112     |\n",
      "| 50%   |     170     |\n",
      "| 75%   |     290     |\n",
      "| max   |   10076     |\n",
      "Legal\n",
      "|       |   en_length |\n",
      "|:------|------------:|\n",
      "| count |     672     |\n",
      "| mean  |     689.186 |\n",
      "| std   |     926.628 |\n",
      "| min   |      79     |\n",
      "| 25%   |     176.75  |\n",
      "| 50%   |     344.5   |\n",
      "| 75%   |     815.25  |\n",
      "| max   |   11125     |\n",
      "Opinion/Argumentation\n",
      "|       |   en_length |\n",
      "|:------|------------:|\n",
      "| count |     595     |\n",
      "| mean  |     436.602 |\n",
      "| std   |     673.692 |\n",
      "| min   |      79     |\n",
      "| 25%   |     147     |\n",
      "| 50%   |     270     |\n",
      "| 75%   |     500.5   |\n",
      "| max   |    9778     |\n",
      "Prose/Lyrical\n",
      "|       |   en_length |\n",
      "|:------|------------:|\n",
      "| count |      46     |\n",
      "| mean  |     985.891 |\n",
      "| std   |    1406.34  |\n",
      "| min   |      82     |\n",
      "| 25%   |     167.75  |\n",
      "| 50%   |     400     |\n",
      "| 75%   |     890.75  |\n",
      "| max   |    5262     |\n"
     ]
    }
   ],
   "source": [
    "# Analyze differences in genres based on text length\n",
    "\n",
    "for i in ['Instruction','News', 'Promotion', 'Information/Explanation', 'Legal', 'Opinion/Argumentation', 'Prose/Lyrical']:\n",
    "    print(i)\n",
    "    filtered_corpus = corpus[corpus[\"final-X-GENRE\"] == i]\n",
    "    print(filtered_corpus[\"en_length\"].describe().to_markdown())"
   ]
  }
 ],
 "metadata": {
  "kernelspec": {
   "display_name": "Python 3.9.7 ('base')",
   "language": "python",
   "name": "python3"
  },
  "language_info": {
   "codemirror_mode": {
    "name": "ipython",
    "version": 3
   },
   "file_extension": ".py",
   "mimetype": "text/x-python",
   "name": "python",
   "nbconvert_exporter": "python",
   "pygments_lexer": "ipython3",
   "version": "3.9.7"
  },
  "orig_nbformat": 4,
  "vscode": {
   "interpreter": {
    "hash": "7e373e41fe05b496006fe2fc132d7af19f1d513370c44925a0044a5f3ee41336"
   }
  }
 },
 "nbformat": 4,
 "nbformat_minor": 2
}
