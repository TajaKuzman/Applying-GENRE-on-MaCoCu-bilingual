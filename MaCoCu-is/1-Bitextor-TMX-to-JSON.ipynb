{
 "cells": [
  {
   "cell_type": "code",
   "execution_count": 1,
   "metadata": {},
   "outputs": [],
   "source": [
    "import gzip\n",
    "import shutil\n",
    "import wget\n",
    "import regex as re\n",
    "import pandas as pd\n",
    "import numpy as np\n",
    "import json"
   ]
  },
  {
   "cell_type": "code",
   "execution_count": 2,
   "metadata": {},
   "outputs": [
    {
     "name": "stdout",
     "output_type": "stream",
     "text": [
      "Downloading Completed\n"
     ]
    }
   ],
   "source": [
    "# Download the file\n",
    "\n",
    "#Defining the zip file URL\n",
    "url = \"https://www.clarin.si/repository/xmlui/bitstream/handle/11356/1524/MaCoCu-is-en.tmx.gz\"\n",
    "\n",
    "# Downloading the file by sending the request to the URL\n",
    "corpus_file = wget.download(url)\n",
    "print('Downloading Completed')"
   ]
  },
  {
   "cell_type": "code",
   "execution_count": 3,
   "metadata": {},
   "outputs": [],
   "source": [
    "# Unzip the file\n",
    "with gzip.open('MaCoCu-is-en.tmx.gz', 'rb') as f_in:\n",
    "    with open('MaCoCu-is-en.tmx', 'wb') as f_out:\n",
    "        shutil.copyfileobj(f_in, f_out)"
   ]
  },
  {
   "cell_type": "code",
   "execution_count": 4,
   "metadata": {},
   "outputs": [],
   "source": [
    "corpus = open('MaCoCu-is-en.tmx', \"r\").read()"
   ]
  },
  {
   "cell_type": "code",
   "execution_count": 5,
   "metadata": {},
   "outputs": [
    {
     "name": "stdout",
     "output_type": "stream",
     "text": [
      "<?xml version=\"1.0\"?>\n",
      "<tmx version=\"1.4\">\n",
      " <header\n",
      "   adminlang=\"C\"\n",
      "   srclang=\"en\"\n",
      "   o-tmf=\"PlainText\"\n",
      "   creationtool=\"bitextor\"\n",
      "   creationtoolversion=\"8.2\"\n",
      "   datatype=\"PlainText\"\n",
      "   segtype=\"sentence\"\n",
      "   creationdate=\"20220420T120753\"\n",
      "   o-encoding=\"utf-8\">\n",
      " </header>\n",
      " <body>\n",
      "   <tu tuid=\"1\" datatype=\"Text\">\n",
      "    <prop type=\"score-bicleaner-ai\">0.962</prop>\n",
      "    <prop type=\"biroamer-entities\">Yes</prop>\n",
      "    <prop type=\"translation-direction\">en-orig</prop>\n",
      "    <prop type=\"type\">1:1</prop>\n",
      "    <tuv xml:lang=\"en\">\n",
      "     <prop type=\"source-document\">https://en.alda.is/about-alda/</prop>\n",
      "     <prop type=\"checksum-seg\">a89f39aaf4b2adf4</prop>\n",
      "     <prop type=\"paragraph-id\">p15s0</prop>\n",
      "    <prop type=\"english-variant-document\">B</prop>\n",
      "    <prop type=\"english-variant-domain\">A</prop>\n",
      "     <seg>Alda is not a political party and never will be.</seg>\n",
      "    </tuv>\n",
      "    <tuv xml:lang=\"is\">\n",
      "     <prop type=\"source-document\">https://alda.is/um-oldu/</prop>\n",
      "     <prop type=\"checksum-seg\">214c1a7cb018fb57</prop>\n",
      "     <prop type=\"paragraph-id\">p20s0</prop>\n",
      "     <seg>Alda er ekki stjórnmálaflokkur og mun ekki verða.</seg>\n",
      "    </tuv>\n",
      "   </tu>\n",
      "   <tu tuid=\"2\" datatype=\"Text\">\n",
      "    <prop type=\"score-bicleaner-ai\">0.958</prop>\n",
      "    <prop type=\"biroamer-entities\">No</prop>\n",
      "    <prop type=\"translation-direction\">is-orig</prop>\n",
      "    <prop type=\"type\">1:1</prop>\n",
      "    <tuv xml:lang=\"en\">\n",
      "     <prop type=\"source-document\">https://www.norden.org/en/nominee/sara-lundberg</prop>\n",
      "     <prop type=\"checksum-seg\">82ffb63f9904d0a5</prop>\n",
      "     <prop type=\"paragraph-id\">p163s8</prop>\n",
      "    <prop type=\"english-variant-document\">B</prop>\n",
      "    <prop type=\"english-variant-domain\">B</prop>\n",
      "     <seg>And I’m scared that I’m holding too tightly, So I open my hands... and it makes a run for it and flies!</seg>\n",
      "    </tuv>\n",
      "    <tuv xml:lang=\"is\">\n",
      "     <prop type=\"source-document\">https://www.norden.org/is/nominee/sara-lundberg</prop>\n",
      "     <prop type=\"checksum-seg\">9499845d74253251+8ca0aeac53794842</prop>\n",
      "     <prop type=\"paragraph-id\">p163s8+p163s9</prop>\n",
      "     <seg>Og ég verð hrædd um að ég haldi of fast, svo opna ég lófana... Þá hoppar hann og flýgur!</seg>\n",
      "    </tuv>\n",
      "   </tu>\n",
      "   <tu tuid=\"3\" datatype=\"Text\">\n",
      "    <prop type=\"score-bicleaner-ai\">0.727</prop>\n",
      "    <prop type=\"biroamer-entities\">No</prop>\n",
      "    <prop type=\"translation-direction\">is-orig</prop>\n",
      "    <prop type=\"type\">1:1</prop>\n",
      "    <tuv xml:lang=\"en\">\n",
      "     <prop type=\"source-document\">https://www.veggjald.is/en/faq/motorcyclescicycles</prop>\n",
      "     <prop type=\"checksum-seg\">b7f524ed2bf59062+f2c410bc74136306#2</prop>\n",
      "     <prop type=\"paragraph-id\">p16s1+p17s0</prop>\n",
      "    <prop type=\"english-variant-document\">UNK</prop>\n",
      "    <prop type=\"english-variant-domain\">A</prop>\n",
      "     <seg>What is the toll used for?</seg>\n",
      "    </tuv>\n",
      "    <tuv xml:lang=\"is\">\n",
      "     <prop type=\"source-document\">https://www.veggjald.is/is/spurt-svarad/ymislegt</prop>\n",
      "     <prop type=\"checksum-seg\">cd541799b5fcda88+a008962c3eccac61#2</prop>\n",
      "     <prop type=\"paragraph-id\">p16s1+p17s0</prop>\n",
      "     <seg>Í hvað fara tekjurnar af veggjaldinu?</seg>\n",
      "    </tuv>\n",
      "   </tu>\n",
      "   <tu tuid=\"4\" datatype=\"Text\">\n",
      "    <prop type=\"score-bicleaner-ai\">0.593</prop>\n",
      "    <prop type=\"biroamer-entities\">No</prop>\n",
      "    <prop type=\"translation-direction\">is-orig</prop>\n",
      "    <prop type=\"type\">1:1</prop>\n",
      "    <tuv xml:lang=\"en\">\n",
      "     <prop type=\"source-document\">http://justus.anglican.org/resources/bcp/India/ceylon.html</prop>\n",
      "     <prop type=\"checksum-seg\">91c9819f51e72f57</prop>\n",
      "     <prop type=\"paragraph-id\">p36s4</prop>\n",
      "    <prop type=\"english-variant-document\">B</prop>\n",
      "    <prop type=\"english-variant-domain\">B</prop>\n",
      "     <seg>Who hath made heaven and earth.</seg>\n",
      "    </tuv>\n",
      "    <tuv xml:lang=\"is\">\n",
      "     <prop type=\"source-document\">https://gummi.blog/2017/08/24/hugvekjur-og-baenalestur-i-utvarpi-i-sumar-2017/</prop>\n",
      "     <prop type=\"checksum-seg\">dc1494468d711742</prop>\n",
      "     <prop type=\"paragraph-id\">p29s1</prop>\n",
      "     <seg>Guð er sá sem hjálpar, skapari himins og jarðar.</seg>\n",
      "    </tuv>\n",
      "   </tu>\n",
      "   <tu tuid=\"5\" datatype=\"Text\">\n",
      "    <prop type=\"score-bicleaner-ai\">0.826</prop>\n",
      "    <prop type=\"biroamer-entities\">No</prop>\n",
      "    <prop type=\"translation-direction\">en-orig</prop>\n",
      "    <prop type=\"type\">1:1</prop>\n",
      "    <tuv xml:lang=\"en\">\n",
      "     <prop type=\"source-document\">https://www.eso.org/public/videos/esocast19/</prop>\n",
      "     <prop type=\"checksum-seg\">4344b5bddf29b6fa</prop>\n",
      "     <prop type=\"paragraph-id\">p4s2</prop>\n",
      "    <prop type=\"english-variant-document\">UNK</prop>\n",
      "    <prop type=\"english-variant-domain\">B</prop>\n",
      "     <seg>As night falls over the desert, the southern sky reveals its nocturnal beauty, leaving the spectator in silent amazement.</seg>\n",
      "    </tuv>\n",
      "    <tuv xml:lang=\"is\">\n",
      "     <prop type=\"source-document\">http://www.stjornuskodun.is/vefvarp/nr/62</prop>\n",
      "     <prop type=\"checksum-seg\">a3579f123b026e3e</prop>\n",
      "     <prop type=\"paragraph-id\">p8s1</prop>\n",
      "     <seg>Þegar nóttin hellist yfir birtist stjörnumprýddur suðurhimininn í allri sinni dýrð.</seg>\n",
      "    </tuv>\n",
      " \n"
     ]
    }
   ],
   "source": [
    "# Create and view a sample of the corpus\n",
    "corpus_sample = open('MaCoCu-is-en.tmx', \"r\").read(5000)\n",
    "print(corpus_sample)"
   ]
  },
  {
   "cell_type": "code",
   "execution_count": 6,
   "metadata": {},
   "outputs": [],
   "source": [
    "# Prepare all the regexes\n",
    "# Compile all tus\n",
    "tu_re = re.compile('<tu tuid=\".*?>\\n(.*?)<\\/tu>', re.DOTALL)\n",
    "# Compile relevant information inside tus\n",
    "bi_score_re = re.compile('<prop type=\"score-bicleaner-ai\">(.*?)</prop>')\n",
    "biroamer_re = re.compile('<prop type=\"biroamer-entities\">(.*?)</prop>')\n",
    "translation_dir_re = re.compile('<prop type=\"translation-direction\">(.*?)</prop>')\n",
    "en_source_re = re.compile('<tuv xml:lang=\"en\">.*?<prop type=\"source-document\">(.*?)</prop>', re.DOTALL)\n",
    "en_par_id_re = re.compile('<tuv xml:lang=\"en\">.*?<prop type=\"paragraph-id\">(.*?)</prop', re.DOTALL)\n",
    "en_par_re = re.compile('<tuv xml:lang=\"en\">.*?<seg>(.*?)</seg>', re.DOTALL)\n",
    "en_var_doc_re = re.compile('<prop type=\"english-variant-document\">(.*?)</prop>')\n",
    "en_var_dom_re = re.compile('<prop type=\"english-variant-domain\">(.*?)</prop>')\n",
    "sl_source_re = re.compile('<tuv xml:lang=\"is\">.*?<prop type=\"source-document\">(.*?)</prop>', re.DOTALL)\n",
    "sl_par_id_re = re.compile('<tuv xml:lang=\"is\">.*?<prop type=\"paragraph-id\">(.*?)</prop', re.DOTALL)\n",
    "sl_par_re = re.compile('<tuv xml:lang=\"is\">.*?<seg>(.*?)</seg>', re.DOTALL)\n"
   ]
  },
  {
   "cell_type": "code",
   "execution_count": 7,
   "metadata": {},
   "outputs": [
    {
     "data": {
      "text/plain": [
       "4"
      ]
     },
     "execution_count": 7,
     "metadata": {},
     "output_type": "execute_result"
    }
   ],
   "source": [
    "# Create a list of all tus from the sample corpus\n",
    "tus_list_sample = tu_re.findall(corpus_sample)\n",
    "len(tus_list_sample)"
   ]
  },
  {
   "cell_type": "code",
   "execution_count": 8,
   "metadata": {},
   "outputs": [
    {
     "data": {
      "text/plain": [
       "'    <prop type=\"score-bicleaner-ai\">0.958</prop>\\n    <prop type=\"biroamer-entities\">No</prop>\\n    <prop type=\"translation-direction\">is-orig</prop>\\n    <prop type=\"type\">1:1</prop>\\n    <tuv xml:lang=\"en\">\\n     <prop type=\"source-document\">https://www.norden.org/en/nominee/sara-lundberg</prop>\\n     <prop type=\"checksum-seg\">82ffb63f9904d0a5</prop>\\n     <prop type=\"paragraph-id\">p163s8</prop>\\n    <prop type=\"english-variant-document\">B</prop>\\n    <prop type=\"english-variant-domain\">B</prop>\\n     <seg>And I’m scared that I’m holding too tightly, So I open my hands... and it makes a run for it and flies!</seg>\\n    </tuv>\\n    <tuv xml:lang=\"is\">\\n     <prop type=\"source-document\">https://www.norden.org/is/nominee/sara-lundberg</prop>\\n     <prop type=\"checksum-seg\">9499845d74253251+8ca0aeac53794842</prop>\\n     <prop type=\"paragraph-id\">p163s8+p163s9</prop>\\n     <seg>Og ég verð hrædd um að ég haldi of fast, svo opna ég lófana... Þá hoppar hann og flýgur!</seg>\\n    </tuv>\\n   '"
      ]
     },
     "execution_count": 8,
     "metadata": {},
     "output_type": "execute_result"
    }
   ],
   "source": [
    "# View the tus_list\n",
    "tus_list_sample[1]"
   ]
  },
  {
   "cell_type": "code",
   "execution_count": 9,
   "metadata": {},
   "outputs": [
    {
     "name": "stdout",
     "output_type": "stream",
     "text": [
      "['0.958']\n",
      "['No']\n",
      "['is-orig']\n",
      "['https://www.norden.org/en/nominee/sara-lundberg']\n",
      "['p163s8']\n",
      "['And I’m scared that I’m holding too tightly, So I open my hands... and it makes a run for it and flies!']\n",
      "['B']\n",
      "['B']\n",
      "['https://www.norden.org/is/nominee/sara-lundberg']\n",
      "['p163s8+p163s9']\n",
      "['Og ég verð hrædd um að ég haldi of fast, svo opna ég lófana... Þá hoppar hann og flýgur!']\n"
     ]
    }
   ],
   "source": [
    "# Check if regexes work\n",
    "regexes =  [bi_score_re, biroamer_re, translation_dir_re, en_source_re, en_par_id_re, en_par_re, en_var_doc_re, en_var_dom_re, sl_source_re, sl_par_id_re, sl_par_re]\n",
    "\n",
    "for rex in regexes:\n",
    "    test_list = rex.findall(tus_list_sample[1])\n",
    "    print(test_list)"
   ]
  },
  {
   "cell_type": "code",
   "execution_count": 10,
   "metadata": {},
   "outputs": [
    {
     "data": {
      "text/plain": [
       "355100"
      ]
     },
     "execution_count": 10,
     "metadata": {},
     "output_type": "execute_result"
    }
   ],
   "source": [
    "# Create a list of all tus from the corpus\n",
    "tus_list = tu_re.findall(corpus)\n",
    "len(tus_list)"
   ]
  },
  {
   "cell_type": "code",
   "execution_count": 11,
   "metadata": {},
   "outputs": [
    {
     "data": {
      "text/plain": [
       "['    <prop type=\"score-bicleaner-ai\">0.962</prop>\\n    <prop type=\"biroamer-entities\">Yes</prop>\\n    <prop type=\"translation-direction\">en-orig</prop>\\n    <prop type=\"type\">1:1</prop>\\n    <tuv xml:lang=\"en\">\\n     <prop type=\"source-document\">https://en.alda.is/about-alda/</prop>\\n     <prop type=\"checksum-seg\">a89f39aaf4b2adf4</prop>\\n     <prop type=\"paragraph-id\">p15s0</prop>\\n    <prop type=\"english-variant-document\">B</prop>\\n    <prop type=\"english-variant-domain\">A</prop>\\n     <seg>Alda is not a political party and never will be.</seg>\\n    </tuv>\\n    <tuv xml:lang=\"is\">\\n     <prop type=\"source-document\">https://alda.is/um-oldu/</prop>\\n     <prop type=\"checksum-seg\">214c1a7cb018fb57</prop>\\n     <prop type=\"paragraph-id\">p20s0</prop>\\n     <seg>Alda er ekki stjórnmálaflokkur og mun ekki verða.</seg>\\n    </tuv>\\n   ']"
      ]
     },
     "execution_count": 11,
     "metadata": {},
     "output_type": "execute_result"
    }
   ],
   "source": [
    "# Inspect an instance\n",
    "tus_list[:1]"
   ]
  },
  {
   "cell_type": "code",
   "execution_count": 12,
   "metadata": {},
   "outputs": [
    {
     "name": "stdout",
     "output_type": "stream",
     "text": [
      "355100\n"
     ]
    },
    {
     "data": {
      "text/plain": [
       "[{'score_bicleaner_ai': 0.962,\n",
       "  'biroamer_entities': 'Yes',\n",
       "  'translation_direction': 'en-orig',\n",
       "  'en_source': 'https://en.alda.is/about-alda/',\n",
       "  'en_par_id': 'p15s0',\n",
       "  'en_par': 'Alda is not a political party and never will be.',\n",
       "  'en_var_doc': 'B',\n",
       "  'en_var_dom': 'A',\n",
       "  'is_source': 'https://alda.is/um-oldu/',\n",
       "  'is_par_id': 'p20s0',\n",
       "  'is_par': 'Alda er ekki stjórnmálaflokkur og mun ekki verða.'},\n",
       " {'score_bicleaner_ai': 0.958,\n",
       "  'biroamer_entities': 'No',\n",
       "  'translation_direction': 'is-orig',\n",
       "  'en_source': 'https://www.norden.org/en/nominee/sara-lundberg',\n",
       "  'en_par_id': 'p163s8',\n",
       "  'en_par': 'And I’m scared that I’m holding too tightly, So I open my hands... and it makes a run for it and flies!',\n",
       "  'en_var_doc': 'B',\n",
       "  'en_var_dom': 'B',\n",
       "  'is_source': 'https://www.norden.org/is/nominee/sara-lundberg',\n",
       "  'is_par_id': 'p163s8+p163s9',\n",
       "  'is_par': 'Og ég verð hrædd um að ég haldi of fast, svo opna ég lófana... Þá hoppar hann og flýgur!'}]"
      ]
     },
     "execution_count": 12,
     "metadata": {},
     "output_type": "execute_result"
    }
   ],
   "source": [
    "# Create a list of dictionaries from the tus_list based on regexes\n",
    "tus_content = []\n",
    "\n",
    "for i in tus_list:\n",
    "\t# Find all relevant information based on regexes\n",
    "\tbi_score = bi_score_re.search(i).group(1)\n",
    "\tbiroamer = biroamer_re.search(i).group(1)\n",
    "\ttranslation_dir = translation_dir_re.search(i).group(1)\n",
    "\ten_source = en_source_re.search(i).group(1)\n",
    "\ten_par_id = en_par_id_re.search(i).group(1)\n",
    "\ten_par = en_par_re.search(i).group(1)\n",
    "\ten_var_doc = en_var_doc_re.search(i).group(1)\n",
    "\ten_var_dom = en_var_dom_re.search(i).group(1)\n",
    "\tsl_source = sl_source_re.search(i).group(1)\n",
    "\tsl_par_id = sl_par_id_re.search(i).group(1)\n",
    "\tsl_par = sl_par_re.search(i).group(1)\n",
    "\t# Add information to the dictionary\n",
    "\tcurrent_tu = {\"score_bicleaner_ai\": float(bi_score), \"biroamer_entities\": biroamer, \"translation_direction\": translation_dir, \"en_source\": en_source, \"en_par_id\": en_par_id, \"en_par\": en_par, \"en_var_doc\": en_var_doc, \"en_var_dom\": en_var_dom, \"is_source\": sl_source, \"is_par_id\": sl_par_id, \"is_par\": sl_par}\n",
    "\t# Append the dictionary to the list\n",
    "\ttus_content.append(current_tu)\n",
    "\n",
    "print(len(tus_content))\n",
    "\n",
    "# Print some instances of the tus_content\n",
    "tus_content[:2]"
   ]
  },
  {
   "cell_type": "code",
   "execution_count": 13,
   "metadata": {},
   "outputs": [],
   "source": [
    "# Save json\n",
    "\n",
    "with open(\"Macocu-is-en.json\", \"w\") as file:\n",
    "\tjson.dump(tus_content,file, indent= \"\")"
   ]
  }
 ],
 "metadata": {
  "kernelspec": {
   "display_name": "Python 3.9.7 ('base': conda)",
   "language": "python",
   "name": "python3"
  },
  "language_info": {
   "codemirror_mode": {
    "name": "ipython",
    "version": 3
   },
   "file_extension": ".py",
   "mimetype": "text/x-python",
   "name": "python",
   "nbconvert_exporter": "python",
   "pygments_lexer": "ipython3",
   "version": "3.9.7"
  },
  "orig_nbformat": 4,
  "vscode": {
   "interpreter": {
    "hash": "7e373e41fe05b496006fe2fc132d7af19f1d513370c44925a0044a5f3ee41336"
   }
  }
 },
 "nbformat": 4,
 "nbformat_minor": 2
}
