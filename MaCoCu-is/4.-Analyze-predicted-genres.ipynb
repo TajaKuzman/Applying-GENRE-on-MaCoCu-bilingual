{
 "cells": [
  {
   "cell_type": "code",
   "execution_count": 1,
   "metadata": {},
   "outputs": [],
   "source": [
    "import pandas as pd"
   ]
  },
  {
   "cell_type": "code",
   "execution_count": 2,
   "metadata": {},
   "outputs": [
    {
     "data": {
      "text/html": [
       "<div>\n",
       "<style scoped>\n",
       "    .dataframe tbody tr th:only-of-type {\n",
       "        vertical-align: middle;\n",
       "    }\n",
       "\n",
       "    .dataframe tbody tr th {\n",
       "        vertical-align: top;\n",
       "    }\n",
       "\n",
       "    .dataframe thead th {\n",
       "        text-align: right;\n",
       "    }\n",
       "</style>\n",
       "<table border=\"1\" class=\"dataframe\">\n",
       "  <thead>\n",
       "    <tr style=\"text-align: right;\">\n",
       "      <th></th>\n",
       "      <th>biroamer_entities</th>\n",
       "      <th>translation_direction</th>\n",
       "      <th>en_source</th>\n",
       "      <th>en_var_doc</th>\n",
       "      <th>en_var_dom</th>\n",
       "      <th>sl_source</th>\n",
       "      <th>en_domain</th>\n",
       "      <th>sl_domain</th>\n",
       "      <th>average_score</th>\n",
       "      <th>en_doc</th>\n",
       "      <th>sl_doc</th>\n",
       "      <th>en_length</th>\n",
       "      <th>sl_length</th>\n",
       "      <th>punct_ratio</th>\n",
       "      <th>X-GENRE</th>\n",
       "      <th>label_distribution</th>\n",
       "    </tr>\n",
       "  </thead>\n",
       "  <tbody>\n",
       "    <tr>\n",
       "      <th>2584979</th>\n",
       "      <td>No</td>\n",
       "      <td>sl-orig</td>\n",
       "      <td>http://15.liffe.si/?lang_chg=en</td>\n",
       "      <td>B</td>\n",
       "      <td>B</td>\n",
       "      <td>http://15.liffe.si/?lang_chg=sl</td>\n",
       "      <td>15.liffe.si</td>\n",
       "      <td>15.liffe.si</td>\n",
       "      <td>0.936808</td>\n",
       "      <td>It went out with a bang. The evening sparkled ...</td>\n",
       "      <td>Končalo se je razburljivo in z razkošjem. Veče...</td>\n",
       "      <td>574</td>\n",
       "      <td>463</td>\n",
       "      <td>0.103501</td>\n",
       "      <td>Opinion/Argumentation</td>\n",
       "      <td>0.988794</td>\n",
       "    </tr>\n",
       "    <tr>\n",
       "      <th>1212933</th>\n",
       "      <td>No</td>\n",
       "      <td>sl-orig</td>\n",
       "      <td>http://16.liffe.si/?lang_chg=en</td>\n",
       "      <td>B</td>\n",
       "      <td>B</td>\n",
       "      <td>http://16.liffe.si/index.php?menu_item=domov</td>\n",
       "      <td>16.liffe.si</td>\n",
       "      <td>16.liffe.si</td>\n",
       "      <td>0.900000</td>\n",
       "      <td>Some days ago the organisers of the 17th Liffe...</td>\n",
       "      <td>Pred dnevi smo se iz 59. mednarodnega filmskeg...</td>\n",
       "      <td>293</td>\n",
       "      <td>184</td>\n",
       "      <td>0.076220</td>\n",
       "      <td>News</td>\n",
       "      <td>0.961600</td>\n",
       "    </tr>\n",
       "    <tr>\n",
       "      <th>598330</th>\n",
       "      <td>Yes</td>\n",
       "      <td>sl-orig</td>\n",
       "      <td>http://17.liffe.si/?lang_chg=en</td>\n",
       "      <td>B</td>\n",
       "      <td>B</td>\n",
       "      <td>http://17.liffe.si/?lang_chg=sl</td>\n",
       "      <td>17.liffe.si</td>\n",
       "      <td>17.liffe.si</td>\n",
       "      <td>0.957875</td>\n",
       "      <td>17th LIFFe was brought to an end with the best...</td>\n",
       "      <td>S podelitvijo nagrad in predvajanjem Režiserja...</td>\n",
       "      <td>445</td>\n",
       "      <td>418</td>\n",
       "      <td>0.073930</td>\n",
       "      <td>News</td>\n",
       "      <td>0.997264</td>\n",
       "    </tr>\n",
       "  </tbody>\n",
       "</table>\n",
       "</div>"
      ],
      "text/plain": [
       "        biroamer_entities translation_direction  \\\n",
       "2584979                No               sl-orig   \n",
       "1212933                No               sl-orig   \n",
       "598330                Yes               sl-orig   \n",
       "\n",
       "                               en_source en_var_doc en_var_dom  \\\n",
       "2584979  http://15.liffe.si/?lang_chg=en          B          B   \n",
       "1212933  http://16.liffe.si/?lang_chg=en          B          B   \n",
       "598330   http://17.liffe.si/?lang_chg=en          B          B   \n",
       "\n",
       "                                            sl_source    en_domain  \\\n",
       "2584979               http://15.liffe.si/?lang_chg=sl  15.liffe.si   \n",
       "1212933  http://16.liffe.si/index.php?menu_item=domov  16.liffe.si   \n",
       "598330                http://17.liffe.si/?lang_chg=sl  17.liffe.si   \n",
       "\n",
       "           sl_domain  average_score  \\\n",
       "2584979  15.liffe.si       0.936808   \n",
       "1212933  16.liffe.si       0.900000   \n",
       "598330   17.liffe.si       0.957875   \n",
       "\n",
       "                                                    en_doc  \\\n",
       "2584979  It went out with a bang. The evening sparkled ...   \n",
       "1212933  Some days ago the organisers of the 17th Liffe...   \n",
       "598330   17th LIFFe was brought to an end with the best...   \n",
       "\n",
       "                                                    sl_doc  en_length  \\\n",
       "2584979  Končalo se je razburljivo in z razkošjem. Veče...        574   \n",
       "1212933  Pred dnevi smo se iz 59. mednarodnega filmskeg...        293   \n",
       "598330   S podelitvijo nagrad in predvajanjem Režiserja...        445   \n",
       "\n",
       "         sl_length  punct_ratio                X-GENRE  label_distribution  \n",
       "2584979        463     0.103501  Opinion/Argumentation            0.988794  \n",
       "1212933        184     0.076220                   News            0.961600  \n",
       "598330         418     0.073930                   News            0.997264  "
      ]
     },
     "execution_count": 2,
     "metadata": {},
     "output_type": "execute_result"
    }
   ],
   "source": [
    "corpus = pd.read_csv(\"Macocu-sl-en-predicted.csv\", sep = \"\\t\", index_col = 0)\n",
    "corpus.head(3)"
   ]
  },
  {
   "cell_type": "code",
   "execution_count": 8,
   "metadata": {},
   "outputs": [
    {
     "name": "stdout",
     "output_type": "stream",
     "text": [
      "|                         |   X-GENRE |\n",
      "|:------------------------|----------:|\n",
      "| Information/Explanation |     32368 |\n",
      "| Promotion               |     31384 |\n",
      "| News                    |     13605 |\n",
      "| Instruction             |     10846 |\n",
      "| Legal                   |      5866 |\n",
      "| Opinion/Argumentation   |      4863 |\n",
      "| Other                   |      2194 |\n",
      "| Forum                   |       405 |\n",
      "| Prose/Lyrical           |       276 |\n"
     ]
    }
   ],
   "source": [
    "print(corpus[\"X-GENRE\"].value_counts().to_markdown())"
   ]
  },
  {
   "cell_type": "code",
   "execution_count": 6,
   "metadata": {},
   "outputs": [
    {
     "name": "stdout",
     "output_type": "stream",
     "text": [
      "|       |   label_distribution |\n",
      "|:------|---------------------:|\n",
      "| count |        101807        |\n",
      "| mean  |             0.970066 |\n",
      "| std   |             0.089027 |\n",
      "| min   |             0.247184 |\n",
      "| 25%   |             0.995622 |\n",
      "| 50%   |             0.998666 |\n",
      "| 75%   |             0.998966 |\n",
      "| max   |             0.999145 |\n"
     ]
    }
   ],
   "source": [
    "print(corpus[\"label_distribution\"].describe().to_markdown())"
   ]
  },
  {
   "cell_type": "code",
   "execution_count": 17,
   "metadata": {},
   "outputs": [
    {
     "data": {
      "text/plain": [
       "['Forum', 'Other', 'Legal', 'Information/Explanation', 'Promotion']"
      ]
     },
     "execution_count": 17,
     "metadata": {},
     "output_type": "execute_result"
    }
   ],
   "source": [
    "corpus[corpus[\"label_distribution\"] < 0.3][\"X-GENRE\"].to_list()"
   ]
  },
  {
   "cell_type": "code",
   "execution_count": 16,
   "metadata": {},
   "outputs": [
    {
     "data": {
      "text/plain": [
       "['Student is part of DIR organizing student team, which starts with event organisation at the beginning of November. In the following step, the student and team are searching for matching industrial partners having available adequate industrial robots. In year 2015 offered their cooperation 17 industrial partners. After that student prepares all surrounding hardware, sensors and programs for all applications/robots. At the end of february are oppened registrations for the second group of students. Registrations are meant for any other student (who is not subject of this syllabus), who would at selected time have the prepared application available only for him. Nonregistered students and other younger or older visitors are welcome only for observation. The syllabus for student is in addition to complete preparison of robot application and cooperation with industry also including promotion of event in electronic and printed media, as well three day, full day demonstration in the week of DIR. The DIR student organizer obtain the project experience and special knowledge about the robot applications, the second group of students (who are not subject of this syllabus) is widening their field of expertize and competence in general, industry is always coming back due to good ideas. Student organizer obtains competences in project leadership, definition and solution of problems, coordination with industrial partners, design and advertisement of event, communication to media, professional competences linked robot cell design, construction and programming, the competences of individual and group work, as well as help within the group, competences of working with and presenting work to other colleagues and wider audience during DIR days event. The solved problems were several times used by industrial partners as demonstration applications for fairs. Complete scope of knowledge, how to approach the real industrial problem, to robot cell construction, and to robot programing. Experience of cooperation with industry, event promotion in media, interaction with other students and visitors. DIR meetings are scheduled weekly. They are devoted to past work check and to the planing of future activities. In the next step is contacting the industrial partners, who provide most recent equipment (robots). Particular problems that are under student responsibility are being solved step by step in focus groups. The student aranges also all other equipment and acompaning program solutions. The event is advertised in advance through various media and during the event. The solved problems are demostrated by student and available to other students throughout the 3 day DIR event. Study materials Articles from robotic journals: Textbooks, study material and relevant expert literature in the fields of robotics.',\n",
       " \"Nurse costume Costume that will turn your youngest into a real nurse. The children's costume includes a hat, a dress and plastic accessories. Costume that will turn your youngest into a real nurse. The children's costume includes a hat, a dress and plastic accessories. The children's costume includes a hat, a dress and plastic accessories. Size: The children's costume includes a hat, a dress and plastic accessories. Size: 3-6 years The costume and its packaging is not a toy and it is not suitable for kids under 3 years.\",\n",
       " 'Register a new member of ESSENS Club Sponsor A Sponsor is the someone who introduced you to the benefits of ESSENS Club membership, whether you decide to shop for profitable products, to shop for yourself or you want to build a successful multi-level network. Sponsor ID I do not have a Sponsor I ONLY WANT TO PURCHASE Purchase products at discounted prices with an additional discount of up to 50% and treat yourself and your family to premium products that you will use in everyday life. I WANT TO START MY BUSINESS Take advantage of unique opportunities to improve the quality of your life and your financial situation. Indulge in all the benefits of the Marketing Plan, build a career that you will enjoy and become financially and time independent. Registration Declaration By registering I agree with General Conditions of membership in ESSENS Club. I agree with the handling and storage of personal data in the ESSENS Club database, in accordance with the provisions of the Act no. 101/2000 Coll. I hereby agree with receiving business offers, adverts and other marketing or non-marketing information via email and via SMS. I hereby agree with publishing my personal data in the member database of ESSENS Club which can be accessible to other registered members. Profile image can be recorded only in jpg, jpeg and png format.',\n",
       " 'Alcestis is the heroine of a tragedy with a happy ending, written in 438 BC by the ancient Greek playwright Euripides. Despite its age, the work is still surprisingly relevant and attempts, in a subtle and ambiguous manner, to answer fundamental existential questions about death, loss and the role of women in a male-dominated society. Alcestis sacrifices her own life for her weak husband and voluntarily descends to the underworld in his place in order to save him from death. Dissatisfied with his uninvited guest, the irascible demigod Heracles dismisses her from the house of woe and restores her to life. This version of Alcestis, adapted by Lada Kaštelan for Dubrovnik’s Marin Držić Theatre, plunges deeper into the essence of Euripides’s mysterious messages and sensitively discloses them without proffering simple answers. The play is directed by the internationally acclaimed Slovene director Livija Pandur, the winner of the Slovenian Association of Dramatic Artists’ lifetime achievement award in 2018, who divides her professional life among Slovenia, Germany, Spain and Croatia.',\n",
       " 'The Strategy of the Court of Audit from 2021 to 2024 includes all key strategic priorities and objectives that shall affect the work of the Court of Audit in the future. By implementing audits, our institution aims to achieve the greatest outcomes possible regarding the operations of the users of public funds and the efficient management of public assets, to warn about possible future risks, to ensure sustainability of public finances and to encourage users of public funds and citizens to act in a sustainable manner. We believe that by achieving the set strategic objectives aimed at increasing the efficiency of operations of the users of public funds and the sustainability of society as a whole we shall continue to benefit all taxpayers and all the users of public funds.']"
      ]
     },
     "execution_count": 16,
     "metadata": {},
     "output_type": "execute_result"
    }
   ],
   "source": [
    "corpus[corpus[\"label_distribution\"] < 0.3].en_doc.to_list()"
   ]
  },
  {
   "cell_type": "code",
   "execution_count": 20,
   "metadata": {},
   "outputs": [
    {
     "data": {
      "text/plain": [
       "['Opinion/Argumentation',\n",
       " 'News',\n",
       " 'Promotion',\n",
       " 'Legal',\n",
       " 'Information/Explanation',\n",
       " 'Other',\n",
       " 'Instruction',\n",
       " 'Prose/Lyrical',\n",
       " 'Forum']"
      ]
     },
     "execution_count": 20,
     "metadata": {},
     "output_type": "execute_result"
    }
   ],
   "source": [
    "LABELS = list(corpus[\"X-GENRE\"].unique())\n",
    "LABELS"
   ]
  },
  {
   "cell_type": "code",
   "execution_count": 24,
   "metadata": {},
   "outputs": [
    {
     "name": "stdout",
     "output_type": "stream",
     "text": [
      "Opinion/Argumentation\n",
      "|     |   en_var_doc |\n",
      "|:----|-------------:|\n",
      "| B   |    0.432243  |\n",
      "| UNK |    0.335801  |\n",
      "| A   |    0.167386  |\n",
      "| MIX |    0.0645692 |\n",
      "News\n",
      "|     |   en_var_doc |\n",
      "|:----|-------------:|\n",
      "| B   |    0.550533  |\n",
      "| UNK |    0.312165  |\n",
      "| A   |    0.092025  |\n",
      "| MIX |    0.0452775 |\n",
      "Promotion\n",
      "|     |   en_var_doc |\n",
      "|:----|-------------:|\n",
      "| B   |    0.355404  |\n",
      "| UNK |    0.345017  |\n",
      "| A   |    0.22212   |\n",
      "| MIX |    0.0774599 |\n",
      "Legal\n",
      "|     |   en_var_doc |\n",
      "|:----|-------------:|\n",
      "| B   |    0.678145  |\n",
      "| UNK |    0.223491  |\n",
      "| A   |    0.062223  |\n",
      "| MIX |    0.0361405 |\n",
      "Information/Explanation\n",
      "|     |   en_var_doc |\n",
      "|:----|-------------:|\n",
      "| B   |    0.433329  |\n",
      "| UNK |    0.35912   |\n",
      "| A   |    0.144186  |\n",
      "| MIX |    0.0633651 |\n",
      "Other\n",
      "|     |   en_var_doc |\n",
      "|:----|-------------:|\n",
      "| B   |    0.461258  |\n",
      "| UNK |    0.309936  |\n",
      "| A   |    0.153601  |\n",
      "| MIX |    0.0752051 |\n",
      "Instruction\n",
      "|     |   en_var_doc |\n",
      "|:----|-------------:|\n",
      "| UNK |    0.479071  |\n",
      "| B   |    0.271805  |\n",
      "| A   |    0.212797  |\n",
      "| MIX |    0.0363268 |\n",
      "Prose/Lyrical\n",
      "|     |   en_var_doc |\n",
      "|:----|-------------:|\n",
      "| B   |    0.34058   |\n",
      "| UNK |    0.336957  |\n",
      "| A   |    0.228261  |\n",
      "| MIX |    0.0942029 |\n",
      "Forum\n",
      "|     |   en_var_doc |\n",
      "|:----|-------------:|\n",
      "| UNK |    0.506173  |\n",
      "| A   |    0.241975  |\n",
      "| B   |    0.212346  |\n",
      "| MIX |    0.0395062 |\n"
     ]
    }
   ],
   "source": [
    "for i in LABELS:\n",
    "    print(i)\n",
    "    filtered_corpus = corpus[corpus[\"X-GENRE\"] == i]\n",
    "    print(filtered_corpus[\"en_var_doc\"].value_counts(normalize=\"True\").to_markdown())"
   ]
  }
 ],
 "metadata": {
  "kernelspec": {
   "display_name": "Python 3.9.7 ('base')",
   "language": "python",
   "name": "python3"
  },
  "language_info": {
   "codemirror_mode": {
    "name": "ipython",
    "version": 3
   },
   "file_extension": ".py",
   "mimetype": "text/x-python",
   "name": "python",
   "nbconvert_exporter": "python",
   "pygments_lexer": "ipython3",
   "version": "3.9.7"
  },
  "orig_nbformat": 4,
  "vscode": {
   "interpreter": {
    "hash": "7e373e41fe05b496006fe2fc132d7af19f1d513370c44925a0044a5f3ee41336"
   }
  }
 },
 "nbformat": 4,
 "nbformat_minor": 2
}
