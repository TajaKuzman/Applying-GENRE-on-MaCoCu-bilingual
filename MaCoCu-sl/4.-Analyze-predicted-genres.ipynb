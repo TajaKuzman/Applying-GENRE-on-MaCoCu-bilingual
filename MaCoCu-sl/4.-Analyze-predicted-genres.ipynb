{
 "cells": [
  {
   "cell_type": "markdown",
   "metadata": {},
   "source": [
    "## Analysis of the entire corpus"
   ]
  },
  {
   "cell_type": "code",
   "execution_count": 2,
   "metadata": {},
   "outputs": [],
   "source": [
    "import pandas as pd\n",
    "import numpy as np\n",
    "import matplotlib.pyplot as plt\n",
    "from sklearn import metrics\n",
    "from sklearn.metrics import classification_report, confusion_matrix, f1_score,precision_score, recall_score"
   ]
  },
  {
   "cell_type": "code",
   "execution_count": 2,
   "metadata": {},
   "outputs": [
    {
     "data": {
      "text/html": [
       "<div>\n",
       "<style scoped>\n",
       "    .dataframe tbody tr th:only-of-type {\n",
       "        vertical-align: middle;\n",
       "    }\n",
       "\n",
       "    .dataframe tbody tr th {\n",
       "        vertical-align: top;\n",
       "    }\n",
       "\n",
       "    .dataframe thead th {\n",
       "        text-align: right;\n",
       "    }\n",
       "</style>\n",
       "<table border=\"1\" class=\"dataframe\">\n",
       "  <thead>\n",
       "    <tr style=\"text-align: right;\">\n",
       "      <th></th>\n",
       "      <th>biroamer_entities</th>\n",
       "      <th>translation_direction</th>\n",
       "      <th>en_source</th>\n",
       "      <th>en_var_doc</th>\n",
       "      <th>en_var_dom</th>\n",
       "      <th>sl_source</th>\n",
       "      <th>en_domain</th>\n",
       "      <th>sl_domain</th>\n",
       "      <th>average_score</th>\n",
       "      <th>en_doc</th>\n",
       "      <th>sl_doc</th>\n",
       "      <th>en_length</th>\n",
       "      <th>sl_length</th>\n",
       "      <th>punct_ratio</th>\n",
       "      <th>X-GENRE</th>\n",
       "      <th>label_distribution</th>\n",
       "      <th>chosen_category_distr</th>\n",
       "    </tr>\n",
       "  </thead>\n",
       "  <tbody>\n",
       "    <tr>\n",
       "      <th>2584979</th>\n",
       "      <td>No</td>\n",
       "      <td>sl-orig</td>\n",
       "      <td>http://15.liffe.si/?lang_chg=en</td>\n",
       "      <td>B</td>\n",
       "      <td>B</td>\n",
       "      <td>http://15.liffe.si/?lang_chg=sl</td>\n",
       "      <td>15.liffe.si</td>\n",
       "      <td>15.liffe.si</td>\n",
       "      <td>0.936808</td>\n",
       "      <td>It went out with a bang. The evening sparkled ...</td>\n",
       "      <td>Končalo se je razburljivo in z razkošjem. Veče...</td>\n",
       "      <td>574</td>\n",
       "      <td>463</td>\n",
       "      <td>0.103501</td>\n",
       "      <td>Opinion/Argumentation</td>\n",
       "      <td>{'Other': 0.0003, 'Information/Explanation': 0...</td>\n",
       "      <td>0.988794</td>\n",
       "    </tr>\n",
       "    <tr>\n",
       "      <th>1212933</th>\n",
       "      <td>No</td>\n",
       "      <td>sl-orig</td>\n",
       "      <td>http://16.liffe.si/?lang_chg=en</td>\n",
       "      <td>B</td>\n",
       "      <td>B</td>\n",
       "      <td>http://16.liffe.si/index.php?menu_item=domov</td>\n",
       "      <td>16.liffe.si</td>\n",
       "      <td>16.liffe.si</td>\n",
       "      <td>0.900000</td>\n",
       "      <td>Some days ago the organisers of the 17th Liffe...</td>\n",
       "      <td>Pred dnevi smo se iz 59. mednarodnega filmskeg...</td>\n",
       "      <td>293</td>\n",
       "      <td>184</td>\n",
       "      <td>0.076220</td>\n",
       "      <td>News</td>\n",
       "      <td>{'Other': 0.0009, 'Information/Explanation': 0...</td>\n",
       "      <td>0.961600</td>\n",
       "    </tr>\n",
       "    <tr>\n",
       "      <th>598330</th>\n",
       "      <td>Yes</td>\n",
       "      <td>sl-orig</td>\n",
       "      <td>http://17.liffe.si/?lang_chg=en</td>\n",
       "      <td>B</td>\n",
       "      <td>B</td>\n",
       "      <td>http://17.liffe.si/?lang_chg=sl</td>\n",
       "      <td>17.liffe.si</td>\n",
       "      <td>17.liffe.si</td>\n",
       "      <td>0.957875</td>\n",
       "      <td>17th LIFFe was brought to an end with the best...</td>\n",
       "      <td>S podelitvijo nagrad in predvajanjem Režiserja...</td>\n",
       "      <td>445</td>\n",
       "      <td>418</td>\n",
       "      <td>0.073930</td>\n",
       "      <td>News</td>\n",
       "      <td>{'Other': 0.0001, 'Information/Explanation': 0...</td>\n",
       "      <td>0.997264</td>\n",
       "    </tr>\n",
       "  </tbody>\n",
       "</table>\n",
       "</div>"
      ],
      "text/plain": [
       "        biroamer_entities translation_direction  \\\n",
       "2584979                No               sl-orig   \n",
       "1212933                No               sl-orig   \n",
       "598330                Yes               sl-orig   \n",
       "\n",
       "                               en_source en_var_doc en_var_dom  \\\n",
       "2584979  http://15.liffe.si/?lang_chg=en          B          B   \n",
       "1212933  http://16.liffe.si/?lang_chg=en          B          B   \n",
       "598330   http://17.liffe.si/?lang_chg=en          B          B   \n",
       "\n",
       "                                            sl_source    en_domain  \\\n",
       "2584979               http://15.liffe.si/?lang_chg=sl  15.liffe.si   \n",
       "1212933  http://16.liffe.si/index.php?menu_item=domov  16.liffe.si   \n",
       "598330                http://17.liffe.si/?lang_chg=sl  17.liffe.si   \n",
       "\n",
       "           sl_domain  average_score  \\\n",
       "2584979  15.liffe.si       0.936808   \n",
       "1212933  16.liffe.si       0.900000   \n",
       "598330   17.liffe.si       0.957875   \n",
       "\n",
       "                                                    en_doc  \\\n",
       "2584979  It went out with a bang. The evening sparkled ...   \n",
       "1212933  Some days ago the organisers of the 17th Liffe...   \n",
       "598330   17th LIFFe was brought to an end with the best...   \n",
       "\n",
       "                                                    sl_doc  en_length  \\\n",
       "2584979  Končalo se je razburljivo in z razkošjem. Veče...        574   \n",
       "1212933  Pred dnevi smo se iz 59. mednarodnega filmskeg...        293   \n",
       "598330   S podelitvijo nagrad in predvajanjem Režiserja...        445   \n",
       "\n",
       "         sl_length  punct_ratio                X-GENRE  \\\n",
       "2584979        463     0.103501  Opinion/Argumentation   \n",
       "1212933        184     0.076220                   News   \n",
       "598330         418     0.073930                   News   \n",
       "\n",
       "                                        label_distribution  \\\n",
       "2584979  {'Other': 0.0003, 'Information/Explanation': 0...   \n",
       "1212933  {'Other': 0.0009, 'Information/Explanation': 0...   \n",
       "598330   {'Other': 0.0001, 'Information/Explanation': 0...   \n",
       "\n",
       "         chosen_category_distr  \n",
       "2584979               0.988794  \n",
       "1212933               0.961600  \n",
       "598330                0.997264  "
      ]
     },
     "execution_count": 2,
     "metadata": {},
     "output_type": "execute_result"
    }
   ],
   "source": [
    "corpus = pd.read_csv(\"Macocu-sl-en-predicted.csv\", sep = \"\\t\", index_col = 0)\n",
    "corpus.head(3)"
   ]
  },
  {
   "cell_type": "code",
   "execution_count": 5,
   "metadata": {},
   "outputs": [
    {
     "name": "stdout",
     "output_type": "stream",
     "text": [
      "|                         |    X-GENRE |\n",
      "|:------------------------|-----------:|\n",
      "| Information/Explanation | 0.317935   |\n",
      "| Promotion               | 0.30827    |\n",
      "| News                    | 0.133635   |\n",
      "| Instruction             | 0.106535   |\n",
      "| Legal                   | 0.0576188  |\n",
      "| Opinion/Argumentation   | 0.0477669  |\n",
      "| Other                   | 0.0215506  |\n",
      "| Forum                   | 0.00397812 |\n",
      "| Prose/Lyrical           | 0.00271101 |\n"
     ]
    }
   ],
   "source": [
    "print(corpus[\"X-GENRE\"].value_counts(normalize=True).to_markdown())"
   ]
  },
  {
   "cell_type": "code",
   "execution_count": 6,
   "metadata": {},
   "outputs": [
    {
     "name": "stdout",
     "output_type": "stream",
     "text": [
      "|       |   chosen_category_distr |\n",
      "|:------|------------------------:|\n",
      "| count |           101807        |\n",
      "| mean  |                0.970066 |\n",
      "| std   |                0.089027 |\n",
      "| min   |                0.247184 |\n",
      "| 25%   |                0.995622 |\n",
      "| 50%   |                0.998666 |\n",
      "| 75%   |                0.998966 |\n",
      "| max   |                0.999145 |\n"
     ]
    }
   ],
   "source": [
    "print(corpus[\"chosen_category_distr\"].describe().to_markdown())"
   ]
  },
  {
   "cell_type": "code",
   "execution_count": 17,
   "metadata": {},
   "outputs": [
    {
     "data": {
      "text/plain": [
       "['Forum', 'Other', 'Legal', 'Information/Explanation', 'Promotion']"
      ]
     },
     "execution_count": 17,
     "metadata": {},
     "output_type": "execute_result"
    }
   ],
   "source": [
    "corpus[corpus[\"label_distribution\"] < 0.3][\"X-GENRE\"].to_list()"
   ]
  },
  {
   "cell_type": "code",
   "execution_count": 16,
   "metadata": {},
   "outputs": [
    {
     "data": {
      "text/plain": [
       "['Student is part of DIR organizing student team, which starts with event organisation at the beginning of November. In the following step, the student and team are searching for matching industrial partners having available adequate industrial robots. In year 2015 offered their cooperation 17 industrial partners. After that student prepares all surrounding hardware, sensors and programs for all applications/robots. At the end of february are oppened registrations for the second group of students. Registrations are meant for any other student (who is not subject of this syllabus), who would at selected time have the prepared application available only for him. Nonregistered students and other younger or older visitors are welcome only for observation. The syllabus for student is in addition to complete preparison of robot application and cooperation with industry also including promotion of event in electronic and printed media, as well three day, full day demonstration in the week of DIR. The DIR student organizer obtain the project experience and special knowledge about the robot applications, the second group of students (who are not subject of this syllabus) is widening their field of expertize and competence in general, industry is always coming back due to good ideas. Student organizer obtains competences in project leadership, definition and solution of problems, coordination with industrial partners, design and advertisement of event, communication to media, professional competences linked robot cell design, construction and programming, the competences of individual and group work, as well as help within the group, competences of working with and presenting work to other colleagues and wider audience during DIR days event. The solved problems were several times used by industrial partners as demonstration applications for fairs. Complete scope of knowledge, how to approach the real industrial problem, to robot cell construction, and to robot programing. Experience of cooperation with industry, event promotion in media, interaction with other students and visitors. DIR meetings are scheduled weekly. They are devoted to past work check and to the planing of future activities. In the next step is contacting the industrial partners, who provide most recent equipment (robots). Particular problems that are under student responsibility are being solved step by step in focus groups. The student aranges also all other equipment and acompaning program solutions. The event is advertised in advance through various media and during the event. The solved problems are demostrated by student and available to other students throughout the 3 day DIR event. Study materials Articles from robotic journals: Textbooks, study material and relevant expert literature in the fields of robotics.',\n",
       " \"Nurse costume Costume that will turn your youngest into a real nurse. The children's costume includes a hat, a dress and plastic accessories. Costume that will turn your youngest into a real nurse. The children's costume includes a hat, a dress and plastic accessories. The children's costume includes a hat, a dress and plastic accessories. Size: The children's costume includes a hat, a dress and plastic accessories. Size: 3-6 years The costume and its packaging is not a toy and it is not suitable for kids under 3 years.\",\n",
       " 'Register a new member of ESSENS Club Sponsor A Sponsor is the someone who introduced you to the benefits of ESSENS Club membership, whether you decide to shop for profitable products, to shop for yourself or you want to build a successful multi-level network. Sponsor ID I do not have a Sponsor I ONLY WANT TO PURCHASE Purchase products at discounted prices with an additional discount of up to 50% and treat yourself and your family to premium products that you will use in everyday life. I WANT TO START MY BUSINESS Take advantage of unique opportunities to improve the quality of your life and your financial situation. Indulge in all the benefits of the Marketing Plan, build a career that you will enjoy and become financially and time independent. Registration Declaration By registering I agree with General Conditions of membership in ESSENS Club. I agree with the handling and storage of personal data in the ESSENS Club database, in accordance with the provisions of the Act no. 101/2000 Coll. I hereby agree with receiving business offers, adverts and other marketing or non-marketing information via email and via SMS. I hereby agree with publishing my personal data in the member database of ESSENS Club which can be accessible to other registered members. Profile image can be recorded only in jpg, jpeg and png format.',\n",
       " 'Alcestis is the heroine of a tragedy with a happy ending, written in 438 BC by the ancient Greek playwright Euripides. Despite its age, the work is still surprisingly relevant and attempts, in a subtle and ambiguous manner, to answer fundamental existential questions about death, loss and the role of women in a male-dominated society. Alcestis sacrifices her own life for her weak husband and voluntarily descends to the underworld in his place in order to save him from death. Dissatisfied with his uninvited guest, the irascible demigod Heracles dismisses her from the house of woe and restores her to life. This version of Alcestis, adapted by Lada Kaštelan for Dubrovnik’s Marin Držić Theatre, plunges deeper into the essence of Euripides’s mysterious messages and sensitively discloses them without proffering simple answers. The play is directed by the internationally acclaimed Slovene director Livija Pandur, the winner of the Slovenian Association of Dramatic Artists’ lifetime achievement award in 2018, who divides her professional life among Slovenia, Germany, Spain and Croatia.',\n",
       " 'The Strategy of the Court of Audit from 2021 to 2024 includes all key strategic priorities and objectives that shall affect the work of the Court of Audit in the future. By implementing audits, our institution aims to achieve the greatest outcomes possible regarding the operations of the users of public funds and the efficient management of public assets, to warn about possible future risks, to ensure sustainability of public finances and to encourage users of public funds and citizens to act in a sustainable manner. We believe that by achieving the set strategic objectives aimed at increasing the efficiency of operations of the users of public funds and the sustainability of society as a whole we shall continue to benefit all taxpayers and all the users of public funds.']"
      ]
     },
     "execution_count": 16,
     "metadata": {},
     "output_type": "execute_result"
    }
   ],
   "source": [
    "corpus[corpus[\"label_distribution\"] < 0.3].en_doc.to_list()"
   ]
  },
  {
   "cell_type": "code",
   "execution_count": 12,
   "metadata": {},
   "outputs": [
    {
     "name": "stdout",
     "output_type": "stream",
     "text": [
      "['Opinion/Argumentation', 'News', 'Promotion', 'Legal', 'Information/Explanation', 'Other', 'Instruction', 'Prose/Lyrical', 'Forum']\n"
     ]
    }
   ],
   "source": [
    "LABELS = list(corpus[\"X-GENRE\"].unique())\n",
    "print(LABELS)"
   ]
  },
  {
   "cell_type": "code",
   "execution_count": 8,
   "metadata": {},
   "outputs": [
    {
     "name": "stdout",
     "output_type": "stream",
     "text": [
      "Opinion/Argumentation\n",
      "|     |   en_var_doc |\n",
      "|:----|-------------:|\n",
      "| B   |    0.432243  |\n",
      "| UNK |    0.335801  |\n",
      "| A   |    0.167386  |\n",
      "| MIX |    0.0645692 |\n",
      "News\n",
      "|     |   en_var_doc |\n",
      "|:----|-------------:|\n",
      "| B   |    0.550533  |\n",
      "| UNK |    0.312165  |\n",
      "| A   |    0.092025  |\n",
      "| MIX |    0.0452775 |\n",
      "Promotion\n",
      "|     |   en_var_doc |\n",
      "|:----|-------------:|\n",
      "| B   |    0.355404  |\n",
      "| UNK |    0.345017  |\n",
      "| A   |    0.22212   |\n",
      "| MIX |    0.0774599 |\n",
      "Legal\n",
      "|     |   en_var_doc |\n",
      "|:----|-------------:|\n",
      "| B   |    0.678145  |\n",
      "| UNK |    0.223491  |\n",
      "| A   |    0.062223  |\n",
      "| MIX |    0.0361405 |\n",
      "Information/Explanation\n",
      "|     |   en_var_doc |\n",
      "|:----|-------------:|\n",
      "| B   |    0.433329  |\n",
      "| UNK |    0.35912   |\n",
      "| A   |    0.144186  |\n",
      "| MIX |    0.0633651 |\n",
      "Other\n",
      "|     |   en_var_doc |\n",
      "|:----|-------------:|\n",
      "| B   |    0.461258  |\n",
      "| UNK |    0.309936  |\n",
      "| A   |    0.153601  |\n",
      "| MIX |    0.0752051 |\n",
      "Instruction\n",
      "|     |   en_var_doc |\n",
      "|:----|-------------:|\n",
      "| UNK |    0.479071  |\n",
      "| B   |    0.271805  |\n",
      "| A   |    0.212797  |\n",
      "| MIX |    0.0363268 |\n",
      "Prose/Lyrical\n",
      "|     |   en_var_doc |\n",
      "|:----|-------------:|\n",
      "| B   |    0.34058   |\n",
      "| UNK |    0.336957  |\n",
      "| A   |    0.228261  |\n",
      "| MIX |    0.0942029 |\n",
      "Forum\n",
      "|     |   en_var_doc |\n",
      "|:----|-------------:|\n",
      "| UNK |    0.506173  |\n",
      "| A   |    0.241975  |\n",
      "| B   |    0.212346  |\n",
      "| MIX |    0.0395062 |\n"
     ]
    }
   ],
   "source": [
    "for i in LABELS:\n",
    "    print(i)\n",
    "    filtered_corpus = corpus[corpus[\"X-GENRE\"] == i]\n",
    "    print(filtered_corpus[\"en_var_doc\"].value_counts(normalize=\"True\").to_markdown())"
   ]
  },
  {
   "cell_type": "markdown",
   "metadata": {},
   "source": [
    "## Manual analysis of a sample"
   ]
  },
  {
   "cell_type": "markdown",
   "metadata": {},
   "source": [
    "### Creation of the sample"
   ]
  },
  {
   "cell_type": "code",
   "execution_count": 9,
   "metadata": {},
   "outputs": [
    {
     "data": {
      "text/html": [
       "<div>\n",
       "<style scoped>\n",
       "    .dataframe tbody tr th:only-of-type {\n",
       "        vertical-align: middle;\n",
       "    }\n",
       "\n",
       "    .dataframe tbody tr th {\n",
       "        vertical-align: top;\n",
       "    }\n",
       "\n",
       "    .dataframe thead th {\n",
       "        text-align: right;\n",
       "    }\n",
       "</style>\n",
       "<table border=\"1\" class=\"dataframe\">\n",
       "  <thead>\n",
       "    <tr style=\"text-align: right;\">\n",
       "      <th></th>\n",
       "      <th>biroamer_entities</th>\n",
       "      <th>translation_direction</th>\n",
       "      <th>en_source</th>\n",
       "      <th>en_var_doc</th>\n",
       "      <th>en_var_dom</th>\n",
       "      <th>sl_source</th>\n",
       "      <th>en_domain</th>\n",
       "      <th>sl_domain</th>\n",
       "      <th>average_score</th>\n",
       "      <th>en_doc</th>\n",
       "      <th>sl_doc</th>\n",
       "      <th>en_length</th>\n",
       "      <th>sl_length</th>\n",
       "      <th>punct_ratio</th>\n",
       "      <th>X-GENRE</th>\n",
       "      <th>label_distribution</th>\n",
       "      <th>chosen_category_distr</th>\n",
       "    </tr>\n",
       "  </thead>\n",
       "  <tbody>\n",
       "    <tr>\n",
       "      <th>3118013</th>\n",
       "      <td>No</td>\n",
       "      <td>sl-orig</td>\n",
       "      <td>http://galerijalkatraz.org/?p=11500</td>\n",
       "      <td>MIX</td>\n",
       "      <td>B</td>\n",
       "      <td>http://galerijalkatraz.org/?p=11451</td>\n",
       "      <td>galerijalkatraz.org</td>\n",
       "      <td>galerijalkatraz.org</td>\n",
       "      <td>0.922638</td>\n",
       "      <td>20 May 2016 &amp;gt; 23 May 2016 Kindly invited to...</td>\n",
       "      <td>Maj 2016 &amp;gt; 23 Maj 2016 Vljudno vabljeni na ...</td>\n",
       "      <td>1022</td>\n",
       "      <td>682</td>\n",
       "      <td>0.095557</td>\n",
       "      <td>Other</td>\n",
       "      <td>{'Other': 0.9023, 'Information/Explanation': 0...</td>\n",
       "      <td>0.902287</td>\n",
       "    </tr>\n",
       "    <tr>\n",
       "      <th>1999145</th>\n",
       "      <td>No</td>\n",
       "      <td>sl-orig</td>\n",
       "      <td>https://cor.europa.eu/en/news/Pages/Bringing-E...</td>\n",
       "      <td>B</td>\n",
       "      <td>B</td>\n",
       "      <td>https://cor.europa.eu/sl/news/Pages/bringing-e...</td>\n",
       "      <td>cor.europa.eu</td>\n",
       "      <td>cor.europa.eu</td>\n",
       "      <td>0.932378</td>\n",
       "      <td>1) Rethink the EU democratic model to better r...</td>\n",
       "      <td>Evropski odbor regij (OR) je 2. julija sprejel...</td>\n",
       "      <td>955</td>\n",
       "      <td>940</td>\n",
       "      <td>0.081323</td>\n",
       "      <td>News</td>\n",
       "      <td>{'Other': 0.0122, 'Information/Explanation': 0...</td>\n",
       "      <td>0.607548</td>\n",
       "    </tr>\n",
       "    <tr>\n",
       "      <th>2021958</th>\n",
       "      <td>No</td>\n",
       "      <td>sl-orig</td>\n",
       "      <td>https://www.turistica.si/en/news/brezplacna-ce...</td>\n",
       "      <td>B</td>\n",
       "      <td>B</td>\n",
       "      <td>https://www.turistica.si/si/novice/brezplacna-...</td>\n",
       "      <td>turistica.si</td>\n",
       "      <td>turistica.si</td>\n",
       "      <td>0.795667</td>\n",
       "      <td>The course was prepared in frame of a network-...</td>\n",
       "      <td>Tečaja je pripravila UNESCO-va mreža 10 univer...</td>\n",
       "      <td>165</td>\n",
       "      <td>116</td>\n",
       "      <td>0.106061</td>\n",
       "      <td>Other</td>\n",
       "      <td>{'Other': 0.9902, 'Information/Explanation': 0...</td>\n",
       "      <td>0.990174</td>\n",
       "    </tr>\n",
       "    <tr>\n",
       "      <th>2435571</th>\n",
       "      <td>Yes</td>\n",
       "      <td>sl-orig</td>\n",
       "      <td>http://ricinus2.mf.uni-lj.si/BS/neva.exe?name=...</td>\n",
       "      <td>MIX</td>\n",
       "      <td>MIX</td>\n",
       "      <td>http://ricinus2.mf.uni-lj.si/BS/neva.exe?n=bs_...</td>\n",
       "      <td>ricinus2.mf.uni-lj.si</td>\n",
       "      <td>ricinus2.mf.uni-lj.si</td>\n",
       "      <td>0.838000</td>\n",
       "      <td>Vogt Guenter; Štrus Jasna Hypogean life-style ...</td>\n",
       "      <td>Žust J; Klemenc N; Vospernik P; Pestevšek U; V...</td>\n",
       "      <td>250</td>\n",
       "      <td>149</td>\n",
       "      <td>0.024911</td>\n",
       "      <td>Information/Explanation</td>\n",
       "      <td>{'Other': 0.0001, 'Information/Explanation': 0...</td>\n",
       "      <td>0.999114</td>\n",
       "    </tr>\n",
       "    <tr>\n",
       "      <th>1057034</th>\n",
       "      <td>No</td>\n",
       "      <td>sl-orig</td>\n",
       "      <td>https://dk.um.si/Iskanje.php?type=napredno&amp;amp...</td>\n",
       "      <td>B</td>\n",
       "      <td>MIX</td>\n",
       "      <td>https://dk.um.si/Iskanje.php?type=napredno&amp;amp...</td>\n",
       "      <td>dk.um.si</td>\n",
       "      <td>dk.um.si</td>\n",
       "      <td>0.767476</td>\n",
       "      <td>Furthermore, the results from cellulose and su...</td>\n",
       "      <td>Za določitev uporabnosti metode izolacije iz p...</td>\n",
       "      <td>386</td>\n",
       "      <td>151</td>\n",
       "      <td>0.085653</td>\n",
       "      <td>Information/Explanation</td>\n",
       "      <td>{'Other': 0.0001, 'Information/Explanation': 0...</td>\n",
       "      <td>0.999091</td>\n",
       "    </tr>\n",
       "    <tr>\n",
       "      <th>...</th>\n",
       "      <td>...</td>\n",
       "      <td>...</td>\n",
       "      <td>...</td>\n",
       "      <td>...</td>\n",
       "      <td>...</td>\n",
       "      <td>...</td>\n",
       "      <td>...</td>\n",
       "      <td>...</td>\n",
       "      <td>...</td>\n",
       "      <td>...</td>\n",
       "      <td>...</td>\n",
       "      <td>...</td>\n",
       "      <td>...</td>\n",
       "      <td>...</td>\n",
       "      <td>...</td>\n",
       "      <td>...</td>\n",
       "      <td>...</td>\n",
       "    </tr>\n",
       "    <tr>\n",
       "      <th>1558752</th>\n",
       "      <td>No</td>\n",
       "      <td>sl-orig</td>\n",
       "      <td>https://eur-lex.europa.eu/legal-content/en/ALL...</td>\n",
       "      <td>B</td>\n",
       "      <td>B</td>\n",
       "      <td>https://eur-lex.europa.eu/legal-content/SL/TXT...</td>\n",
       "      <td>eur-lex.europa.eu</td>\n",
       "      <td>eur-lex.europa.eu</td>\n",
       "      <td>0.790200</td>\n",
       "      <td>HAS ADOPTED THIS REGULATION: CHAPTER I SCOPE, ...</td>\n",
       "      <td>Zlasti je pomembno, da se Komisija pri svojem ...</td>\n",
       "      <td>104</td>\n",
       "      <td>6772</td>\n",
       "      <td>0.050000</td>\n",
       "      <td>Legal</td>\n",
       "      <td>{'Other': 0.0003, 'Information/Explanation': 0...</td>\n",
       "      <td>0.997087</td>\n",
       "    </tr>\n",
       "    <tr>\n",
       "      <th>1841516</th>\n",
       "      <td>No</td>\n",
       "      <td>sl-orig</td>\n",
       "      <td>http://www.drustvo-mknz.si/waawe1.html</td>\n",
       "      <td>UNK</td>\n",
       "      <td>MIX</td>\n",
       "      <td>http://www.drustvo-mknz.si/waawe.html</td>\n",
       "      <td>drustvo-mknz.si</td>\n",
       "      <td>drustvo-mknz.si</td>\n",
       "      <td>0.963667</td>\n",
       "      <td>Waawe are from Tabor, in the southern Czech Re...</td>\n",
       "      <td>Waawe prihajajo iz Tabora na jugu Češke. Skupi...</td>\n",
       "      <td>191</td>\n",
       "      <td>170</td>\n",
       "      <td>0.132780</td>\n",
       "      <td>Information/Explanation</td>\n",
       "      <td>{'Other': 0.0001, 'Information/Explanation': 0...</td>\n",
       "      <td>0.999114</td>\n",
       "    </tr>\n",
       "    <tr>\n",
       "      <th>1789650</th>\n",
       "      <td>No</td>\n",
       "      <td>sl-orig</td>\n",
       "      <td>https://odeja.si/en/collections/bedlinen-alleg...</td>\n",
       "      <td>B</td>\n",
       "      <td>B</td>\n",
       "      <td>https://odeja.si/slo/kolekcija/posteljnina-all...</td>\n",
       "      <td>odeja.si</td>\n",
       "      <td>odeja.si</td>\n",
       "      <td>0.939143</td>\n",
       "      <td>The bed cover is made from high-quality cotton...</td>\n",
       "      <td>Pregrinjalo za posteljo je izdelano iz vrhunsk...</td>\n",
       "      <td>179</td>\n",
       "      <td>110</td>\n",
       "      <td>0.098131</td>\n",
       "      <td>Promotion</td>\n",
       "      <td>{'Other': 0.0002, 'Information/Explanation': 0...</td>\n",
       "      <td>0.999010</td>\n",
       "    </tr>\n",
       "    <tr>\n",
       "      <th>854977</th>\n",
       "      <td>No</td>\n",
       "      <td>sl-orig</td>\n",
       "      <td>https://bsf.si/en/movie/mesto-svetlobe/</td>\n",
       "      <td>UNK</td>\n",
       "      <td>B</td>\n",
       "      <td>https://bsf.si/sl/film/mesto-svetlobe/</td>\n",
       "      <td>bsf.si</td>\n",
       "      <td>bsf.si</td>\n",
       "      <td>0.889750</td>\n",
       "      <td>City of Light A well-established writer fights...</td>\n",
       "      <td>Mesto svetlobe Uveljavljen pisatelj se bori z ...</td>\n",
       "      <td>87</td>\n",
       "      <td>71</td>\n",
       "      <td>0.090000</td>\n",
       "      <td>Opinion/Argumentation</td>\n",
       "      <td>{'Other': 0.0002, 'Information/Explanation': 0...</td>\n",
       "      <td>0.997819</td>\n",
       "    </tr>\n",
       "    <tr>\n",
       "      <th>2748424</th>\n",
       "      <td>No</td>\n",
       "      <td>sl-orig</td>\n",
       "      <td>https://www2.deloitte.com/hr/en/pages/about-de...</td>\n",
       "      <td>MIX</td>\n",
       "      <td>B</td>\n",
       "      <td>https://www2.deloitte.com/si/sl/pages/about-de...</td>\n",
       "      <td>www2.deloitte.com</td>\n",
       "      <td>www2.deloitte.com</td>\n",
       "      <td>0.952172</td>\n",
       "      <td>The chart above demonstrates that within the n...</td>\n",
       "      <td>Graf prikazuje, da v naslednjih petih letih ve...</td>\n",
       "      <td>596</td>\n",
       "      <td>588</td>\n",
       "      <td>0.074890</td>\n",
       "      <td>Information/Explanation</td>\n",
       "      <td>{'Other': 0.0001, 'Information/Explanation': 0...</td>\n",
       "      <td>0.998118</td>\n",
       "    </tr>\n",
       "  </tbody>\n",
       "</table>\n",
       "<p>100 rows × 17 columns</p>\n",
       "</div>"
      ],
      "text/plain": [
       "        biroamer_entities translation_direction  \\\n",
       "3118013                No               sl-orig   \n",
       "1999145                No               sl-orig   \n",
       "2021958                No               sl-orig   \n",
       "2435571               Yes               sl-orig   \n",
       "1057034                No               sl-orig   \n",
       "...                   ...                   ...   \n",
       "1558752                No               sl-orig   \n",
       "1841516                No               sl-orig   \n",
       "1789650                No               sl-orig   \n",
       "854977                 No               sl-orig   \n",
       "2748424                No               sl-orig   \n",
       "\n",
       "                                                 en_source en_var_doc  \\\n",
       "3118013                http://galerijalkatraz.org/?p=11500        MIX   \n",
       "1999145  https://cor.europa.eu/en/news/Pages/Bringing-E...          B   \n",
       "2021958  https://www.turistica.si/en/news/brezplacna-ce...          B   \n",
       "2435571  http://ricinus2.mf.uni-lj.si/BS/neva.exe?name=...        MIX   \n",
       "1057034  https://dk.um.si/Iskanje.php?type=napredno&amp...          B   \n",
       "...                                                    ...        ...   \n",
       "1558752  https://eur-lex.europa.eu/legal-content/en/ALL...          B   \n",
       "1841516             http://www.drustvo-mknz.si/waawe1.html        UNK   \n",
       "1789650  https://odeja.si/en/collections/bedlinen-alleg...          B   \n",
       "854977             https://bsf.si/en/movie/mesto-svetlobe/        UNK   \n",
       "2748424  https://www2.deloitte.com/hr/en/pages/about-de...        MIX   \n",
       "\n",
       "        en_var_dom                                          sl_source  \\\n",
       "3118013          B                http://galerijalkatraz.org/?p=11451   \n",
       "1999145          B  https://cor.europa.eu/sl/news/Pages/bringing-e...   \n",
       "2021958          B  https://www.turistica.si/si/novice/brezplacna-...   \n",
       "2435571        MIX  http://ricinus2.mf.uni-lj.si/BS/neva.exe?n=bs_...   \n",
       "1057034        MIX  https://dk.um.si/Iskanje.php?type=napredno&amp...   \n",
       "...            ...                                                ...   \n",
       "1558752          B  https://eur-lex.europa.eu/legal-content/SL/TXT...   \n",
       "1841516        MIX              http://www.drustvo-mknz.si/waawe.html   \n",
       "1789650          B  https://odeja.si/slo/kolekcija/posteljnina-all...   \n",
       "854977           B             https://bsf.si/sl/film/mesto-svetlobe/   \n",
       "2748424          B  https://www2.deloitte.com/si/sl/pages/about-de...   \n",
       "\n",
       "                     en_domain              sl_domain  average_score  \\\n",
       "3118013    galerijalkatraz.org    galerijalkatraz.org       0.922638   \n",
       "1999145          cor.europa.eu          cor.europa.eu       0.932378   \n",
       "2021958           turistica.si           turistica.si       0.795667   \n",
       "2435571  ricinus2.mf.uni-lj.si  ricinus2.mf.uni-lj.si       0.838000   \n",
       "1057034               dk.um.si               dk.um.si       0.767476   \n",
       "...                        ...                    ...            ...   \n",
       "1558752      eur-lex.europa.eu      eur-lex.europa.eu       0.790200   \n",
       "1841516        drustvo-mknz.si        drustvo-mknz.si       0.963667   \n",
       "1789650               odeja.si               odeja.si       0.939143   \n",
       "854977                  bsf.si                 bsf.si       0.889750   \n",
       "2748424      www2.deloitte.com      www2.deloitte.com       0.952172   \n",
       "\n",
       "                                                    en_doc  \\\n",
       "3118013  20 May 2016 &gt; 23 May 2016 Kindly invited to...   \n",
       "1999145  1) Rethink the EU democratic model to better r...   \n",
       "2021958  The course was prepared in frame of a network-...   \n",
       "2435571  Vogt Guenter; Štrus Jasna Hypogean life-style ...   \n",
       "1057034  Furthermore, the results from cellulose and su...   \n",
       "...                                                    ...   \n",
       "1558752  HAS ADOPTED THIS REGULATION: CHAPTER I SCOPE, ...   \n",
       "1841516  Waawe are from Tabor, in the southern Czech Re...   \n",
       "1789650  The bed cover is made from high-quality cotton...   \n",
       "854977   City of Light A well-established writer fights...   \n",
       "2748424  The chart above demonstrates that within the n...   \n",
       "\n",
       "                                                    sl_doc  en_length  \\\n",
       "3118013  Maj 2016 &gt; 23 Maj 2016 Vljudno vabljeni na ...       1022   \n",
       "1999145  Evropski odbor regij (OR) je 2. julija sprejel...        955   \n",
       "2021958  Tečaja je pripravila UNESCO-va mreža 10 univer...        165   \n",
       "2435571  Žust J; Klemenc N; Vospernik P; Pestevšek U; V...        250   \n",
       "1057034  Za določitev uporabnosti metode izolacije iz p...        386   \n",
       "...                                                    ...        ...   \n",
       "1558752  Zlasti je pomembno, da se Komisija pri svojem ...        104   \n",
       "1841516  Waawe prihajajo iz Tabora na jugu Češke. Skupi...        191   \n",
       "1789650  Pregrinjalo za posteljo je izdelano iz vrhunsk...        179   \n",
       "854977   Mesto svetlobe Uveljavljen pisatelj se bori z ...         87   \n",
       "2748424  Graf prikazuje, da v naslednjih petih letih ve...        596   \n",
       "\n",
       "         sl_length  punct_ratio                  X-GENRE  \\\n",
       "3118013        682     0.095557                    Other   \n",
       "1999145        940     0.081323                     News   \n",
       "2021958        116     0.106061                    Other   \n",
       "2435571        149     0.024911  Information/Explanation   \n",
       "1057034        151     0.085653  Information/Explanation   \n",
       "...            ...          ...                      ...   \n",
       "1558752       6772     0.050000                    Legal   \n",
       "1841516        170     0.132780  Information/Explanation   \n",
       "1789650        110     0.098131                Promotion   \n",
       "854977          71     0.090000    Opinion/Argumentation   \n",
       "2748424        588     0.074890  Information/Explanation   \n",
       "\n",
       "                                        label_distribution  \\\n",
       "3118013  {'Other': 0.9023, 'Information/Explanation': 0...   \n",
       "1999145  {'Other': 0.0122, 'Information/Explanation': 0...   \n",
       "2021958  {'Other': 0.9902, 'Information/Explanation': 0...   \n",
       "2435571  {'Other': 0.0001, 'Information/Explanation': 0...   \n",
       "1057034  {'Other': 0.0001, 'Information/Explanation': 0...   \n",
       "...                                                    ...   \n",
       "1558752  {'Other': 0.0003, 'Information/Explanation': 0...   \n",
       "1841516  {'Other': 0.0001, 'Information/Explanation': 0...   \n",
       "1789650  {'Other': 0.0002, 'Information/Explanation': 0...   \n",
       "854977   {'Other': 0.0002, 'Information/Explanation': 0...   \n",
       "2748424  {'Other': 0.0001, 'Information/Explanation': 0...   \n",
       "\n",
       "         chosen_category_distr  \n",
       "3118013               0.902287  \n",
       "1999145               0.607548  \n",
       "2021958               0.990174  \n",
       "2435571               0.999114  \n",
       "1057034               0.999091  \n",
       "...                        ...  \n",
       "1558752               0.997087  \n",
       "1841516               0.999114  \n",
       "1789650               0.999010  \n",
       "854977                0.997819  \n",
       "2748424               0.998118  \n",
       "\n",
       "[100 rows x 17 columns]"
      ]
     },
     "execution_count": 9,
     "metadata": {},
     "output_type": "execute_result"
    }
   ],
   "source": [
    "# Create a sample corpus for manual inspection where the labels are stratified\n",
    "\n",
    "from sklearn.model_selection import train_test_split\n",
    "rest, sample = train_test_split(corpus, test_size=100, random_state=42, shuffle = True, stratify = corpus[\"X-GENRE\"])\n",
    "\n",
    "sample"
   ]
  },
  {
   "cell_type": "code",
   "execution_count": 10,
   "metadata": {},
   "outputs": [
    {
     "data": {
      "text/plain": [
       "Information/Explanation    32\n",
       "Promotion                  31\n",
       "News                       13\n",
       "Instruction                11\n",
       "Legal                       6\n",
       "Opinion/Argumentation       5\n",
       "Other                       2\n",
       "Name: X-GENRE, dtype: int64"
      ]
     },
     "execution_count": 10,
     "metadata": {},
     "output_type": "execute_result"
    }
   ],
   "source": [
    "# Analyze label distribution\n",
    "sample[\"X-GENRE\"].value_counts()"
   ]
  },
  {
   "cell_type": "code",
   "execution_count": 14,
   "metadata": {},
   "outputs": [],
   "source": [
    "# Add to the sample instances of underrepresented labels so that each has at least 10 instances\n",
    "final_sample = sample\n",
    "\n",
    "for i in ['Opinion/Argumentation', 'Legal',  'Other', 'Prose/Lyrical', 'Forum']:\n",
    "\tadded_instances = corpus[corpus[\"X-GENRE\"] == i].sample(n=10)\n",
    "\tfinal_sample = pd.concat([final_sample, added_instances])"
   ]
  },
  {
   "cell_type": "code",
   "execution_count": 17,
   "metadata": {},
   "outputs": [
    {
     "data": {
      "text/plain": [
       "(150, 17)"
      ]
     },
     "execution_count": 17,
     "metadata": {},
     "output_type": "execute_result"
    }
   ],
   "source": [
    "final_sample.shape"
   ]
  },
  {
   "cell_type": "code",
   "execution_count": 16,
   "metadata": {},
   "outputs": [],
   "source": [
    "# Drop any duplicates\n",
    "final_sample = final_sample.drop_duplicates()"
   ]
  },
  {
   "cell_type": "code",
   "execution_count": 18,
   "metadata": {},
   "outputs": [
    {
     "data": {
      "text/plain": [
       "Information/Explanation    32\n",
       "Promotion                  31\n",
       "Legal                      16\n",
       "Opinion/Argumentation      15\n",
       "News                       13\n",
       "Other                      12\n",
       "Instruction                11\n",
       "Prose/Lyrical              10\n",
       "Forum                      10\n",
       "Name: X-GENRE, dtype: int64"
      ]
     },
     "execution_count": 18,
     "metadata": {},
     "output_type": "execute_result"
    }
   ],
   "source": [
    "final_sample[\"X-GENRE\"].value_counts()"
   ]
  },
  {
   "cell_type": "code",
   "execution_count": 21,
   "metadata": {},
   "outputs": [
    {
     "data": {
      "text/html": [
       "<div>\n",
       "<style scoped>\n",
       "    .dataframe tbody tr th:only-of-type {\n",
       "        vertical-align: middle;\n",
       "    }\n",
       "\n",
       "    .dataframe tbody tr th {\n",
       "        vertical-align: top;\n",
       "    }\n",
       "\n",
       "    .dataframe thead th {\n",
       "        text-align: right;\n",
       "    }\n",
       "</style>\n",
       "<table border=\"1\" class=\"dataframe\">\n",
       "  <thead>\n",
       "    <tr style=\"text-align: right;\">\n",
       "      <th></th>\n",
       "      <th>biroamer_entities</th>\n",
       "      <th>translation_direction</th>\n",
       "      <th>en_source</th>\n",
       "      <th>en_var_doc</th>\n",
       "      <th>en_var_dom</th>\n",
       "      <th>sl_source</th>\n",
       "      <th>en_domain</th>\n",
       "      <th>sl_domain</th>\n",
       "      <th>average_score</th>\n",
       "      <th>en_doc</th>\n",
       "      <th>sl_doc</th>\n",
       "      <th>en_length</th>\n",
       "      <th>sl_length</th>\n",
       "      <th>punct_ratio</th>\n",
       "      <th>X-GENRE</th>\n",
       "      <th>label_distribution</th>\n",
       "      <th>chosen_category_distr</th>\n",
       "    </tr>\n",
       "  </thead>\n",
       "  <tbody>\n",
       "    <tr>\n",
       "      <th>1999303</th>\n",
       "      <td>No</td>\n",
       "      <td>sl-orig</td>\n",
       "      <td>https://mgml.si/en/city-art-gallery/events/arc...</td>\n",
       "      <td>B</td>\n",
       "      <td>B</td>\n",
       "      <td>https://mgml.si/sl/dogodki/arhiv/2015/</td>\n",
       "      <td>mgml.si</td>\n",
       "      <td>mgml.si</td>\n",
       "      <td>0.879944</td>\n",
       "      <td>Exhibition deals with laughter, a continuation...</td>\n",
       "      <td>Tokratna razstava se posveča tematiki smeha, k...</td>\n",
       "      <td>530</td>\n",
       "      <td>430</td>\n",
       "      <td>0.074074</td>\n",
       "      <td>Promotion</td>\n",
       "      <td>{'Other': 0.01, 'Information/Explanation': 0.0...</td>\n",
       "      <td>0.987622</td>\n",
       "    </tr>\n",
       "    <tr>\n",
       "      <th>1819059</th>\n",
       "      <td>No</td>\n",
       "      <td>sl-orig</td>\n",
       "      <td>https://www.goopti.com/en/about/goopti_blog/ad...</td>\n",
       "      <td>MIX</td>\n",
       "      <td>MIX</td>\n",
       "      <td>https://www.goopti.com/sl/o-goopti/goopti-blog...</td>\n",
       "      <td>goopti.com</td>\n",
       "      <td>goopti.com</td>\n",
       "      <td>0.934722</td>\n",
       "      <td>Mostly I'm attracted to warm places with a 'Me...</td>\n",
       "      <td>Najbolj me privlačijo toplejši kraji z 'medite...</td>\n",
       "      <td>559</td>\n",
       "      <td>490</td>\n",
       "      <td>0.097179</td>\n",
       "      <td>Forum</td>\n",
       "      <td>{'Other': 0.0008, 'Information/Explanation': 0...</td>\n",
       "      <td>0.997394</td>\n",
       "    </tr>\n",
       "    <tr>\n",
       "      <th>369763</th>\n",
       "      <td>No</td>\n",
       "      <td>sl-orig</td>\n",
       "      <td>https://bsf.si/en/movie/rezine-casa/</td>\n",
       "      <td>UNK</td>\n",
       "      <td>B</td>\n",
       "      <td>https://bsf.si/sl/film/rezine-casa/</td>\n",
       "      <td>bsf.si</td>\n",
       "      <td>bsf.si</td>\n",
       "      <td>0.978000</td>\n",
       "      <td>Two women were born during the First World War...</td>\n",
       "      <td>Obe ženski sta se rodili med prvo svetovno voj...</td>\n",
       "      <td>75</td>\n",
       "      <td>72</td>\n",
       "      <td>0.087912</td>\n",
       "      <td>Opinion/Argumentation</td>\n",
       "      <td>{'Other': 0.012, 'Information/Explanation': 0....</td>\n",
       "      <td>0.867477</td>\n",
       "    </tr>\n",
       "    <tr>\n",
       "      <th>3139071</th>\n",
       "      <td>No</td>\n",
       "      <td>sl-orig</td>\n",
       "      <td>https://lifeslovenija.si/en/may-and-june-reser...</td>\n",
       "      <td>A</td>\n",
       "      <td>B</td>\n",
       "      <td>https://lifeslovenija.si/maj-v-znamenju-life-d...</td>\n",
       "      <td>lifeslovenija.si</td>\n",
       "      <td>lifeslovenija.si</td>\n",
       "      <td>0.925920</td>\n",
       "      <td>We started May with the second LIFE writer’s w...</td>\n",
       "      <td>Maj smo začeli z drugo LIFE delavnico za pripr...</td>\n",
       "      <td>438</td>\n",
       "      <td>361</td>\n",
       "      <td>0.100592</td>\n",
       "      <td>News</td>\n",
       "      <td>{'Other': 0.0001, 'Information/Explanation': 0...</td>\n",
       "      <td>0.997997</td>\n",
       "    </tr>\n",
       "    <tr>\n",
       "      <th>2021958</th>\n",
       "      <td>No</td>\n",
       "      <td>sl-orig</td>\n",
       "      <td>https://www.turistica.si/en/news/brezplacna-ce...</td>\n",
       "      <td>B</td>\n",
       "      <td>B</td>\n",
       "      <td>https://www.turistica.si/si/novice/brezplacna-...</td>\n",
       "      <td>turistica.si</td>\n",
       "      <td>turistica.si</td>\n",
       "      <td>0.795667</td>\n",
       "      <td>The course was prepared in frame of a network-...</td>\n",
       "      <td>Tečaja je pripravila UNESCO-va mreža 10 univer...</td>\n",
       "      <td>165</td>\n",
       "      <td>116</td>\n",
       "      <td>0.106061</td>\n",
       "      <td>Other</td>\n",
       "      <td>{'Other': 0.9902, 'Information/Explanation': 0...</td>\n",
       "      <td>0.990174</td>\n",
       "    </tr>\n",
       "  </tbody>\n",
       "</table>\n",
       "</div>"
      ],
      "text/plain": [
       "        biroamer_entities translation_direction  \\\n",
       "1999303                No               sl-orig   \n",
       "1819059                No               sl-orig   \n",
       "369763                 No               sl-orig   \n",
       "3139071                No               sl-orig   \n",
       "2021958                No               sl-orig   \n",
       "\n",
       "                                                 en_source en_var_doc  \\\n",
       "1999303  https://mgml.si/en/city-art-gallery/events/arc...          B   \n",
       "1819059  https://www.goopti.com/en/about/goopti_blog/ad...        MIX   \n",
       "369763                https://bsf.si/en/movie/rezine-casa/        UNK   \n",
       "3139071  https://lifeslovenija.si/en/may-and-june-reser...          A   \n",
       "2021958  https://www.turistica.si/en/news/brezplacna-ce...          B   \n",
       "\n",
       "        en_var_dom                                          sl_source  \\\n",
       "1999303          B             https://mgml.si/sl/dogodki/arhiv/2015/   \n",
       "1819059        MIX  https://www.goopti.com/sl/o-goopti/goopti-blog...   \n",
       "369763           B                https://bsf.si/sl/film/rezine-casa/   \n",
       "3139071          B  https://lifeslovenija.si/maj-v-znamenju-life-d...   \n",
       "2021958          B  https://www.turistica.si/si/novice/brezplacna-...   \n",
       "\n",
       "                en_domain         sl_domain  average_score  \\\n",
       "1999303           mgml.si           mgml.si       0.879944   \n",
       "1819059        goopti.com        goopti.com       0.934722   \n",
       "369763             bsf.si            bsf.si       0.978000   \n",
       "3139071  lifeslovenija.si  lifeslovenija.si       0.925920   \n",
       "2021958      turistica.si      turistica.si       0.795667   \n",
       "\n",
       "                                                    en_doc  \\\n",
       "1999303  Exhibition deals with laughter, a continuation...   \n",
       "1819059  Mostly I'm attracted to warm places with a 'Me...   \n",
       "369763   Two women were born during the First World War...   \n",
       "3139071  We started May with the second LIFE writer’s w...   \n",
       "2021958  The course was prepared in frame of a network-...   \n",
       "\n",
       "                                                    sl_doc  en_length  \\\n",
       "1999303  Tokratna razstava se posveča tematiki smeha, k...        530   \n",
       "1819059  Najbolj me privlačijo toplejši kraji z 'medite...        559   \n",
       "369763   Obe ženski sta se rodili med prvo svetovno voj...         75   \n",
       "3139071  Maj smo začeli z drugo LIFE delavnico za pripr...        438   \n",
       "2021958  Tečaja je pripravila UNESCO-va mreža 10 univer...        165   \n",
       "\n",
       "         sl_length  punct_ratio                X-GENRE  \\\n",
       "1999303        430     0.074074              Promotion   \n",
       "1819059        490     0.097179                  Forum   \n",
       "369763          72     0.087912  Opinion/Argumentation   \n",
       "3139071        361     0.100592                   News   \n",
       "2021958        116     0.106061                  Other   \n",
       "\n",
       "                                        label_distribution  \\\n",
       "1999303  {'Other': 0.01, 'Information/Explanation': 0.0...   \n",
       "1819059  {'Other': 0.0008, 'Information/Explanation': 0...   \n",
       "369763   {'Other': 0.012, 'Information/Explanation': 0....   \n",
       "3139071  {'Other': 0.0001, 'Information/Explanation': 0...   \n",
       "2021958  {'Other': 0.9902, 'Information/Explanation': 0...   \n",
       "\n",
       "         chosen_category_distr  \n",
       "1999303               0.987622  \n",
       "1819059               0.997394  \n",
       "369763                0.867477  \n",
       "3139071               0.997997  \n",
       "2021958               0.990174  "
      ]
     },
     "execution_count": 21,
     "metadata": {},
     "output_type": "execute_result"
    }
   ],
   "source": [
    "# Shuffle the instances\n",
    "from sklearn.utils import shuffle\n",
    "final_sample = shuffle(final_sample)\n",
    "\n",
    "final_sample.tail()"
   ]
  },
  {
   "cell_type": "code",
   "execution_count": 22,
   "metadata": {},
   "outputs": [],
   "source": [
    "# Save the final sample to CSV\n",
    "final_sample.to_csv(\"MaCoCu-sl-en-predicted-sample-manual-analysis.csv\", sep = \"\\t\")"
   ]
  },
  {
   "cell_type": "markdown",
   "metadata": {},
   "source": [
    "### Analysis of the sample with manual annotation added"
   ]
  },
  {
   "cell_type": "code",
   "execution_count": 101,
   "metadata": {},
   "outputs": [
    {
     "data": {
      "text/html": [
       "<div>\n",
       "<style scoped>\n",
       "    .dataframe tbody tr th:only-of-type {\n",
       "        vertical-align: middle;\n",
       "    }\n",
       "\n",
       "    .dataframe tbody tr th {\n",
       "        vertical-align: top;\n",
       "    }\n",
       "\n",
       "    .dataframe thead th {\n",
       "        text-align: right;\n",
       "    }\n",
       "</style>\n",
       "<table border=\"1\" class=\"dataframe\">\n",
       "  <thead>\n",
       "    <tr style=\"text-align: right;\">\n",
       "      <th></th>\n",
       "      <th>biroamer_entities</th>\n",
       "      <th>translation_direction</th>\n",
       "      <th>en_source</th>\n",
       "      <th>en_var_doc</th>\n",
       "      <th>en_var_dom</th>\n",
       "      <th>sl_source</th>\n",
       "      <th>en_domain</th>\n",
       "      <th>sl_domain</th>\n",
       "      <th>average_score</th>\n",
       "      <th>en_doc</th>\n",
       "      <th>sl_doc</th>\n",
       "      <th>en_length</th>\n",
       "      <th>sl_length</th>\n",
       "      <th>punct_ratio</th>\n",
       "      <th>X-GENRE</th>\n",
       "      <th>label_distribution</th>\n",
       "      <th>chosen_category_distr</th>\n",
       "      <th>manual_annotation</th>\n",
       "      <th>comments</th>\n",
       "    </tr>\n",
       "  </thead>\n",
       "  <tbody>\n",
       "    <tr>\n",
       "      <th>2472949</th>\n",
       "      <td>No</td>\n",
       "      <td>sl-orig</td>\n",
       "      <td>https://ec.europa.eu/clima/consultations/artic...</td>\n",
       "      <td>B</td>\n",
       "      <td>B</td>\n",
       "      <td>https://ec.europa.eu/clima/consultations/impac...</td>\n",
       "      <td>ec.europa.eu</td>\n",
       "      <td>ec.europa.eu</td>\n",
       "      <td>0.837000</td>\n",
       "      <td>Reducing CO2 emissions from road vehicles This...</td>\n",
       "      <td>Standardi za emisije CO2 iz težkih gospodarski...</td>\n",
       "      <td>155</td>\n",
       "      <td>294</td>\n",
       "      <td>0.054878</td>\n",
       "      <td>Legal</td>\n",
       "      <td>{'Other': 0.0012, 'Information/Explanation': 0...</td>\n",
       "      <td>0.978639</td>\n",
       "      <td>News</td>\n",
       "      <td>NaN</td>\n",
       "    </tr>\n",
       "    <tr>\n",
       "      <th>2761820</th>\n",
       "      <td>No</td>\n",
       "      <td>sl-orig</td>\n",
       "      <td>http://www.eu2008.si/en/News_and_Documents/Spe...</td>\n",
       "      <td>B</td>\n",
       "      <td>B</td>\n",
       "      <td>http://www.eu2008.si/si/News_and_Documents/Spe...</td>\n",
       "      <td>eu2008.si</td>\n",
       "      <td>eu2008.si</td>\n",
       "      <td>0.945333</td>\n",
       "      <td>The Council of the European Union has not disc...</td>\n",
       "      <td>O vzpostavitvi protiraketnega ščita Združenih ...</td>\n",
       "      <td>135</td>\n",
       "      <td>106</td>\n",
       "      <td>0.056962</td>\n",
       "      <td>Other</td>\n",
       "      <td>{'Other': 0.9646, 'Information/Explanation': 0...</td>\n",
       "      <td>0.964623</td>\n",
       "      <td>Opinion/Argumentation</td>\n",
       "      <td>NaN</td>\n",
       "    </tr>\n",
       "    <tr>\n",
       "      <th>596509</th>\n",
       "      <td>Yes</td>\n",
       "      <td>sl-orig</td>\n",
       "      <td>https://www.europarl.europa.eu/doceo/document/...</td>\n",
       "      <td>B</td>\n",
       "      <td>B</td>\n",
       "      <td>https://www.europarl.europa.eu/doceo/document/...</td>\n",
       "      <td>europarl.europa.eu</td>\n",
       "      <td>europarl.europa.eu</td>\n",
       "      <td>0.786571</td>\n",
       "      <td>European Parliament resolution of 25 October 2...</td>\n",
       "      <td>Inovacije, raziskave in izobraževanje – ob upo...</td>\n",
       "      <td>134</td>\n",
       "      <td>634</td>\n",
       "      <td>0.033520</td>\n",
       "      <td>Legal</td>\n",
       "      <td>{'Other': 0.0015, 'Information/Explanation': 0...</td>\n",
       "      <td>0.972433</td>\n",
       "      <td>Legal</td>\n",
       "      <td>NaN</td>\n",
       "    </tr>\n",
       "    <tr>\n",
       "      <th>190173</th>\n",
       "      <td>No</td>\n",
       "      <td>sl-orig</td>\n",
       "      <td>https://www.privacy-regulation.eu/en/r141.htm</td>\n",
       "      <td>UNK</td>\n",
       "      <td>B</td>\n",
       "      <td>https://www.privacy-regulation.eu/sl/r141.htm</td>\n",
       "      <td>privacy-regulation.eu</td>\n",
       "      <td>privacy-regulation.eu</td>\n",
       "      <td>0.988000</td>\n",
       "      <td>(141) Every data subject should have the right...</td>\n",
       "      <td>(141) Vsak posameznik, na katerega se nanašajo...</td>\n",
       "      <td>96</td>\n",
       "      <td>82</td>\n",
       "      <td>0.039216</td>\n",
       "      <td>Legal</td>\n",
       "      <td>{'Other': 0.0003, 'Information/Explanation': 0...</td>\n",
       "      <td>0.997140</td>\n",
       "      <td>Legal</td>\n",
       "      <td>NaN</td>\n",
       "    </tr>\n",
       "    <tr>\n",
       "      <th>2343600</th>\n",
       "      <td>No</td>\n",
       "      <td>sl-orig</td>\n",
       "      <td>https://www.rra-zk.si/en/main-activities/tourism/</td>\n",
       "      <td>B</td>\n",
       "      <td>B</td>\n",
       "      <td>https://www.rra-zk.si/podrocja-delovanja/turizem</td>\n",
       "      <td>rra-zk.si</td>\n",
       "      <td>rra-zk.si</td>\n",
       "      <td>0.856500</td>\n",
       "      <td>In the field of tourism, we are pursuing the f...</td>\n",
       "      <td>Na področju turizma sledimo naslednjim usmerit...</td>\n",
       "      <td>188</td>\n",
       "      <td>148</td>\n",
       "      <td>0.065421</td>\n",
       "      <td>Other</td>\n",
       "      <td>{'Other': 0.8184, 'Information/Explanation': 0...</td>\n",
       "      <td>0.818389</td>\n",
       "      <td>Opinion/Argumentation</td>\n",
       "      <td>NaN</td>\n",
       "    </tr>\n",
       "  </tbody>\n",
       "</table>\n",
       "</div>"
      ],
      "text/plain": [
       "        biroamer_entities translation_direction  \\\n",
       "2472949                No               sl-orig   \n",
       "2761820                No               sl-orig   \n",
       "596509                Yes               sl-orig   \n",
       "190173                 No               sl-orig   \n",
       "2343600                No               sl-orig   \n",
       "\n",
       "                                                 en_source en_var_doc  \\\n",
       "2472949  https://ec.europa.eu/clima/consultations/artic...          B   \n",
       "2761820  http://www.eu2008.si/en/News_and_Documents/Spe...          B   \n",
       "596509   https://www.europarl.europa.eu/doceo/document/...          B   \n",
       "190173       https://www.privacy-regulation.eu/en/r141.htm        UNK   \n",
       "2343600  https://www.rra-zk.si/en/main-activities/tourism/          B   \n",
       "\n",
       "        en_var_dom                                          sl_source  \\\n",
       "2472949          B  https://ec.europa.eu/clima/consultations/impac...   \n",
       "2761820          B  http://www.eu2008.si/si/News_and_Documents/Spe...   \n",
       "596509           B  https://www.europarl.europa.eu/doceo/document/...   \n",
       "190173           B      https://www.privacy-regulation.eu/sl/r141.htm   \n",
       "2343600          B   https://www.rra-zk.si/podrocja-delovanja/turizem   \n",
       "\n",
       "                     en_domain              sl_domain  average_score  \\\n",
       "2472949           ec.europa.eu           ec.europa.eu       0.837000   \n",
       "2761820              eu2008.si              eu2008.si       0.945333   \n",
       "596509      europarl.europa.eu     europarl.europa.eu       0.786571   \n",
       "190173   privacy-regulation.eu  privacy-regulation.eu       0.988000   \n",
       "2343600              rra-zk.si              rra-zk.si       0.856500   \n",
       "\n",
       "                                                    en_doc  \\\n",
       "2472949  Reducing CO2 emissions from road vehicles This...   \n",
       "2761820  The Council of the European Union has not disc...   \n",
       "596509   European Parliament resolution of 25 October 2...   \n",
       "190173   (141) Every data subject should have the right...   \n",
       "2343600  In the field of tourism, we are pursuing the f...   \n",
       "\n",
       "                                                    sl_doc  en_length  \\\n",
       "2472949  Standardi za emisije CO2 iz težkih gospodarski...        155   \n",
       "2761820  O vzpostavitvi protiraketnega ščita Združenih ...        135   \n",
       "596509   Inovacije, raziskave in izobraževanje – ob upo...        134   \n",
       "190173   (141) Vsak posameznik, na katerega se nanašajo...         96   \n",
       "2343600  Na področju turizma sledimo naslednjim usmerit...        188   \n",
       "\n",
       "         sl_length  punct_ratio X-GENRE  \\\n",
       "2472949        294     0.054878   Legal   \n",
       "2761820        106     0.056962   Other   \n",
       "596509         634     0.033520   Legal   \n",
       "190173          82     0.039216   Legal   \n",
       "2343600        148     0.065421   Other   \n",
       "\n",
       "                                        label_distribution  \\\n",
       "2472949  {'Other': 0.0012, 'Information/Explanation': 0...   \n",
       "2761820  {'Other': 0.9646, 'Information/Explanation': 0...   \n",
       "596509   {'Other': 0.0015, 'Information/Explanation': 0...   \n",
       "190173   {'Other': 0.0003, 'Information/Explanation': 0...   \n",
       "2343600  {'Other': 0.8184, 'Information/Explanation': 0...   \n",
       "\n",
       "         chosen_category_distr      manual_annotation comments  \n",
       "2472949               0.978639                   News      NaN  \n",
       "2761820               0.964623  Opinion/Argumentation      NaN  \n",
       "596509                0.972433                  Legal      NaN  \n",
       "190173                0.997140                  Legal      NaN  \n",
       "2343600               0.818389  Opinion/Argumentation      NaN  "
      ]
     },
     "execution_count": 101,
     "metadata": {},
     "output_type": "execute_result"
    }
   ],
   "source": [
    "# Open the file\n",
    "final_sample = pd.read_csv(\"MaCoCu-sl-en-data/MaCoCu-sl-en-predicted-sample-manual-analysis.csv\", sep = \"\\t\", index_col = 0)\n",
    "\n",
    "final_sample.head()"
   ]
  },
  {
   "cell_type": "code",
   "execution_count": 72,
   "metadata": {},
   "outputs": [
    {
     "data": {
      "text/plain": [
       "(150, 19)"
      ]
     },
     "execution_count": 72,
     "metadata": {},
     "output_type": "execute_result"
    }
   ],
   "source": [
    "final_sample.shape"
   ]
  },
  {
   "cell_type": "code",
   "execution_count": 41,
   "metadata": {},
   "outputs": [
    {
     "data": {
      "text/html": [
       "<div>\n",
       "<style scoped>\n",
       "    .dataframe tbody tr th:only-of-type {\n",
       "        vertical-align: middle;\n",
       "    }\n",
       "\n",
       "    .dataframe tbody tr th {\n",
       "        vertical-align: top;\n",
       "    }\n",
       "\n",
       "    .dataframe thead th {\n",
       "        text-align: right;\n",
       "    }\n",
       "</style>\n",
       "<table border=\"1\" class=\"dataframe\">\n",
       "  <thead>\n",
       "    <tr style=\"text-align: right;\">\n",
       "      <th></th>\n",
       "      <th>biroamer_entities</th>\n",
       "      <th>translation_direction</th>\n",
       "      <th>en_source</th>\n",
       "      <th>en_var_doc</th>\n",
       "      <th>en_var_dom</th>\n",
       "      <th>sl_source</th>\n",
       "      <th>en_domain</th>\n",
       "      <th>sl_domain</th>\n",
       "      <th>average_score</th>\n",
       "      <th>en_doc</th>\n",
       "      <th>sl_doc</th>\n",
       "      <th>en_length</th>\n",
       "      <th>sl_length</th>\n",
       "      <th>punct_ratio</th>\n",
       "      <th>X-GENRE</th>\n",
       "      <th>label_distribution</th>\n",
       "      <th>chosen_category_distr</th>\n",
       "      <th>manual_annotation</th>\n",
       "      <th>comments</th>\n",
       "      <th>correct_prediction</th>\n",
       "    </tr>\n",
       "  </thead>\n",
       "  <tbody>\n",
       "    <tr>\n",
       "      <th>2472949</th>\n",
       "      <td>No</td>\n",
       "      <td>sl-orig</td>\n",
       "      <td>https://ec.europa.eu/clima/consultations/artic...</td>\n",
       "      <td>B</td>\n",
       "      <td>B</td>\n",
       "      <td>https://ec.europa.eu/clima/consultations/impac...</td>\n",
       "      <td>ec.europa.eu</td>\n",
       "      <td>ec.europa.eu</td>\n",
       "      <td>0.837000</td>\n",
       "      <td>Reducing CO2 emissions from road vehicles This...</td>\n",
       "      <td>Standardi za emisije CO2 iz težkih gospodarski...</td>\n",
       "      <td>155</td>\n",
       "      <td>294</td>\n",
       "      <td>0.054878</td>\n",
       "      <td>Legal</td>\n",
       "      <td>{'Other': 0.0012, 'Information/Explanation': 0...</td>\n",
       "      <td>0.978639</td>\n",
       "      <td>News</td>\n",
       "      <td>NaN</td>\n",
       "      <td>n</td>\n",
       "    </tr>\n",
       "    <tr>\n",
       "      <th>2761820</th>\n",
       "      <td>No</td>\n",
       "      <td>sl-orig</td>\n",
       "      <td>http://www.eu2008.si/en/News_and_Documents/Spe...</td>\n",
       "      <td>B</td>\n",
       "      <td>B</td>\n",
       "      <td>http://www.eu2008.si/si/News_and_Documents/Spe...</td>\n",
       "      <td>eu2008.si</td>\n",
       "      <td>eu2008.si</td>\n",
       "      <td>0.945333</td>\n",
       "      <td>The Council of the European Union has not disc...</td>\n",
       "      <td>O vzpostavitvi protiraketnega ščita Združenih ...</td>\n",
       "      <td>135</td>\n",
       "      <td>106</td>\n",
       "      <td>0.056962</td>\n",
       "      <td>Other</td>\n",
       "      <td>{'Other': 0.9646, 'Information/Explanation': 0...</td>\n",
       "      <td>0.964623</td>\n",
       "      <td>Opinion/Argumentation</td>\n",
       "      <td>NaN</td>\n",
       "      <td>n</td>\n",
       "    </tr>\n",
       "    <tr>\n",
       "      <th>596509</th>\n",
       "      <td>Yes</td>\n",
       "      <td>sl-orig</td>\n",
       "      <td>https://www.europarl.europa.eu/doceo/document/...</td>\n",
       "      <td>B</td>\n",
       "      <td>B</td>\n",
       "      <td>https://www.europarl.europa.eu/doceo/document/...</td>\n",
       "      <td>europarl.europa.eu</td>\n",
       "      <td>europarl.europa.eu</td>\n",
       "      <td>0.786571</td>\n",
       "      <td>European Parliament resolution of 25 October 2...</td>\n",
       "      <td>Inovacije, raziskave in izobraževanje – ob upo...</td>\n",
       "      <td>134</td>\n",
       "      <td>634</td>\n",
       "      <td>0.033520</td>\n",
       "      <td>Legal</td>\n",
       "      <td>{'Other': 0.0015, 'Information/Explanation': 0...</td>\n",
       "      <td>0.972433</td>\n",
       "      <td>Legal</td>\n",
       "      <td>NaN</td>\n",
       "      <td>y</td>\n",
       "    </tr>\n",
       "    <tr>\n",
       "      <th>190173</th>\n",
       "      <td>No</td>\n",
       "      <td>sl-orig</td>\n",
       "      <td>https://www.privacy-regulation.eu/en/r141.htm</td>\n",
       "      <td>UNK</td>\n",
       "      <td>B</td>\n",
       "      <td>https://www.privacy-regulation.eu/sl/r141.htm</td>\n",
       "      <td>privacy-regulation.eu</td>\n",
       "      <td>privacy-regulation.eu</td>\n",
       "      <td>0.988000</td>\n",
       "      <td>(141) Every data subject should have the right...</td>\n",
       "      <td>(141) Vsak posameznik, na katerega se nanašajo...</td>\n",
       "      <td>96</td>\n",
       "      <td>82</td>\n",
       "      <td>0.039216</td>\n",
       "      <td>Legal</td>\n",
       "      <td>{'Other': 0.0003, 'Information/Explanation': 0...</td>\n",
       "      <td>0.997140</td>\n",
       "      <td>Legal</td>\n",
       "      <td>NaN</td>\n",
       "      <td>y</td>\n",
       "    </tr>\n",
       "    <tr>\n",
       "      <th>2343600</th>\n",
       "      <td>No</td>\n",
       "      <td>sl-orig</td>\n",
       "      <td>https://www.rra-zk.si/en/main-activities/tourism/</td>\n",
       "      <td>B</td>\n",
       "      <td>B</td>\n",
       "      <td>https://www.rra-zk.si/podrocja-delovanja/turizem</td>\n",
       "      <td>rra-zk.si</td>\n",
       "      <td>rra-zk.si</td>\n",
       "      <td>0.856500</td>\n",
       "      <td>In the field of tourism, we are pursuing the f...</td>\n",
       "      <td>Na področju turizma sledimo naslednjim usmerit...</td>\n",
       "      <td>188</td>\n",
       "      <td>148</td>\n",
       "      <td>0.065421</td>\n",
       "      <td>Other</td>\n",
       "      <td>{'Other': 0.8184, 'Information/Explanation': 0...</td>\n",
       "      <td>0.818389</td>\n",
       "      <td>Opinion/Argumentation</td>\n",
       "      <td>NaN</td>\n",
       "      <td>n</td>\n",
       "    </tr>\n",
       "  </tbody>\n",
       "</table>\n",
       "</div>"
      ],
      "text/plain": [
       "        biroamer_entities translation_direction  \\\n",
       "2472949                No               sl-orig   \n",
       "2761820                No               sl-orig   \n",
       "596509                Yes               sl-orig   \n",
       "190173                 No               sl-orig   \n",
       "2343600                No               sl-orig   \n",
       "\n",
       "                                                 en_source en_var_doc  \\\n",
       "2472949  https://ec.europa.eu/clima/consultations/artic...          B   \n",
       "2761820  http://www.eu2008.si/en/News_and_Documents/Spe...          B   \n",
       "596509   https://www.europarl.europa.eu/doceo/document/...          B   \n",
       "190173       https://www.privacy-regulation.eu/en/r141.htm        UNK   \n",
       "2343600  https://www.rra-zk.si/en/main-activities/tourism/          B   \n",
       "\n",
       "        en_var_dom                                          sl_source  \\\n",
       "2472949          B  https://ec.europa.eu/clima/consultations/impac...   \n",
       "2761820          B  http://www.eu2008.si/si/News_and_Documents/Spe...   \n",
       "596509           B  https://www.europarl.europa.eu/doceo/document/...   \n",
       "190173           B      https://www.privacy-regulation.eu/sl/r141.htm   \n",
       "2343600          B   https://www.rra-zk.si/podrocja-delovanja/turizem   \n",
       "\n",
       "                     en_domain              sl_domain  average_score  \\\n",
       "2472949           ec.europa.eu           ec.europa.eu       0.837000   \n",
       "2761820              eu2008.si              eu2008.si       0.945333   \n",
       "596509      europarl.europa.eu     europarl.europa.eu       0.786571   \n",
       "190173   privacy-regulation.eu  privacy-regulation.eu       0.988000   \n",
       "2343600              rra-zk.si              rra-zk.si       0.856500   \n",
       "\n",
       "                                                    en_doc  \\\n",
       "2472949  Reducing CO2 emissions from road vehicles This...   \n",
       "2761820  The Council of the European Union has not disc...   \n",
       "596509   European Parliament resolution of 25 October 2...   \n",
       "190173   (141) Every data subject should have the right...   \n",
       "2343600  In the field of tourism, we are pursuing the f...   \n",
       "\n",
       "                                                    sl_doc  en_length  \\\n",
       "2472949  Standardi za emisije CO2 iz težkih gospodarski...        155   \n",
       "2761820  O vzpostavitvi protiraketnega ščita Združenih ...        135   \n",
       "596509   Inovacije, raziskave in izobraževanje – ob upo...        134   \n",
       "190173   (141) Vsak posameznik, na katerega se nanašajo...         96   \n",
       "2343600  Na področju turizma sledimo naslednjim usmerit...        188   \n",
       "\n",
       "         sl_length  punct_ratio X-GENRE  \\\n",
       "2472949        294     0.054878   Legal   \n",
       "2761820        106     0.056962   Other   \n",
       "596509         634     0.033520   Legal   \n",
       "190173          82     0.039216   Legal   \n",
       "2343600        148     0.065421   Other   \n",
       "\n",
       "                                        label_distribution  \\\n",
       "2472949  {'Other': 0.0012, 'Information/Explanation': 0...   \n",
       "2761820  {'Other': 0.9646, 'Information/Explanation': 0...   \n",
       "596509   {'Other': 0.0015, 'Information/Explanation': 0...   \n",
       "190173   {'Other': 0.0003, 'Information/Explanation': 0...   \n",
       "2343600  {'Other': 0.8184, 'Information/Explanation': 0...   \n",
       "\n",
       "         chosen_category_distr      manual_annotation comments  \\\n",
       "2472949               0.978639                   News      NaN   \n",
       "2761820               0.964623  Opinion/Argumentation      NaN   \n",
       "596509                0.972433                  Legal      NaN   \n",
       "190173                0.997140                  Legal      NaN   \n",
       "2343600               0.818389  Opinion/Argumentation      NaN   \n",
       "\n",
       "        correct_prediction  \n",
       "2472949                  n  \n",
       "2761820                  n  \n",
       "596509                   y  \n",
       "190173                   y  \n",
       "2343600                  n  "
      ]
     },
     "execution_count": 41,
     "metadata": {},
     "output_type": "execute_result"
    }
   ],
   "source": [
    "# Add a column about corectness of the prediction\n",
    "final_sample[\"correct_prediction\"] = np.where((final_sample[\"X-GENRE\"] == final_sample[\"manual_annotation\"]), \"y\", \"n\")\n",
    "final_sample.head()"
   ]
  },
  {
   "cell_type": "code",
   "execution_count": 42,
   "metadata": {},
   "outputs": [
    {
     "name": "stdout",
     "output_type": "stream",
     "text": [
      "|                         |   manual_annotation |\n",
      "|:------------------------|--------------------:|\n",
      "| Promotion               |                  37 |\n",
      "| Information/Explanation |                  35 |\n",
      "| Opinion/Argumentation   |                  24 |\n",
      "| News                    |                  16 |\n",
      "| Legal                   |                  15 |\n",
      "| Prose/Lyrical           |                   9 |\n",
      "| Instruction             |                   8 |\n",
      "| Forum                   |                   3 |\n",
      "| Non-textual             |                   2 |\n",
      "| Other                   |                   1 |\n"
     ]
    }
   ],
   "source": [
    "print(final_sample[\"manual_annotation\"].value_counts().to_markdown())"
   ]
  },
  {
   "cell_type": "code",
   "execution_count": 43,
   "metadata": {},
   "outputs": [
    {
     "data": {
      "text/plain": [
       "(35, 20)"
      ]
     },
     "execution_count": 43,
     "metadata": {},
     "output_type": "execute_result"
    }
   ],
   "source": [
    "# Analyse properties of incorrect predictions\n",
    "incorrect = final_sample[final_sample[\"correct_prediction\"] == \"n\"]\n",
    "\n",
    "incorrect.shape"
   ]
  },
  {
   "cell_type": "code",
   "execution_count": 19,
   "metadata": {},
   "outputs": [
    {
     "data": {
      "text/html": [
       "<div>\n",
       "<style scoped>\n",
       "    .dataframe tbody tr th:only-of-type {\n",
       "        vertical-align: middle;\n",
       "    }\n",
       "\n",
       "    .dataframe tbody tr th {\n",
       "        vertical-align: top;\n",
       "    }\n",
       "\n",
       "    .dataframe thead th {\n",
       "        text-align: right;\n",
       "    }\n",
       "</style>\n",
       "<table border=\"1\" class=\"dataframe\">\n",
       "  <thead>\n",
       "    <tr style=\"text-align: right;\">\n",
       "      <th></th>\n",
       "      <th>average_score</th>\n",
       "      <th>en_length</th>\n",
       "      <th>sl_length</th>\n",
       "      <th>punct_ratio</th>\n",
       "      <th>chosen_category_distr</th>\n",
       "    </tr>\n",
       "  </thead>\n",
       "  <tbody>\n",
       "    <tr>\n",
       "      <th>count</th>\n",
       "      <td>35.000000</td>\n",
       "      <td>35.000000</td>\n",
       "      <td>35.000000</td>\n",
       "      <td>35.000000</td>\n",
       "      <td>35.000000</td>\n",
       "    </tr>\n",
       "    <tr>\n",
       "      <th>mean</th>\n",
       "      <td>0.893787</td>\n",
       "      <td>361.914286</td>\n",
       "      <td>323.314286</td>\n",
       "      <td>0.087518</td>\n",
       "      <td>0.927622</td>\n",
       "    </tr>\n",
       "    <tr>\n",
       "      <th>std</th>\n",
       "      <td>0.055365</td>\n",
       "      <td>493.530819</td>\n",
       "      <td>451.365169</td>\n",
       "      <td>0.025442</td>\n",
       "      <td>0.120606</td>\n",
       "    </tr>\n",
       "    <tr>\n",
       "      <th>min</th>\n",
       "      <td>0.759049</td>\n",
       "      <td>75.000000</td>\n",
       "      <td>39.000000</td>\n",
       "      <td>0.024911</td>\n",
       "      <td>0.473428</td>\n",
       "    </tr>\n",
       "    <tr>\n",
       "      <th>25%</th>\n",
       "      <td>0.863278</td>\n",
       "      <td>141.500000</td>\n",
       "      <td>102.500000</td>\n",
       "      <td>0.068373</td>\n",
       "      <td>0.896970</td>\n",
       "    </tr>\n",
       "    <tr>\n",
       "      <th>50%</th>\n",
       "      <td>0.912600</td>\n",
       "      <td>227.000000</td>\n",
       "      <td>168.000000</td>\n",
       "      <td>0.089485</td>\n",
       "      <td>0.989059</td>\n",
       "    </tr>\n",
       "    <tr>\n",
       "      <th>75%</th>\n",
       "      <td>0.933147</td>\n",
       "      <td>368.500000</td>\n",
       "      <td>313.500000</td>\n",
       "      <td>0.100000</td>\n",
       "      <td>0.997472</td>\n",
       "    </tr>\n",
       "    <tr>\n",
       "      <th>max</th>\n",
       "      <td>0.978000</td>\n",
       "      <td>2905.000000</td>\n",
       "      <td>2587.000000</td>\n",
       "      <td>0.153565</td>\n",
       "      <td>0.999114</td>\n",
       "    </tr>\n",
       "  </tbody>\n",
       "</table>\n",
       "</div>"
      ],
      "text/plain": [
       "       average_score    en_length    sl_length  punct_ratio  \\\n",
       "count      35.000000    35.000000    35.000000    35.000000   \n",
       "mean        0.893787   361.914286   323.314286     0.087518   \n",
       "std         0.055365   493.530819   451.365169     0.025442   \n",
       "min         0.759049    75.000000    39.000000     0.024911   \n",
       "25%         0.863278   141.500000   102.500000     0.068373   \n",
       "50%         0.912600   227.000000   168.000000     0.089485   \n",
       "75%         0.933147   368.500000   313.500000     0.100000   \n",
       "max         0.978000  2905.000000  2587.000000     0.153565   \n",
       "\n",
       "       chosen_category_distr  \n",
       "count              35.000000  \n",
       "mean                0.927622  \n",
       "std                 0.120606  \n",
       "min                 0.473428  \n",
       "25%                 0.896970  \n",
       "50%                 0.989059  \n",
       "75%                 0.997472  \n",
       "max                 0.999114  "
      ]
     },
     "execution_count": 19,
     "metadata": {},
     "output_type": "execute_result"
    }
   ],
   "source": [
    "incorrect.describe()"
   ]
  },
  {
   "cell_type": "code",
   "execution_count": 21,
   "metadata": {},
   "outputs": [
    {
     "data": {
      "text/html": [
       "<div>\n",
       "<style scoped>\n",
       "    .dataframe tbody tr th:only-of-type {\n",
       "        vertical-align: middle;\n",
       "    }\n",
       "\n",
       "    .dataframe tbody tr th {\n",
       "        vertical-align: top;\n",
       "    }\n",
       "\n",
       "    .dataframe thead th {\n",
       "        text-align: right;\n",
       "    }\n",
       "</style>\n",
       "<table border=\"1\" class=\"dataframe\">\n",
       "  <thead>\n",
       "    <tr style=\"text-align: right;\">\n",
       "      <th></th>\n",
       "      <th>average_score</th>\n",
       "      <th>en_length</th>\n",
       "      <th>sl_length</th>\n",
       "      <th>punct_ratio</th>\n",
       "      <th>chosen_category_distr</th>\n",
       "    </tr>\n",
       "  </thead>\n",
       "  <tbody>\n",
       "    <tr>\n",
       "      <th>count</th>\n",
       "      <td>24.000000</td>\n",
       "      <td>24.000000</td>\n",
       "      <td>24.000000</td>\n",
       "      <td>24.000000</td>\n",
       "      <td>24.000000</td>\n",
       "    </tr>\n",
       "    <tr>\n",
       "      <th>mean</th>\n",
       "      <td>0.893591</td>\n",
       "      <td>351.333333</td>\n",
       "      <td>340.916667</td>\n",
       "      <td>0.087181</td>\n",
       "      <td>0.943062</td>\n",
       "    </tr>\n",
       "    <tr>\n",
       "      <th>std</th>\n",
       "      <td>0.060279</td>\n",
       "      <td>561.624868</td>\n",
       "      <td>520.907813</td>\n",
       "      <td>0.028298</td>\n",
       "      <td>0.103474</td>\n",
       "    </tr>\n",
       "    <tr>\n",
       "      <th>min</th>\n",
       "      <td>0.759049</td>\n",
       "      <td>75.000000</td>\n",
       "      <td>54.000000</td>\n",
       "      <td>0.024911</td>\n",
       "      <td>0.634437</td>\n",
       "    </tr>\n",
       "    <tr>\n",
       "      <th>25%</th>\n",
       "      <td>0.869179</td>\n",
       "      <td>133.500000</td>\n",
       "      <td>98.500000</td>\n",
       "      <td>0.068882</td>\n",
       "      <td>0.945515</td>\n",
       "    </tr>\n",
       "    <tr>\n",
       "      <th>50%</th>\n",
       "      <td>0.914386</td>\n",
       "      <td>238.500000</td>\n",
       "      <td>201.500000</td>\n",
       "      <td>0.088481</td>\n",
       "      <td>0.996209</td>\n",
       "    </tr>\n",
       "    <tr>\n",
       "      <th>75%</th>\n",
       "      <td>0.932359</td>\n",
       "      <td>341.750000</td>\n",
       "      <td>298.750000</td>\n",
       "      <td>0.100229</td>\n",
       "      <td>0.997670</td>\n",
       "    </tr>\n",
       "    <tr>\n",
       "      <th>max</th>\n",
       "      <td>0.978000</td>\n",
       "      <td>2905.000000</td>\n",
       "      <td>2587.000000</td>\n",
       "      <td>0.153565</td>\n",
       "      <td>0.999114</td>\n",
       "    </tr>\n",
       "  </tbody>\n",
       "</table>\n",
       "</div>"
      ],
      "text/plain": [
       "       average_score    en_length    sl_length  punct_ratio  \\\n",
       "count      24.000000    24.000000    24.000000    24.000000   \n",
       "mean        0.893591   351.333333   340.916667     0.087181   \n",
       "std         0.060279   561.624868   520.907813     0.028298   \n",
       "min         0.759049    75.000000    54.000000     0.024911   \n",
       "25%         0.869179   133.500000    98.500000     0.068882   \n",
       "50%         0.914386   238.500000   201.500000     0.088481   \n",
       "75%         0.932359   341.750000   298.750000     0.100229   \n",
       "max         0.978000  2905.000000  2587.000000     0.153565   \n",
       "\n",
       "       chosen_category_distr  \n",
       "count              24.000000  \n",
       "mean                0.943062  \n",
       "std                 0.103474  \n",
       "min                 0.634437  \n",
       "25%                 0.945515  \n",
       "50%                 0.996209  \n",
       "75%                 0.997670  \n",
       "max                 0.999114  "
      ]
     },
     "execution_count": 21,
     "metadata": {},
     "output_type": "execute_result"
    }
   ],
   "source": [
    "# Analyse incorrect if we discard \"Other\"\n",
    "incorrect = incorrect[incorrect[\"X-GENRE\"] != \"Other\"]\n",
    "incorrect.describe()"
   ]
  },
  {
   "cell_type": "code",
   "execution_count": 32,
   "metadata": {},
   "outputs": [
    {
     "data": {
      "text/plain": [
       "(6, 20)"
      ]
     },
     "execution_count": 32,
     "metadata": {},
     "output_type": "execute_result"
    }
   ],
   "source": [
    "incorrect[incorrect[\"chosen_category_distr\"] < 0.9].shape"
   ]
  },
  {
   "cell_type": "code",
   "execution_count": 44,
   "metadata": {},
   "outputs": [
    {
     "data": {
      "text/html": [
       "<div>\n",
       "<style scoped>\n",
       "    .dataframe tbody tr th:only-of-type {\n",
       "        vertical-align: middle;\n",
       "    }\n",
       "\n",
       "    .dataframe tbody tr th {\n",
       "        vertical-align: top;\n",
       "    }\n",
       "\n",
       "    .dataframe thead th {\n",
       "        text-align: right;\n",
       "    }\n",
       "</style>\n",
       "<table border=\"1\" class=\"dataframe\">\n",
       "  <thead>\n",
       "    <tr style=\"text-align: right;\">\n",
       "      <th></th>\n",
       "      <th>biroamer_entities</th>\n",
       "      <th>translation_direction</th>\n",
       "      <th>en_source</th>\n",
       "      <th>en_var_doc</th>\n",
       "      <th>en_var_dom</th>\n",
       "      <th>sl_source</th>\n",
       "      <th>en_domain</th>\n",
       "      <th>sl_domain</th>\n",
       "      <th>average_score</th>\n",
       "      <th>en_doc</th>\n",
       "      <th>sl_doc</th>\n",
       "      <th>en_length</th>\n",
       "      <th>sl_length</th>\n",
       "      <th>punct_ratio</th>\n",
       "      <th>X-GENRE</th>\n",
       "      <th>label_distribution</th>\n",
       "      <th>chosen_category_distr</th>\n",
       "      <th>manual_annotation</th>\n",
       "      <th>comments</th>\n",
       "      <th>correct_prediction</th>\n",
       "    </tr>\n",
       "  </thead>\n",
       "  <tbody>\n",
       "    <tr>\n",
       "      <th>35209</th>\n",
       "      <td>Yes</td>\n",
       "      <td>sl-orig</td>\n",
       "      <td>http://www.e-arhiv.org/diva/index.php?opt=auth...</td>\n",
       "      <td>B</td>\n",
       "      <td>MIX</td>\n",
       "      <td>http://www.e-arhiv.org/diva/index.php?opt=sear...</td>\n",
       "      <td>e-arhiv.org</td>\n",
       "      <td>e-arhiv.org</td>\n",
       "      <td>0.890176</td>\n",
       "      <td>Apolonija Šušteršič - (Cre)Action Directe (0:1...</td>\n",
       "      <td>Mirko Simić - T.A.N.Z. (00:14:17) Produkcija: ...</td>\n",
       "      <td>410</td>\n",
       "      <td>87</td>\n",
       "      <td>0.153565</td>\n",
       "      <td>Information/Explanation</td>\n",
       "      <td>{'Other': 0.0001, 'Information/Explanation': 0...</td>\n",
       "      <td>0.999046</td>\n",
       "      <td>Non-textual</td>\n",
       "      <td>NaN</td>\n",
       "      <td>n</td>\n",
       "    </tr>\n",
       "    <tr>\n",
       "      <th>2435571</th>\n",
       "      <td>Yes</td>\n",
       "      <td>sl-orig</td>\n",
       "      <td>http://ricinus2.mf.uni-lj.si/BS/neva.exe?name=...</td>\n",
       "      <td>MIX</td>\n",
       "      <td>MIX</td>\n",
       "      <td>http://ricinus2.mf.uni-lj.si/BS/neva.exe?n=bs_...</td>\n",
       "      <td>ricinus2.mf.uni-lj.si</td>\n",
       "      <td>ricinus2.mf.uni-lj.si</td>\n",
       "      <td>0.838000</td>\n",
       "      <td>Vogt Guenter; Štrus Jasna Hypogean life-style ...</td>\n",
       "      <td>Žust J; Klemenc N; Vospernik P; Pestevšek U; V...</td>\n",
       "      <td>250</td>\n",
       "      <td>149</td>\n",
       "      <td>0.024911</td>\n",
       "      <td>Information/Explanation</td>\n",
       "      <td>{'Other': 0.0001, 'Information/Explanation': 0...</td>\n",
       "      <td>0.999114</td>\n",
       "      <td>Non-textual</td>\n",
       "      <td>NaN</td>\n",
       "      <td>n</td>\n",
       "    </tr>\n",
       "  </tbody>\n",
       "</table>\n",
       "</div>"
      ],
      "text/plain": [
       "        biroamer_entities translation_direction  \\\n",
       "35209                 Yes               sl-orig   \n",
       "2435571               Yes               sl-orig   \n",
       "\n",
       "                                                 en_source en_var_doc  \\\n",
       "35209    http://www.e-arhiv.org/diva/index.php?opt=auth...          B   \n",
       "2435571  http://ricinus2.mf.uni-lj.si/BS/neva.exe?name=...        MIX   \n",
       "\n",
       "        en_var_dom                                          sl_source  \\\n",
       "35209          MIX  http://www.e-arhiv.org/diva/index.php?opt=sear...   \n",
       "2435571        MIX  http://ricinus2.mf.uni-lj.si/BS/neva.exe?n=bs_...   \n",
       "\n",
       "                     en_domain              sl_domain  average_score  \\\n",
       "35209              e-arhiv.org            e-arhiv.org       0.890176   \n",
       "2435571  ricinus2.mf.uni-lj.si  ricinus2.mf.uni-lj.si       0.838000   \n",
       "\n",
       "                                                    en_doc  \\\n",
       "35209    Apolonija Šušteršič - (Cre)Action Directe (0:1...   \n",
       "2435571  Vogt Guenter; Štrus Jasna Hypogean life-style ...   \n",
       "\n",
       "                                                    sl_doc  en_length  \\\n",
       "35209    Mirko Simić - T.A.N.Z. (00:14:17) Produkcija: ...        410   \n",
       "2435571  Žust J; Klemenc N; Vospernik P; Pestevšek U; V...        250   \n",
       "\n",
       "         sl_length  punct_ratio                  X-GENRE  \\\n",
       "35209           87     0.153565  Information/Explanation   \n",
       "2435571        149     0.024911  Information/Explanation   \n",
       "\n",
       "                                        label_distribution  \\\n",
       "35209    {'Other': 0.0001, 'Information/Explanation': 0...   \n",
       "2435571  {'Other': 0.0001, 'Information/Explanation': 0...   \n",
       "\n",
       "         chosen_category_distr manual_annotation comments correct_prediction  \n",
       "35209                 0.999046       Non-textual      NaN                  n  \n",
       "2435571               0.999114       Non-textual      NaN                  n  "
      ]
     },
     "execution_count": 44,
     "metadata": {},
     "output_type": "execute_result"
    }
   ],
   "source": [
    "incorrect[incorrect[\"manual_annotation\"] == \"Non-textual\"]"
   ]
  },
  {
   "cell_type": "code",
   "execution_count": 18,
   "metadata": {},
   "outputs": [
    {
     "data": {
      "text/html": [
       "<div>\n",
       "<style scoped>\n",
       "    .dataframe tbody tr th:only-of-type {\n",
       "        vertical-align: middle;\n",
       "    }\n",
       "\n",
       "    .dataframe tbody tr th {\n",
       "        vertical-align: top;\n",
       "    }\n",
       "\n",
       "    .dataframe thead th {\n",
       "        text-align: right;\n",
       "    }\n",
       "</style>\n",
       "<table border=\"1\" class=\"dataframe\">\n",
       "  <thead>\n",
       "    <tr style=\"text-align: right;\">\n",
       "      <th></th>\n",
       "      <th>average_score</th>\n",
       "      <th>en_length</th>\n",
       "      <th>sl_length</th>\n",
       "      <th>punct_ratio</th>\n",
       "      <th>chosen_category_distr</th>\n",
       "    </tr>\n",
       "  </thead>\n",
       "  <tbody>\n",
       "    <tr>\n",
       "      <th>count</th>\n",
       "      <td>115.000000</td>\n",
       "      <td>115.000000</td>\n",
       "      <td>115.000000</td>\n",
       "      <td>115.000000</td>\n",
       "      <td>115.000000</td>\n",
       "    </tr>\n",
       "    <tr>\n",
       "      <th>mean</th>\n",
       "      <td>0.890828</td>\n",
       "      <td>413.652174</td>\n",
       "      <td>437.504348</td>\n",
       "      <td>0.090032</td>\n",
       "      <td>0.980488</td>\n",
       "    </tr>\n",
       "    <tr>\n",
       "      <th>std</th>\n",
       "      <td>0.072240</td>\n",
       "      <td>864.725532</td>\n",
       "      <td>963.160563</td>\n",
       "      <td>0.024678</td>\n",
       "      <td>0.059380</td>\n",
       "    </tr>\n",
       "    <tr>\n",
       "      <th>min</th>\n",
       "      <td>0.658071</td>\n",
       "      <td>76.000000</td>\n",
       "      <td>3.000000</td>\n",
       "      <td>0.033520</td>\n",
       "      <td>0.607548</td>\n",
       "    </tr>\n",
       "    <tr>\n",
       "      <th>25%</th>\n",
       "      <td>0.858450</td>\n",
       "      <td>118.000000</td>\n",
       "      <td>91.000000</td>\n",
       "      <td>0.076023</td>\n",
       "      <td>0.995126</td>\n",
       "    </tr>\n",
       "    <tr>\n",
       "      <th>50%</th>\n",
       "      <td>0.913600</td>\n",
       "      <td>194.000000</td>\n",
       "      <td>159.000000</td>\n",
       "      <td>0.088398</td>\n",
       "      <td>0.998279</td>\n",
       "    </tr>\n",
       "    <tr>\n",
       "      <th>75%</th>\n",
       "      <td>0.944375</td>\n",
       "      <td>321.500000</td>\n",
       "      <td>294.500000</td>\n",
       "      <td>0.102806</td>\n",
       "      <td>0.998858</td>\n",
       "    </tr>\n",
       "    <tr>\n",
       "      <th>max</th>\n",
       "      <td>0.988000</td>\n",
       "      <td>6495.000000</td>\n",
       "      <td>6772.000000</td>\n",
       "      <td>0.173228</td>\n",
       "      <td>0.999131</td>\n",
       "    </tr>\n",
       "  </tbody>\n",
       "</table>\n",
       "</div>"
      ],
      "text/plain": [
       "       average_score    en_length    sl_length  punct_ratio  \\\n",
       "count     115.000000   115.000000   115.000000   115.000000   \n",
       "mean        0.890828   413.652174   437.504348     0.090032   \n",
       "std         0.072240   864.725532   963.160563     0.024678   \n",
       "min         0.658071    76.000000     3.000000     0.033520   \n",
       "25%         0.858450   118.000000    91.000000     0.076023   \n",
       "50%         0.913600   194.000000   159.000000     0.088398   \n",
       "75%         0.944375   321.500000   294.500000     0.102806   \n",
       "max         0.988000  6495.000000  6772.000000     0.173228   \n",
       "\n",
       "       chosen_category_distr  \n",
       "count             115.000000  \n",
       "mean                0.980488  \n",
       "std                 0.059380  \n",
       "min                 0.607548  \n",
       "25%                 0.995126  \n",
       "50%                 0.998279  \n",
       "75%                 0.998858  \n",
       "max                 0.999131  "
      ]
     },
     "execution_count": 18,
     "metadata": {},
     "output_type": "execute_result"
    }
   ],
   "source": [
    "correct_df = final_sample[final_sample[\"correct_prediction\"] == \"y\"]\n",
    "correct_df.describe()"
   ]
  },
  {
   "cell_type": "code",
   "execution_count": 33,
   "metadata": {},
   "outputs": [
    {
     "data": {
      "text/plain": [
       "(6, 20)"
      ]
     },
     "execution_count": 33,
     "metadata": {},
     "output_type": "execute_result"
    }
   ],
   "source": [
    "correct_df[correct_df[\"chosen_category_distr\"] < 0.9].shape"
   ]
  },
  {
   "cell_type": "code",
   "execution_count": 102,
   "metadata": {},
   "outputs": [
    {
     "data": {
      "text/plain": [
       "(148, 19)"
      ]
     },
     "execution_count": 102,
     "metadata": {},
     "output_type": "execute_result"
    }
   ],
   "source": [
    "# Remove non-textual\n",
    "final_sample = final_sample[final_sample[\"manual_annotation\"] != \"Non-textual\"]\n",
    "final_sample.shape"
   ]
  },
  {
   "cell_type": "code",
   "execution_count": 7,
   "metadata": {},
   "outputs": [
    {
     "name": "stdout",
     "output_type": "stream",
     "text": [
      "Macro f1: 0.713, Micro f1: 0.777\n"
     ]
    },
    {
     "data": {
      "image/png": "[encoded data removed]",
      "text/plain": [
       "<Figure size 648x648 with 1 Axes>"
      ]
     },
     "metadata": {
      "needs_background": "light"
     },
     "output_type": "display_data"
    },
    {
     "name": "stdout",
     "output_type": "stream",
     "text": [
      "                         precision    recall  f1-score   support\n",
      "\n",
      "Information/Explanation       0.90      0.77      0.83        35\n",
      "              Promotion       0.97      0.81      0.88        37\n",
      "  Opinion/Argumentation       0.73      0.46      0.56        24\n",
      "                   News       0.92      0.75      0.83        16\n",
      "            Instruction       0.73      1.00      0.84         8\n",
      "                  Legal       0.88      0.93      0.90        15\n",
      "                  Forum       0.30      1.00      0.46         3\n",
      "                  Other       0.08      1.00      0.15         1\n",
      "          Prose/Lyrical       0.90      1.00      0.95         9\n",
      "\n",
      "               accuracy                           0.78       148\n",
      "              macro avg       0.71      0.86      0.71       148\n",
      "           weighted avg       0.86      0.78      0.80       148\n",
      "\n"
     ]
    },
    {
     "data": {
      "text/plain": [
       "<Figure size 432x288 with 0 Axes>"
      ]
     },
     "metadata": {},
     "output_type": "display_data"
    }
   ],
   "source": [
    "LABELS = ['Information/Explanation', 'Promotion', 'Opinion/Argumentation', 'News', 'Instruction', 'Legal', 'Forum', 'Other', \"Prose/Lyrical\"]\n",
    "\n",
    "# Analyse results\n",
    "y_true = final_sample[\"manual_annotation\"].to_list()\n",
    "y_pred = final_sample[\"X-GENRE\"].to_list()\n",
    "\n",
    "# Calculate the scores\n",
    "macro = f1_score(y_true, y_pred, labels=LABELS, average=\"macro\")\n",
    "micro = f1_score(y_true, y_pred, labels=LABELS,  average=\"micro\")\n",
    "\n",
    "print(f\"Macro f1: {macro:0.3}, Micro f1: {micro:0.3}\")\n",
    "\n",
    "# Plot the confusion matrix:\n",
    "cm = confusion_matrix(y_true, y_pred, labels=LABELS)\n",
    "plt.figure(figsize=(9, 9))\n",
    "plt.imshow(cm, cmap=\"Oranges\")\n",
    "for (i, j), z in np.ndenumerate(cm):\n",
    "\tplt.text(j, i, '{:d}'.format(z), ha='center', va='center')\n",
    "classNames = LABELS\n",
    "plt.ylabel('True label')\n",
    "plt.xlabel('Predicted label')\n",
    "tick_marks = np.arange(len(classNames))\n",
    "plt.xticks(tick_marks, classNames, rotation=90)\n",
    "plt.yticks(tick_marks, classNames)\n",
    "plt.title(f\"Confusion matrix for a sample of 150 instances\")\n",
    "\n",
    "plt.tight_layout()\n",
    "fig1 = plt.gcf()\n",
    "plt.show()\n",
    "plt.draw()\n",
    "# Save the confusion matrix\n",
    "fig1.savefig(f\"Confusion-matrix-predicted-sample-150-instances-second-round.png\",dpi=100)\n",
    "\n",
    "# Print classification report\n",
    "print(classification_report(y_true, y_pred, labels = LABELS))"
   ]
  },
  {
   "cell_type": "markdown",
   "metadata": {},
   "source": [
    "### Results on a stratified sample"
   ]
  },
  {
   "cell_type": "code",
   "execution_count": 12,
   "metadata": {},
   "outputs": [
    {
     "data": {
      "text/plain": [
       "Promotion                  31\n",
       "Information/Explanation    30\n",
       "News                       13\n",
       "Instruction                11\n",
       "Legal                       6\n",
       "Opinion/Argumentation       5\n",
       "Other                       2\n",
       "Name: X-GENRE, dtype: int64"
      ]
     },
     "execution_count": 12,
     "metadata": {},
     "output_type": "execute_result"
    }
   ],
   "source": [
    "# Let's analyze what would the scores be on a stratified sample\n",
    "\n",
    "# Drop Legal to 6, Opinion to 5, Other to 2, all Prose/Lyrical, all Forum\n",
    "\n",
    "stratified_sample = final_sample.drop(final_sample[final_sample[\"X-GENRE\"] == \"Forum\"].sample(n = 10).index)\n",
    "\n",
    "stratified_sample = stratified_sample.drop(stratified_sample[stratified_sample[\"X-GENRE\"] == \"Prose/Lyrical\"].sample(n = 10).index)\n",
    "\n",
    "stratified_sample = stratified_sample.drop(stratified_sample[stratified_sample[\"X-GENRE\"] == \"Other\"].sample(n = 10).index)\n",
    "\n",
    "stratified_sample = stratified_sample.drop(stratified_sample[stratified_sample[\"X-GENRE\"] == \"Opinion/Argumentation\"].sample(n = 10).index)\n",
    "\n",
    "stratified_sample = stratified_sample.drop(stratified_sample[stratified_sample[\"X-GENRE\"] == \"Legal\"].sample(n = 10).index)\n",
    "\n",
    "stratified_sample[\"X-GENRE\"].value_counts()"
   ]
  },
  {
   "cell_type": "code",
   "execution_count": 13,
   "metadata": {},
   "outputs": [
    {
     "name": "stdout",
     "output_type": "stream",
     "text": [
      "Macro f1: 0.71, Micro f1: 0.867\n"
     ]
    },
    {
     "data": {
      "image/png": "[encoded data removed]",
      "text/plain": [
       "<Figure size 648x648 with 1 Axes>"
      ]
     },
     "metadata": {
      "needs_background": "light"
     },
     "output_type": "display_data"
    },
    {
     "name": "stdout",
     "output_type": "stream",
     "text": [
      "                         precision    recall  f1-score   support\n",
      "\n",
      "Information/Explanation       0.90      0.90      0.90        30\n",
      "              Promotion       0.97      0.86      0.91        35\n",
      "  Opinion/Argumentation       0.80      0.57      0.67         7\n",
      "                   News       0.92      0.92      0.92        13\n",
      "            Instruction       0.73      1.00      0.84         8\n",
      "                  Legal       0.67      0.80      0.73         5\n",
      "                  Other       0.00      0.00      0.00         0\n",
      "\n",
      "               accuracy                           0.87        98\n",
      "              macro avg       0.71      0.72      0.71        98\n",
      "           weighted avg       0.89      0.87      0.88        98\n",
      "\n"
     ]
    },
    {
     "name": "stderr",
     "output_type": "stream",
     "text": [
      "/home/tajak/anaconda3/lib/python3.9/site-packages/sklearn/metrics/_classification.py:1248: UndefinedMetricWarning: Recall and F-score are ill-defined and being set to 0.0 in labels with no true samples. Use `zero_division` parameter to control this behavior.\n",
      "  _warn_prf(average, modifier, msg_start, len(result))\n",
      "/home/tajak/anaconda3/lib/python3.9/site-packages/sklearn/metrics/_classification.py:1248: UndefinedMetricWarning: Recall and F-score are ill-defined and being set to 0.0 in labels with no true samples. Use `zero_division` parameter to control this behavior.\n",
      "  _warn_prf(average, modifier, msg_start, len(result))\n",
      "/home/tajak/anaconda3/lib/python3.9/site-packages/sklearn/metrics/_classification.py:1248: UndefinedMetricWarning: Recall and F-score are ill-defined and being set to 0.0 in labels with no true samples. Use `zero_division` parameter to control this behavior.\n",
      "  _warn_prf(average, modifier, msg_start, len(result))\n"
     ]
    },
    {
     "data": {
      "text/plain": [
       "<Figure size 432x288 with 0 Axes>"
      ]
     },
     "metadata": {},
     "output_type": "display_data"
    }
   ],
   "source": [
    "LABELS = ['Information/Explanation', 'Promotion', 'Opinion/Argumentation', 'News', 'Instruction', 'Legal', 'Other']\n",
    "\n",
    "# Analyse results\n",
    "y_true = stratified_sample[\"manual_annotation\"].to_list()\n",
    "y_pred = stratified_sample[\"X-GENRE\"].to_list()\n",
    "\n",
    "# Calculate the scores\n",
    "macro = f1_score(y_true, y_pred, labels=LABELS, average=\"macro\")\n",
    "micro = f1_score(y_true, y_pred, labels=LABELS,  average=\"micro\")\n",
    "\n",
    "print(f\"Macro f1: {macro:0.3}, Micro f1: {micro:0.3}\")\n",
    "\n",
    "# Plot the confusion matrix:\n",
    "cm = confusion_matrix(y_true, y_pred, labels=LABELS)\n",
    "plt.figure(figsize=(9, 9))\n",
    "plt.imshow(cm, cmap=\"Oranges\")\n",
    "for (i, j), z in np.ndenumerate(cm):\n",
    "\tplt.text(j, i, '{:d}'.format(z), ha='center', va='center')\n",
    "classNames = LABELS\n",
    "plt.ylabel('True label')\n",
    "plt.xlabel('Predicted label')\n",
    "tick_marks = np.arange(len(classNames))\n",
    "plt.xticks(tick_marks, classNames, rotation=90)\n",
    "plt.yticks(tick_marks, classNames)\n",
    "plt.title(f\"Confusion matrix for a stratified sample\")\n",
    "\n",
    "plt.tight_layout()\n",
    "fig1 = plt.gcf()\n",
    "plt.show()\n",
    "plt.draw()\n",
    "# Save the confusion matrix\n",
    "fig1.savefig(f\"Confusion-matrix-predicted-stratified-sample-second-round.png\",dpi=100)\n",
    "\n",
    "# Print classification report\n",
    "print(classification_report(y_true, y_pred, labels = LABELS))"
   ]
  },
  {
   "cell_type": "markdown",
   "metadata": {},
   "source": [
    "### Analyse results after cleaning the predictions\n",
    "\n",
    "For final version of the data, I suggest discarding predicted labels if:\n",
    "- the predicted label is \"Other\"\n",
    "- the certainty of prediction is less than 0.9"
   ]
  },
  {
   "cell_type": "code",
   "execution_count": 83,
   "metadata": {},
   "outputs": [
    {
     "data": {
      "text/plain": [
       "(136, 19)"
      ]
     },
     "execution_count": 83,
     "metadata": {},
     "output_type": "execute_result"
    }
   ],
   "source": [
    "# Remove Other\n",
    "cleaned_sample = final_sample[final_sample[\"X-GENRE\"] != \"Other\"]\n",
    "cleaned_sample.shape"
   ]
  },
  {
   "cell_type": "code",
   "execution_count": 84,
   "metadata": {},
   "outputs": [
    {
     "data": {
      "text/plain": [
       "(124, 19)"
      ]
     },
     "execution_count": 84,
     "metadata": {},
     "output_type": "execute_result"
    }
   ],
   "source": [
    "# Remove instances with prediction certainty less than 0.9\n",
    "cleaned_sample = cleaned_sample[cleaned_sample[\"chosen_category_distr\"] > 0.9]\n",
    "cleaned_sample.shape"
   ]
  },
  {
   "cell_type": "code",
   "execution_count": 85,
   "metadata": {},
   "outputs": [
    {
     "data": {
      "text/plain": [
       "Information/Explanation    30\n",
       "Promotion                  30\n",
       "Legal                      15\n",
       "News                       11\n",
       "Opinion/Argumentation      11\n",
       "Instruction                10\n",
       "Forum                       9\n",
       "Prose/Lyrical               8\n",
       "Name: X-GENRE, dtype: int64"
      ]
     },
     "execution_count": 85,
     "metadata": {},
     "output_type": "execute_result"
    }
   ],
   "source": [
    "cleaned_sample[\"X-GENRE\"].value_counts()"
   ]
  },
  {
   "cell_type": "code",
   "execution_count": 86,
   "metadata": {},
   "outputs": [
    {
     "name": "stdout",
     "output_type": "stream",
     "text": [
      "Macro f1: 0.827, Micro f1: 0.871\n"
     ]
    },
    {
     "data": {
      "image/png": "[encoded data removed]",
      "text/plain": [
       "<Figure size 648x648 with 1 Axes>"
      ]
     },
     "metadata": {
      "needs_background": "light"
     },
     "output_type": "display_data"
    },
    {
     "name": "stdout",
     "output_type": "stream",
     "text": [
      "                         precision    recall  f1-score   support\n",
      "\n",
      "Information/Explanation       0.90      0.90      0.90        30\n",
      "              Promotion       0.97      0.91      0.94        32\n",
      "  Opinion/Argumentation       0.91      0.59      0.71        17\n",
      "                   News       1.00      0.85      0.92        13\n",
      "            Instruction       0.80      1.00      0.89         8\n",
      "                  Legal       0.87      0.93      0.90        14\n",
      "          Prose/Lyrical       1.00      1.00      1.00         8\n",
      "                  Forum       0.22      1.00      0.36         2\n",
      "\n",
      "               accuracy                           0.87       124\n",
      "              macro avg       0.83      0.90      0.83       124\n",
      "           weighted avg       0.91      0.87      0.88       124\n",
      "\n"
     ]
    },
    {
     "data": {
      "text/plain": [
       "<Figure size 432x288 with 0 Axes>"
      ]
     },
     "metadata": {},
     "output_type": "display_data"
    }
   ],
   "source": [
    "LABELS = ['Information/Explanation', 'Promotion', 'Opinion/Argumentation', 'News', 'Instruction', 'Legal', \"Prose/Lyrical\", \"Forum\"]\n",
    "\n",
    "# Analyse results\n",
    "y_true = cleaned_sample[\"manual_annotation\"].to_list()\n",
    "y_pred = cleaned_sample[\"X-GENRE\"].to_list()\n",
    "\n",
    "# Calculate the scores\n",
    "macro = f1_score(y_true, y_pred, labels=LABELS, average=\"macro\")\n",
    "micro = f1_score(y_true, y_pred, labels=LABELS,  average=\"micro\")\n",
    "\n",
    "print(f\"Macro f1: {macro:0.3}, Micro f1: {micro:0.3}\")\n",
    "\n",
    "# Plot the confusion matrix:\n",
    "cm = confusion_matrix(y_true, y_pred, labels=LABELS)\n",
    "plt.figure(figsize=(9, 9))\n",
    "plt.imshow(cm, cmap=\"Oranges\")\n",
    "for (i, j), z in np.ndenumerate(cm):\n",
    "\tplt.text(j, i, '{:d}'.format(z), ha='center', va='center')\n",
    "classNames = LABELS\n",
    "plt.ylabel('True label')\n",
    "plt.xlabel('Predicted label')\n",
    "tick_marks = np.arange(len(classNames))\n",
    "plt.xticks(tick_marks, classNames, rotation=90)\n",
    "plt.yticks(tick_marks, classNames)\n",
    "plt.title(f\"Confusion matrix for a cleaned sample (124 instances)\")\n",
    "\n",
    "plt.tight_layout()\n",
    "fig1 = plt.gcf()\n",
    "plt.show()\n",
    "plt.draw()\n",
    "# Save the confusion matrix\n",
    "fig1.savefig(f\"Confusion-matrix-predicted-sample-cleaned-124-instances-second-round.png\",dpi=100)\n",
    "\n",
    "# Print classification report\n",
    "print(classification_report(y_true, y_pred, labels = LABELS))"
   ]
  },
  {
   "cell_type": "code",
   "execution_count": 87,
   "metadata": {},
   "outputs": [
    {
     "data": {
      "text/plain": [
       "Information/Explanation    30\n",
       "Promotion                  30\n",
       "Legal                      15\n",
       "News                       11\n",
       "Opinion/Argumentation      11\n",
       "Instruction                10\n",
       "Forum                       9\n",
       "Prose/Lyrical               8\n",
       "Name: X-GENRE, dtype: int64"
      ]
     },
     "execution_count": 87,
     "metadata": {},
     "output_type": "execute_result"
    }
   ],
   "source": [
    "cleaned_sample[\"X-GENRE\"].value_counts()"
   ]
  },
  {
   "cell_type": "code",
   "execution_count": 90,
   "metadata": {},
   "outputs": [
    {
     "data": {
      "text/plain": [
       "Information/Explanation    30\n",
       "Promotion                  30\n",
       "News                       11\n",
       "Instruction                10\n",
       "Legal                       6\n",
       "Opinion/Argumentation       5\n",
       "Name: X-GENRE, dtype: int64"
      ]
     },
     "execution_count": 90,
     "metadata": {},
     "output_type": "execute_result"
    }
   ],
   "source": [
    "# Results on a balanced sample (stratified based on labels)\n",
    "\n",
    "# Drop Legal to 6, Opinion to 5, Other to 2, all Prose/Lyrical, all Forum\n",
    "\n",
    "stratified_sample = cleaned_sample.drop(cleaned_sample[cleaned_sample[\"X-GENRE\"] == \"Forum\"].sample(n = 9).index)\n",
    "\n",
    "stratified_sample = stratified_sample.drop(stratified_sample[stratified_sample[\"X-GENRE\"] == \"Prose/Lyrical\"].sample(n = 8).index)\n",
    "\n",
    "stratified_sample = stratified_sample.drop(stratified_sample[stratified_sample[\"X-GENRE\"] == \"Opinion/Argumentation\"].sample(n = 6).index)\n",
    "\n",
    "stratified_sample = stratified_sample.drop(stratified_sample[stratified_sample[\"X-GENRE\"] == \"Legal\"].sample(n = 9).index)\n",
    "\n",
    "stratified_sample[\"X-GENRE\"].value_counts()"
   ]
  },
  {
   "cell_type": "code",
   "execution_count": 91,
   "metadata": {},
   "outputs": [
    {
     "name": "stdout",
     "output_type": "stream",
     "text": [
      "Macro f1: 0.851, Micro f1: 0.902\n"
     ]
    },
    {
     "data": {
      "image/png": "[encoded data removed]",
      "text/plain": [
       "<Figure size 648x648 with 1 Axes>"
      ]
     },
     "metadata": {
      "needs_background": "light"
     },
     "output_type": "display_data"
    },
    {
     "name": "stdout",
     "output_type": "stream",
     "text": [
      "                         precision    recall  f1-score   support\n",
      "\n",
      "Information/Explanation       0.90      0.96      0.93        28\n",
      "              Promotion       0.97      0.91      0.94        32\n",
      "  Opinion/Argumentation       0.80      0.57      0.67         7\n",
      "                   News       1.00      0.92      0.96        12\n",
      "            Instruction       0.80      1.00      0.89         8\n",
      "                  Legal       0.67      0.80      0.73         5\n",
      "\n",
      "               accuracy                           0.90        92\n",
      "              macro avg       0.86      0.86      0.85        92\n",
      "           weighted avg       0.91      0.90      0.90        92\n",
      "\n"
     ]
    },
    {
     "data": {
      "text/plain": [
       "<Figure size 432x288 with 0 Axes>"
      ]
     },
     "metadata": {},
     "output_type": "display_data"
    }
   ],
   "source": [
    "LABELS = ['Information/Explanation', 'Promotion', 'Opinion/Argumentation', 'News', 'Instruction', 'Legal']\n",
    "\n",
    "# Analyse results\n",
    "y_true = stratified_sample[\"manual_annotation\"].to_list()\n",
    "y_pred = stratified_sample[\"X-GENRE\"].to_list()\n",
    "\n",
    "# Calculate the scores\n",
    "macro = f1_score(y_true, y_pred, labels=LABELS, average=\"macro\")\n",
    "micro = f1_score(y_true, y_pred, labels=LABELS,  average=\"micro\")\n",
    "\n",
    "print(f\"Macro f1: {macro:0.3}, Micro f1: {micro:0.3}\")\n",
    "\n",
    "# Plot the confusion matrix:\n",
    "cm = confusion_matrix(y_true, y_pred, labels=LABELS)\n",
    "plt.figure(figsize=(9, 9))\n",
    "plt.imshow(cm, cmap=\"Oranges\")\n",
    "for (i, j), z in np.ndenumerate(cm):\n",
    "\tplt.text(j, i, '{:d}'.format(z), ha='center', va='center')\n",
    "classNames = LABELS\n",
    "plt.ylabel('True label')\n",
    "plt.xlabel('Predicted label')\n",
    "tick_marks = np.arange(len(classNames))\n",
    "plt.xticks(tick_marks, classNames, rotation=90)\n",
    "plt.yticks(tick_marks, classNames)\n",
    "plt.title(f\"Confusion matrix for a cleaned sample (124 instances)\")\n",
    "\n",
    "plt.tight_layout()\n",
    "fig1 = plt.gcf()\n",
    "plt.show()\n",
    "plt.draw()\n",
    "# Save the confusion matrix\n",
    "fig1.savefig(f\"Confusion-matrix-predicted-sample-cleaned-124-instances-second-round.png\",dpi=100)\n",
    "\n",
    "# Print classification report\n",
    "print(classification_report(y_true, y_pred, labels = LABELS))"
   ]
  },
  {
   "cell_type": "markdown",
   "metadata": {},
   "source": [
    "### Analysis after discarding also \"Forum\""
   ]
  },
  {
   "cell_type": "code",
   "execution_count": 103,
   "metadata": {},
   "outputs": [
    {
     "data": {
      "text/plain": [
       "(115, 19)"
      ]
     },
     "execution_count": 103,
     "metadata": {},
     "output_type": "execute_result"
    }
   ],
   "source": [
    "# Remove Other\n",
    "cleaned_sample = final_sample[final_sample[\"X-GENRE\"] != \"Other\"]\n",
    "\n",
    "# Remove Forum\n",
    "\n",
    "cleaned_sample = cleaned_sample[cleaned_sample[\"X-GENRE\"] != \"Forum\"]\n",
    "\n",
    "# Remove instances with prediction certainty less than 0.9\n",
    "cleaned_sample = cleaned_sample[cleaned_sample[\"chosen_category_distr\"] > 0.9]\n",
    "cleaned_sample.shape"
   ]
  },
  {
   "cell_type": "code",
   "execution_count": 77,
   "metadata": {},
   "outputs": [
    {
     "data": {
      "text/plain": [
       "Information/Explanation    30\n",
       "Promotion                  30\n",
       "Legal                      15\n",
       "News                       11\n",
       "Opinion/Argumentation      11\n",
       "Instruction                10\n",
       "Prose/Lyrical               8\n",
       "Name: X-GENRE, dtype: int64"
      ]
     },
     "execution_count": 77,
     "metadata": {},
     "output_type": "execute_result"
    }
   ],
   "source": [
    "cleaned_sample[\"X-GENRE\"].value_counts()"
   ]
  },
  {
   "cell_type": "code",
   "execution_count": 127,
   "metadata": {},
   "outputs": [
    {
     "name": "stdout",
     "output_type": "stream",
     "text": [
      "Macro f1: 0.92, Micro f1: 0.922\n"
     ]
    },
    {
     "data": {
      "image/png": "[encoded data removed]",
      "text/plain": [
       "<Figure size 648x648 with 1 Axes>"
      ]
     },
     "metadata": {
      "needs_background": "light"
     },
     "output_type": "display_data"
    },
    {
     "name": "stdout",
     "output_type": "stream",
     "text": [
      "                         precision    recall  f1-score   support\n",
      "\n",
      "Information/Explanation       0.90      0.96      0.93        28\n",
      "              Promotion       0.97      0.91      0.94        32\n",
      "  Opinion/Argumentation       0.91      0.77      0.83        13\n",
      "                   News       1.00      0.92      0.96        12\n",
      "            Instruction       0.80      1.00      0.89         8\n",
      "                  Legal       0.87      0.93      0.90        14\n",
      "          Prose/Lyrical       1.00      1.00      1.00         8\n",
      "\n",
      "               accuracy                           0.92       115\n",
      "              macro avg       0.92      0.93      0.92       115\n",
      "           weighted avg       0.93      0.92      0.92       115\n",
      "\n"
     ]
    },
    {
     "data": {
      "text/plain": [
       "<Figure size 432x288 with 0 Axes>"
      ]
     },
     "metadata": {},
     "output_type": "display_data"
    }
   ],
   "source": [
    "LABELS = ['Information/Explanation', 'Promotion', 'Opinion/Argumentation', 'News', 'Instruction', 'Legal', \"Prose/Lyrical\"]\n",
    "\n",
    "# Analyse results\n",
    "y_true = cleaned_sample[\"manual_annotation\"].to_list()\n",
    "y_pred = cleaned_sample[\"X-GENRE\"].to_list()\n",
    "\n",
    "# Calculate the scores\n",
    "macro = f1_score(y_true, y_pred, labels=LABELS, average=\"macro\")\n",
    "micro = f1_score(y_true, y_pred, labels=LABELS,  average=\"micro\")\n",
    "\n",
    "print(f\"Macro f1: {macro:0.3}, Micro f1: {micro:0.3}\")\n",
    "\n",
    "# Plot the confusion matrix:\n",
    "cm = confusion_matrix(y_true, y_pred, labels=LABELS)\n",
    "plt.figure(figsize=(9, 9))\n",
    "plt.imshow(cm, cmap=\"Oranges\")\n",
    "for (i, j), z in np.ndenumerate(cm):\n",
    "\tplt.text(j, i, '{:d}'.format(z), ha='center', va='center')\n",
    "classNames = LABELS\n",
    "plt.ylabel('True label')\n",
    "plt.xlabel('Predicted label')\n",
    "tick_marks = np.arange(len(classNames))\n",
    "plt.xticks(tick_marks, classNames, rotation=90)\n",
    "plt.yticks(tick_marks, classNames)\n",
    "plt.title(f\"Confusion matrix for a cleaned sample (115 instances)\")\n",
    "\n",
    "plt.tight_layout()\n",
    "fig1 = plt.gcf()\n",
    "plt.show()\n",
    "plt.draw()\n",
    "# Save the confusion matrix\n",
    "fig1.savefig(f\"Confusion-matrix-predicted-sample-cleaned-115-instances-second-round.png\",dpi=100)\n",
    "\n",
    "# Print classification report\n",
    "print(classification_report(y_true, y_pred, labels = LABELS))"
   ]
  },
  {
   "cell_type": "code",
   "execution_count": 128,
   "metadata": {},
   "outputs": [
    {
     "data": {
      "text/plain": [
       "Information/Explanation    30\n",
       "Promotion                  30\n",
       "News                       11\n",
       "Instruction                10\n",
       "Legal                       6\n",
       "Opinion/Argumentation       5\n",
       "Name: X-GENRE, dtype: int64"
      ]
     },
     "execution_count": 128,
     "metadata": {},
     "output_type": "execute_result"
    }
   ],
   "source": [
    "# Results on a balanced sample (stratified based on labels)\n",
    "\n",
    "# Drop Legal to 6, Opinion to 5, Other to 2, all Prose/Lyrical, all Forum\n",
    "\n",
    "stratified_sample = cleaned_sample.drop(cleaned_sample[cleaned_sample[\"X-GENRE\"] == \"Prose/Lyrical\"].sample(n = 8).index)\n",
    "\n",
    "stratified_sample = stratified_sample.drop(stratified_sample[stratified_sample[\"X-GENRE\"] == \"Opinion/Argumentation\"].sample(n = 6).index)\n",
    "\n",
    "stratified_sample = stratified_sample.drop(stratified_sample[stratified_sample[\"X-GENRE\"] == \"Legal\"].sample(n = 9).index)\n",
    "\n",
    "stratified_sample[\"X-GENRE\"].value_counts()"
   ]
  },
  {
   "cell_type": "code",
   "execution_count": 129,
   "metadata": {},
   "outputs": [
    {
     "data": {
      "text/plain": [
       "(92, 19)"
      ]
     },
     "execution_count": 129,
     "metadata": {},
     "output_type": "execute_result"
    }
   ],
   "source": [
    "stratified_sample.shape"
   ]
  },
  {
   "cell_type": "code",
   "execution_count": 131,
   "metadata": {},
   "outputs": [
    {
     "name": "stdout",
     "output_type": "stream",
     "text": [
      "Macro f1: 0.896, Micro f1: 0.924\n"
     ]
    },
    {
     "data": {
      "image/png": "[encoded data removed]",
      "text/plain": [
       "<Figure size 648x648 with 1 Axes>"
      ]
     },
     "metadata": {
      "needs_background": "light"
     },
     "output_type": "display_data"
    },
    {
     "name": "stdout",
     "output_type": "stream",
     "text": [
      "                         precision    recall  f1-score   support\n",
      "\n",
      "Information/Explanation       0.90      0.96      0.93        28\n",
      "              Promotion       0.97      0.94      0.95        31\n",
      "  Opinion/Argumentation       1.00      0.62      0.77         8\n",
      "                   News       1.00      1.00      1.00        11\n",
      "            Instruction       0.80      1.00      0.89         8\n",
      "                  Legal       0.83      0.83      0.83         6\n",
      "\n",
      "               accuracy                           0.92        92\n",
      "              macro avg       0.92      0.89      0.90        92\n",
      "           weighted avg       0.93      0.92      0.92        92\n",
      "\n"
     ]
    },
    {
     "data": {
      "text/plain": [
       "<Figure size 432x288 with 0 Axes>"
      ]
     },
     "metadata": {},
     "output_type": "display_data"
    }
   ],
   "source": [
    "LABELS = ['Information/Explanation', 'Promotion', 'Opinion/Argumentation', 'News', 'Instruction', 'Legal']\n",
    "\n",
    "# Analyse results\n",
    "y_true = stratified_sample[\"manual_annotation\"].to_list()\n",
    "y_pred = stratified_sample[\"X-GENRE\"].to_list()\n",
    "\n",
    "# Calculate the scores\n",
    "macro = f1_score(y_true, y_pred, labels=LABELS, average=\"macro\")\n",
    "micro = f1_score(y_true, y_pred, labels=LABELS,  average=\"micro\")\n",
    "\n",
    "print(f\"Macro f1: {macro:0.3}, Micro f1: {micro:0.3}\")\n",
    "\n",
    "# Plot the confusion matrix:\n",
    "cm = confusion_matrix(y_true, y_pred, labels=LABELS)\n",
    "plt.figure(figsize=(9, 9))\n",
    "plt.imshow(cm, cmap=\"Oranges\")\n",
    "for (i, j), z in np.ndenumerate(cm):\n",
    "\tplt.text(j, i, '{:d}'.format(z), ha='center', va='center')\n",
    "classNames = LABELS\n",
    "plt.ylabel('True label')\n",
    "plt.xlabel('Predicted label')\n",
    "tick_marks = np.arange(len(classNames))\n",
    "plt.xticks(tick_marks, classNames, rotation=90)\n",
    "plt.yticks(tick_marks, classNames)\n",
    "plt.title(f\"Confusion matrix for a cleaned, stratified sample (92 instances)\")\n",
    "\n",
    "plt.tight_layout()\n",
    "fig1 = plt.gcf()\n",
    "plt.show()\n",
    "plt.draw()\n",
    "# Save the confusion matrix\n",
    "fig1.savefig(f\"Confusion-matrix-predicted-sample-cleaned-stratified-92-instances-second-round.png\",dpi=100)\n",
    "\n",
    "# Print classification report\n",
    "print(classification_report(y_true, y_pred, labels = LABELS))"
   ]
  }
 ],
 "metadata": {
  "kernelspec": {
   "display_name": "Python 3.9.7 ('base')",
   "language": "python",
   "name": "python3"
  },
  "language_info": {
   "codemirror_mode": {
    "name": "ipython",
    "version": 3
   },
   "file_extension": ".py",
   "mimetype": "text/x-python",
   "name": "python",
   "nbconvert_exporter": "python",
   "pygments_lexer": "ipython3",
   "version": "3.9.7"
  },
  "orig_nbformat": 4,
  "vscode": {
   "interpreter": {
    "hash": "7e373e41fe05b496006fe2fc132d7af19f1d513370c44925a0044a5f3ee41336"
   }
  }
 },
 "nbformat": 4,
 "nbformat_minor": 2
}
