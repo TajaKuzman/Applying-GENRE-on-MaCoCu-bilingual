{
 "cells": [
  {
   "cell_type": "code",
   "execution_count": 1,
   "metadata": {},
   "outputs": [],
   "source": [
    "import gzip\n",
    "import shutil\n",
    "import wget\n",
    "import regex as re\n",
    "import pandas as pd\n",
    "import numpy as np\n",
    "import json"
   ]
  },
  {
   "cell_type": "code",
   "execution_count": 3,
   "metadata": {},
   "outputs": [
    {
     "name": "stdout",
     "output_type": "stream",
     "text": [
      "Downloading Completed\n"
     ]
    }
   ],
   "source": [
    "# Download the file\n",
    "\n",
    "#Defining the zip file URL\n",
    "url = \"https://www.clarin.si/repository/xmlui/bitstream/handle/11356/1523/MaCoCu-sl-en.tmx.gz\"\n",
    "\n",
    "# Downloading the file by sending the request to the URL\n",
    "corpus_file = wget.download(url)\n",
    "print('Downloading Completed')"
   ]
  },
  {
   "cell_type": "code",
   "execution_count": 4,
   "metadata": {},
   "outputs": [],
   "source": [
    "# Unzip the file\n",
    "with gzip.open('MaCoCu-sl-en.tmx.gz', 'rb') as f_in:\n",
    "    with open('MaCoCu-sl-en.tmx', 'wb') as f_out:\n",
    "        shutil.copyfileobj(f_in, f_out)"
   ]
  },
  {
   "cell_type": "code",
   "execution_count": 5,
   "metadata": {},
   "outputs": [],
   "source": [
    "corpus = open('MaCoCu-sl-en.tmx', \"r\").read()"
   ]
  },
  {
   "cell_type": "code",
   "execution_count": 6,
   "metadata": {},
   "outputs": [
    {
     "name": "stdout",
     "output_type": "stream",
     "text": [
      "<?xml version=\"1.0\"?>\n",
      "<tmx version=\"1.4\">\n",
      " <header\n",
      "   adminlang=\"C\"\n",
      "   srclang=\"en\"\n",
      "   o-tmf=\"PlainText\"\n",
      "   creationtool=\"bitextor\"\n",
      "   creationtoolversion=\"8.2\"\n",
      "   datatype=\"PlainText\"\n",
      "   segtype=\"sentence\"\n",
      "   creationdate=\"20220420T120753\"\n",
      "   o-encoding=\"utf-8\">\n",
      " </header>\n",
      " <body>\n",
      "   <tu tuid=\"1\" datatype=\"Text\">\n",
      "    <prop type=\"score-bicleaner-ai\">0.950</prop>\n",
      "    <prop type=\"biroamer-entities\">No</prop>\n",
      "    <prop type=\"translation-direction\">sl-orig</prop>\n",
      "    <prop type=\"type\">1:1</prop>\n",
      "    <tuv xml:lang=\"en\">\n",
      "     <prop type=\"source-document\">http://www.damapapir.si/en/ecology</prop>\n",
      "     <prop type=\"checksum-seg\">c48f3fc0460c3d67</prop>\n",
      "     <prop type=\"paragraph-id\">p10s2</prop>\n",
      "    <prop type=\"english-variant-document\">B</prop>\n",
      "    <prop type=\"english-variant-domain\">MIX</prop>\n",
      "     <seg>This significantly contributes to a clean and healthy environment.</seg>\n",
      "    </tuv>\n",
      "    <tuv xml:lang=\"sl\">\n",
      "     <prop type=\"source-document\">http://www.damapapir.si/sl/ekologija</prop>\n",
      "     <prop type=\"checksum-seg\">745f997615be9df9</prop>\n",
      "     <prop type=\"paragraph-id\">p10s2</prop>\n",
      "     <seg>S tem bomo preprečili onesnaževanje narave in ohranjali zdravo okolje.</seg>\n",
      "    </tuv>\n",
      "   </tu>\n",
      "   <tu tuid=\"2\" datatype=\"Text\">\n",
      "    <prop type=\"score-bicleaner-ai\">0.929</prop>\n",
      "    <prop type=\"biroamer-entities\">No</prop>\n",
      "    <prop type=\"translation-direction\">en-orig</prop>\n",
      "    <prop type=\"type\">1:1</prop>\n",
      "    <tuv xml:lang=\"en\">\n",
      "     <prop type=\"source-document\">https://www.mesimedical.com/mesi-mtablet/mesi-mtablet-tbi/</prop>\n",
      "     <prop type=\"checksum-seg\">e3c65172f8025636</prop>\n",
      "     <prop type=\"paragraph-id\">p38s0</prop>\n",
      "    <prop type=\"english-variant-document\">UNK</prop>\n",
      "    <prop type=\"english-variant-domain\">B</prop>\n",
      "     <seg>MESI mTABLET TBI is not only an advanced Toe-Brachial Index measuring device.</seg>\n",
      "    </tuv>\n",
      "    <tuv xml:lang=\"sl\">\n",
      "     <prop type=\"source-document\">https://www.mesimedical.com/sl/mesi-mtablet/mesi-mtablet-tbi/</prop>\n",
      "     <prop type=\"checksum-seg\">6bd3c104f3168684</prop>\n",
      "     <prop type=\"paragraph-id\">p31s0</prop>\n",
      "     <seg>MESI mTABLET TBI ni samo napredna naprava za merjenje indeksa palec-nadlaket.</seg>\n",
      "    </tuv>\n",
      "   </tu>\n",
      "   <tu tuid=\"3\" datatype=\"Text\">\n",
      "    <prop type=\"score-bicleaner-ai\">0.950</prop>\n",
      "    <prop type=\"biroamer-entities\">No</prop>\n",
      "    <prop type=\"translation-direction\">sl-orig</prop>\n",
      "    <prop type=\"type\">1:1</prop>\n",
      "    <tuv xml:lang=\"en\">\n",
      "     <prop type=\"source-document\">https://www.uirs.si/en-us/About-us/Mission</prop>\n",
      "     <prop type=\"checksum-seg\">1f066aeaf36a250f</prop>\n",
      "     <prop type=\"paragraph-id\">p33s0</prop>\n",
      "    <prop type=\"english-variant-document\">B</prop>\n",
      "    <prop type=\"english-variant-domain\">MIX</prop>\n",
      "     <seg>UIRS has a Research Programme Group which is co-financed by the state budget within the framework of the Spatial Planning Programme.</seg>\n",
      "    </tuv>\n",
      "    <tuv xml:lang=\"sl\">\n",
      "     <prop type=\"source-document\">https://www.uirs.si/Poslanstvo</prop>\n",
      "     <prop type=\"checksum-seg\">3ad3807ab4c4d875</prop>\n",
      "     <prop type=\"paragraph-id\">p33s0</prop>\n",
      "     <seg>Na UIRS deluje programska skupina, ki je s strani države sofinancirana v okviru programa Prostorsko načrtovanje.</seg>\n",
      "    </tuv>\n",
      "   </tu>\n",
      "   <tu tuid=\"4\" datatype=\"Text\">\n",
      "    <prop type=\"score-bicleaner-ai\">0.984</prop>\n",
      "    <prop type=\"biroamer-entities\">No</prop>\n",
      "    <prop type=\"translation-direction\">sl-orig</prop>\n",
      "    <prop type=\"type\">1:1</prop>\n",
      "    <tuv xml:lang=\"en\">\n",
      "     <prop type=\"source-document\">https://www.visitkras.info/en/divaca-karst-nature-trail?p=things-to-do%2Fhiking</prop>\n",
      "     <prop type=\"checksum-seg\">987a7a5d4d5be69a</prop>\n",
      "     <prop type=\"paragraph-id\">p32s1</prop>\n",
      "    <prop type=\"english-variant-document\">B</prop>\n",
      "    <prop type=\"english-variant-domain\">B</prop>\n",
      "     <seg>You can start the trail at different points, around the Risnik collapse doline that emerged after the ceiling of a former underground cave hall collapsed, and continue to the Divača Cave.</seg>\n",
      "    </tuv>\n",
      "    <tuv xml:lang=\"sl\">\n",
      "     <prop type=\"source-document\">https://www.visitkras.info/krasoslovna-naravoslovna-ucna-pot-divaski-kras</prop>\n",
      "     <prop type=\"checksum-seg\">77e49224960f697f</prop>\n",
      "     <prop type=\"paragraph-id\">p32s1</prop>\n",
      "     <seg>Pot, ki jo lahko začnete na različnih točkah, vas popelje okoli udorne doline Risnik, ki je nastala z vdrtjem stropa nekdanje jamske dvorane, in naprej do Divaške jame.</seg>\n",
      "    </tuv>\n",
      "   </tu>\n",
      "   <tu tuid=\"5\" datatype=\"Text\">\n",
      "    <prop type=\"score-bicleaner-ai\">0.886</prop>\n",
      "    <prop type=\"biroamer-entities\">No</prop>\n",
      "    <prop type=\"translation-direction\">sl-orig</prop>\n",
      "    <prop type=\"type\">1:1</prop>\n",
      "    <prop type=\"info\">different numbers in TUVs</prop>\n",
      "    <tuv xml:lang=\"en\">\n",
      "     <prop type=\"source-document\">https://fotoformat.si/en/dslr-cameras/7226-nikon-d5600-body.html</prop>\n",
      "     <prop type=\"checksum-seg\">284011b8e482a074</prop>\n",
      "     <prop type=\"paragraph-id\">p137s0</prop>\n",
      "    <prop type=\"english-variant-document\">A</prop>\n",
      "    <prop type=\"english\n"
     ]
    }
   ],
   "source": [
    "# Create and view a sample of the corpus\n",
    "corpus_sample = open('MaCoCu-sl-en.tmx', \"r\").read(5000)\n",
    "print(corpus_sample)"
   ]
  },
  {
   "cell_type": "code",
   "execution_count": 7,
   "metadata": {},
   "outputs": [],
   "source": [
    "# Prepare all the regexes\n",
    "# Compile all tus\n",
    "tu_re = re.compile('<tu tuid=\".*?>\\n(.*?)<\\/tu>', re.DOTALL)\n",
    "# Compile relevant information inside tus\n",
    "bi_score_re = re.compile('<prop type=\"score-bicleaner-ai\">(.*?)</prop>')\n",
    "biroamer_re = re.compile('<prop type=\"biroamer-entities\">(.*?)</prop>')\n",
    "translation_dir_re = re.compile('<prop type=\"translation-direction\">(.*?)</prop>')\n",
    "en_source_re = re.compile('<tuv xml:lang=\"en\">.*?<prop type=\"source-document\">(.*?)</prop>', re.DOTALL)\n",
    "en_par_id_re = re.compile('<tuv xml:lang=\"en\">.*?<prop type=\"paragraph-id\">(.*?)</prop', re.DOTALL)\n",
    "en_par_re = re.compile('<tuv xml:lang=\"en\">.*?<seg>(.*?)</seg>', re.DOTALL)\n",
    "en_var_doc_re = re.compile('<prop type=\"english-variant-document\">(.*?)</prop>')\n",
    "en_var_dom_re = re.compile('<prop type=\"english-variant-domain\">(.*?)</prop>')\n",
    "sl_source_re = re.compile('<tuv xml:lang=\"sl\">.*?<prop type=\"source-document\">(.*?)</prop>', re.DOTALL)\n",
    "sl_par_id_re = re.compile('<tuv xml:lang=\"sl\">.*?<prop type=\"paragraph-id\">(.*?)</prop', re.DOTALL)\n",
    "sl_par_re = re.compile('<tuv xml:lang=\"sl\">.*?<seg>(.*?)</seg>', re.DOTALL)\n"
   ]
  },
  {
   "cell_type": "code",
   "execution_count": 10,
   "metadata": {},
   "outputs": [
    {
     "data": {
      "text/plain": [
       "4"
      ]
     },
     "execution_count": 10,
     "metadata": {},
     "output_type": "execute_result"
    }
   ],
   "source": [
    "# Create a list of all tus from the sample corpus\n",
    "tus_list_sample = tu_re.findall(corpus_sample)\n",
    "len(tus_list_sample)"
   ]
  },
  {
   "cell_type": "code",
   "execution_count": 11,
   "metadata": {},
   "outputs": [
    {
     "data": {
      "text/plain": [
       "'    <prop type=\"score-bicleaner-ai\">0.929</prop>\\n    <prop type=\"biroamer-entities\">No</prop>\\n    <prop type=\"translation-direction\">en-orig</prop>\\n    <prop type=\"type\">1:1</prop>\\n    <tuv xml:lang=\"en\">\\n     <prop type=\"source-document\">https://www.mesimedical.com/mesi-mtablet/mesi-mtablet-tbi/</prop>\\n     <prop type=\"checksum-seg\">e3c65172f8025636</prop>\\n     <prop type=\"paragraph-id\">p38s0</prop>\\n    <prop type=\"english-variant-document\">UNK</prop>\\n    <prop type=\"english-variant-domain\">B</prop>\\n     <seg>MESI mTABLET TBI is not only an advanced Toe-Brachial Index measuring device.</seg>\\n    </tuv>\\n    <tuv xml:lang=\"sl\">\\n     <prop type=\"source-document\">https://www.mesimedical.com/sl/mesi-mtablet/mesi-mtablet-tbi/</prop>\\n     <prop type=\"checksum-seg\">6bd3c104f3168684</prop>\\n     <prop type=\"paragraph-id\">p31s0</prop>\\n     <seg>MESI mTABLET TBI ni samo napredna naprava za merjenje indeksa palec-nadlaket.</seg>\\n    </tuv>\\n   '"
      ]
     },
     "execution_count": 11,
     "metadata": {},
     "output_type": "execute_result"
    }
   ],
   "source": [
    "# View the tus_list\n",
    "tus_list_sample[1]"
   ]
  },
  {
   "cell_type": "code",
   "execution_count": 13,
   "metadata": {},
   "outputs": [
    {
     "name": "stdout",
     "output_type": "stream",
     "text": [
      "['0.929']\n",
      "['No']\n",
      "['en-orig']\n",
      "['https://www.mesimedical.com/mesi-mtablet/mesi-mtablet-tbi/']\n",
      "['p38s0']\n",
      "['MESI mTABLET TBI is not only an advanced Toe-Brachial Index measuring device.']\n",
      "['UNK']\n",
      "['B']\n",
      "['https://www.mesimedical.com/sl/mesi-mtablet/mesi-mtablet-tbi/']\n",
      "['p31s0']\n",
      "['MESI mTABLET TBI ni samo napredna naprava za merjenje indeksa palec-nadlaket.']\n"
     ]
    }
   ],
   "source": [
    "# Check if regexes work\n",
    "regexes =  [bi_score_re, biroamer_re, translation_dir_re, en_source_re, en_par_id_re, en_par_re, en_var_doc_re, en_var_dom_re, sl_source_re, sl_par_id_re, sl_par_re]\n",
    "\n",
    "for rex in regexes:\n",
    "    test_list = rex.findall(tus_list_sample[1])\n",
    "    print(test_list)"
   ]
  },
  {
   "cell_type": "code",
   "execution_count": 14,
   "metadata": {},
   "outputs": [
    {
     "data": {
      "text/plain": [
       "3176311"
      ]
     },
     "execution_count": 14,
     "metadata": {},
     "output_type": "execute_result"
    }
   ],
   "source": [
    "# Create a list of all tus from the corpus\n",
    "tus_list = tu_re.findall(corpus)\n",
    "len(tus_list)"
   ]
  },
  {
   "cell_type": "code",
   "execution_count": 15,
   "metadata": {},
   "outputs": [
    {
     "data": {
      "text/plain": [
       "['    <prop type=\"score-bicleaner-ai\">0.950</prop>\\n    <prop type=\"biroamer-entities\">No</prop>\\n    <prop type=\"translation-direction\">sl-orig</prop>\\n    <prop type=\"type\">1:1</prop>\\n    <tuv xml:lang=\"en\">\\n     <prop type=\"source-document\">http://www.damapapir.si/en/ecology</prop>\\n     <prop type=\"checksum-seg\">c48f3fc0460c3d67</prop>\\n     <prop type=\"paragraph-id\">p10s2</prop>\\n    <prop type=\"english-variant-document\">B</prop>\\n    <prop type=\"english-variant-domain\">MIX</prop>\\n     <seg>This significantly contributes to a clean and healthy environment.</seg>\\n    </tuv>\\n    <tuv xml:lang=\"sl\">\\n     <prop type=\"source-document\">http://www.damapapir.si/sl/ekologija</prop>\\n     <prop type=\"checksum-seg\">745f997615be9df9</prop>\\n     <prop type=\"paragraph-id\">p10s2</prop>\\n     <seg>S tem bomo preprečili onesnaževanje narave in ohranjali zdravo okolje.</seg>\\n    </tuv>\\n   ']"
      ]
     },
     "execution_count": 15,
     "metadata": {},
     "output_type": "execute_result"
    }
   ],
   "source": [
    "# Inspect an instance\n",
    "tus_list[:1]"
   ]
  },
  {
   "cell_type": "code",
   "execution_count": 17,
   "metadata": {},
   "outputs": [
    {
     "name": "stdout",
     "output_type": "stream",
     "text": [
      "3176311\n"
     ]
    },
    {
     "data": {
      "text/plain": [
       "[{'score_bicleaner_ai': 0.95,\n",
       "  'biroamer_entities': 'No',\n",
       "  'translation_direction': 'sl-orig',\n",
       "  'en_source': 'http://www.damapapir.si/en/ecology',\n",
       "  'en_par_id': 'p10s2',\n",
       "  'en_par': 'This significantly contributes to a clean and healthy environment.',\n",
       "  'en_var_doc': 'B',\n",
       "  'en_var_dom': 'MIX',\n",
       "  'sl_source': 'http://www.damapapir.si/sl/ekologija',\n",
       "  'sl_par_id': 'p10s2',\n",
       "  'sl_par': 'S tem bomo preprečili onesnaževanje narave in ohranjali zdravo okolje.'},\n",
       " {'score_bicleaner_ai': 0.929,\n",
       "  'biroamer_entities': 'No',\n",
       "  'translation_direction': 'en-orig',\n",
       "  'en_source': 'https://www.mesimedical.com/mesi-mtablet/mesi-mtablet-tbi/',\n",
       "  'en_par_id': 'p38s0',\n",
       "  'en_par': 'MESI mTABLET TBI is not only an advanced Toe-Brachial Index measuring device.',\n",
       "  'en_var_doc': 'UNK',\n",
       "  'en_var_dom': 'B',\n",
       "  'sl_source': 'https://www.mesimedical.com/sl/mesi-mtablet/mesi-mtablet-tbi/',\n",
       "  'sl_par_id': 'p31s0',\n",
       "  'sl_par': 'MESI mTABLET TBI ni samo napredna naprava za merjenje indeksa palec-nadlaket.'}]"
      ]
     },
     "execution_count": 17,
     "metadata": {},
     "output_type": "execute_result"
    }
   ],
   "source": [
    "# Create a list of dictionaries from the tus_list based on regexes\n",
    "tus_content = []\n",
    "\n",
    "for i in tus_list:\n",
    "\t# Find all relevant information based on regexes\n",
    "\tbi_score = bi_score_re.search(i).group(1)\n",
    "\tbiroamer = biroamer_re.search(i).group(1)\n",
    "\ttranslation_dir = translation_dir_re.search(i).group(1)\n",
    "\ten_source = en_source_re.search(i).group(1)\n",
    "\ten_par_id = en_par_id_re.search(i).group(1)\n",
    "\ten_par = en_par_re.search(i).group(1)\n",
    "\ten_var_doc = en_var_doc_re.search(i).group(1)\n",
    "\ten_var_dom = en_var_dom_re.search(i).group(1)\n",
    "\tsl_source = sl_source_re.search(i).group(1)\n",
    "\tsl_par_id = sl_par_id_re.search(i).group(1)\n",
    "\tsl_par = sl_par_re.search(i).group(1)\n",
    "\t# Add information to the dictionary\n",
    "\tcurrent_tu = {\"score_bicleaner_ai\": float(bi_score), \"biroamer_entities\": biroamer, \"translation_direction\": translation_dir, \"en_source\": en_source, \"en_par_id\": en_par_id, \"en_par\": en_par, \"en_var_doc\": en_var_doc, \"en_var_dom\": en_var_dom, \"sl_source\": sl_source, \"sl_par_id\": sl_par_id, \"sl_par\": sl_par}\n",
    "\t# Append the dictionary to the list\n",
    "\ttus_content.append(current_tu)\n",
    "\n",
    "print(len(tus_content))\n",
    "\n",
    "# Print some instances of the tus_content\n",
    "tus_content[:2]"
   ]
  },
  {
   "cell_type": "code",
   "execution_count": 18,
   "metadata": {},
   "outputs": [],
   "source": [
    "# Save json\n",
    "\n",
    "with open(\"Macocu-sl-en.json\", \"w\") as file:\n",
    "\tjson.dump(tus_content,file, indent= \"\")"
   ]
  }
 ],
 "metadata": {
  "kernelspec": {
   "display_name": "Python 3.9.7 ('base': conda)",
   "language": "python",
   "name": "python3"
  },
  "language_info": {
   "codemirror_mode": {
    "name": "ipython",
    "version": 3
   },
   "file_extension": ".py",
   "mimetype": "text/x-python",
   "name": "python",
   "nbconvert_exporter": "python",
   "pygments_lexer": "ipython3",
   "version": "3.9.7"
  },
  "orig_nbformat": 4,
  "vscode": {
   "interpreter": {
    "hash": "7e373e41fe05b496006fe2fc132d7af19f1d513370c44925a0044a5f3ee41336"
   }
  }
 },
 "nbformat": 4,
 "nbformat_minor": 2
}
