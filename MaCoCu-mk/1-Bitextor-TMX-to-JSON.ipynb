{
 "cells": [
  {
   "cell_type": "code",
   "execution_count": 1,
   "metadata": {},
   "outputs": [],
   "source": [
    "import gzip\n",
    "import shutil\n",
    "import wget\n",
    "import regex as re\n",
    "import pandas as pd\n",
    "import numpy as np\n",
    "import json"
   ]
  },
  {
   "cell_type": "code",
   "execution_count": 2,
   "metadata": {},
   "outputs": [
    {
     "name": "stdout",
     "output_type": "stream",
     "text": [
      "Downloading Completed\n"
     ]
    }
   ],
   "source": [
    "# Download the file\n",
    "\n",
    "#Defining the zip file URL - the TMX\n",
    "url = \"https://www.clarin.si/repository/xmlui/bitstream/handle/11356/1513/MaCoCu-en-mk.tmx.gz\"\n",
    "\n",
    "# Downloading the file by sending the request to the URL\n",
    "corpus_file = wget.download(url)\n",
    "print('Downloading Completed')"
   ]
  },
  {
   "cell_type": "code",
   "execution_count": 3,
   "metadata": {},
   "outputs": [],
   "source": [
    "# Unzip the file\n",
    "with gzip.open('MaCoCu-en-mk.tmx.gz', 'rb') as f_in:\n",
    "    with open('MaCoCu-en-mk.tmx', 'wb') as f_out:\n",
    "        shutil.copyfileobj(f_in, f_out)"
   ]
  },
  {
   "cell_type": "code",
   "execution_count": 4,
   "metadata": {},
   "outputs": [],
   "source": [
    "corpus = open('MaCoCu-en-mk.tmx', \"r\").read()"
   ]
  },
  {
   "cell_type": "code",
   "execution_count": 5,
   "metadata": {},
   "outputs": [
    {
     "name": "stdout",
     "output_type": "stream",
     "text": [
      "<?xml version=\"1.0\"?>\n",
      "<tmx version=\"1.4\">\n",
      " <header\n",
      "   adminlang=\"C\"\n",
      "   srclang=\"en\"\n",
      "   o-tmf=\"PlainText\"\n",
      "   creationtool=\"bitextor\"\n",
      "   creationtoolversion=\"8.2\"\n",
      "   datatype=\"PlainText\"\n",
      "   segtype=\"sentence\"\n",
      "   creationdate=\"20220420T120753\"\n",
      "   o-encoding=\"utf-8\">\n",
      " </header>\n",
      " <body>\n",
      "   <tu tuid=\"1\" datatype=\"Text\">\n",
      "    <prop type=\"score-bicleaner-ai\">0.785</prop>\n",
      "    <prop type=\"biroamer-entities\">No</prop>\n",
      "    <prop type=\"translation-direction\">en-orig</prop>\n",
      "    <prop type=\"type\">1:1</prop>\n",
      "    <tuv xml:lang=\"en\">\n",
      "     <prop type=\"source-document\">https://www.sobranie.mk/2020-2024-delegations-ns_article-delegation-to-the-parliamentary-assembly-of-the-organization-for-security-and-cooperation-in-europe.nspx</prop>\n",
      "     <prop type=\"checksum-seg\">a24a091bca5c2c8e</prop>\n",
      "     <prop type=\"paragraph-id\">p4s0</prop>\n",
      "    <prop type=\"english-variant-document\">UNK</prop>\n",
      "    <prop type=\"english-variant-domain\">B</prop>\n",
      "     <seg>DELEGATION TO THE PARLIAMENTARY ASSEMBLY OF THE ORGANIZATION FOR SECURITY AND COOPERATION IN EUROPE (OSCE PA)</seg>\n",
      "    </tuv>\n",
      "    <tuv xml:lang=\"mk\">\n",
      "     <prop type=\"source-document\">https://tvm.mk/vesti/makedonija?start=2235</prop>\n",
      "     <prop type=\"checksum-seg\">19c0c13c2e8d42b5</prop>\n",
      "     <prop type=\"paragraph-id\">p14s0</prop>\n",
      "     <seg>\"Вредностите на политичкиот плурализам\" е тема на тркалезна маса на која денеска ќе дебатираат лидери и претставници на парламентарните партии во Македонија.</seg>\n",
      "    </tuv>\n",
      "   </tu>\n",
      "   <tu tuid=\"2\" datatype=\"Text\">\n",
      "    <prop type=\"score-bicleaner-ai\">0.947</prop>\n",
      "    <prop type=\"biroamer-entities\">No</prop>\n",
      "    <prop type=\"translation-direction\">mk-orig</prop>\n",
      "    <prop type=\"type\">1:1</prop>\n",
      "    <tuv xml:lang=\"en\">\n",
      "     <prop type=\"source-document\">http://fbe.edu.mk/index.php?option=com_content&amp;view=article&amp;id=144&amp;Itemid=166&amp;lang=en</prop>\n",
      "     <prop type=\"checksum-seg\">1ede8430c336b603</prop>\n",
      "     <prop type=\"paragraph-id\">p66s3</prop>\n",
      "    <prop type=\"english-variant-document\">UNK</prop>\n",
      "    <prop type=\"english-variant-domain\">A</prop>\n",
      "     <seg>Depending on the demonstrated quality (depth and scope of research and knowledge), the best students will receive the highest grade.</seg>\n",
      "    </tuv>\n",
      "    <tuv xml:lang=\"mk\">\n",
      "     <prop type=\"source-document\">http://www.fbe.edu.mk/index.php?option=com_content&amp;view=article&amp;id=144&amp;Itemid=166&amp;lang=mk</prop>\n",
      "     <prop type=\"checksum-seg\">8dbe7ef10015787a</prop>\n",
      "     <prop type=\"paragraph-id\">p65s3</prop>\n",
      "     <seg>Зависно од покажаниот квалитет (длабочина и опфат на истражувањата и сознанијата), најдобрите студенти ќе добијат и највисоки оценки.</seg>\n",
      "    </tuv>\n",
      "   </tu>\n",
      "   <tu tuid=\"3\" datatype=\"Text\">\n",
      "    <prop type=\"score-bicleaner-ai\">0.986</prop>\n",
      "    <prop type=\"biroamer-entities\">No</prop>\n",
      "    <prop type=\"translation-direction\">mk-orig</prop>\n",
      "    <prop type=\"type\">1:1</prop>\n",
      "    <tuv xml:lang=\"en\">\n",
      "     <prop type=\"source-document\">https://www.euroimpex.com.mk/eng/news-2008-2013/competition</prop>\n",
      "     <prop type=\"checksum-seg\">f78ffc78b6080f8f</prop>\n",
      "     <prop type=\"paragraph-id\">p10s0</prop>\n",
      "    <prop type=\"english-variant-document\">A</prop>\n",
      "    <prop type=\"english-variant-domain\">A</prop>\n",
      "     <seg>Victory for the Peugeot brand at the competition association among automobile importers Skopje, 29.06.2012</seg>\n",
      "    </tuv>\n",
      "    <tuv xml:lang=\"mk\">\n",
      "     <prop type=\"source-document\">https://www.euroimpex.com.mk/novosti-2008-2013/natprevaruvachko-druzenje</prop>\n",
      "     <prop type=\"checksum-seg\">af5eb3f9771e1255</prop>\n",
      "     <prop type=\"paragraph-id\">p10s0</prop>\n",
      "     <seg>Победа за брендот Peugeot на натпреварувачкото дружење меѓу автомобилските импортери Скопје, 29.06.2012</seg>\n",
      "    </tuv>\n",
      "   </tu>\n",
      "   <tu tuid=\"4\" datatype=\"Text\">\n",
      "    <prop type=\"score-bicleaner-ai\">0.988</prop>\n",
      "    <prop type=\"biroamer-entities\">No</prop>\n",
      "    <prop type=\"translation-direction\">en-orig</prop>\n",
      "    <prop type=\"type\">1:1</prop>\n",
      "    <tuv xml:lang=\"en\">\n",
      "     <prop type=\"source-document\">https://consumer.huawei.com/au/sustainability/people/</prop>\n",
      "     <prop type=\"checksum-seg\">35be4bba531e1715+a41078a25a4d5663#1</prop>\n",
      "     <prop type=\"paragraph-id\">p47s1+p48s0</prop>\n",
      "    <prop type=\"english-variant-document\">B</prop>\n",
      "    <prop type=\"english-variant-domain\">B</prop>\n",
      "     <seg>By doing this, Huawei contributes to the development of local communities and countries and makes their digital economies more competitive.</seg>\n",
      "    </tuv>\n",
      "    <tuv xml:lang=\"mk\">\n",
      "     <prop type=\"source-document\">https://consumer.huawei.com/mk/sustainability/people/</prop>\n",
      "     <prop type=\"checksum-seg\">ba85c3f8f4d11eee+3ed3f47154c5f6cd#1</prop>\n",
      "     <prop type=\"paragraph-id\">p48s1+p49s0</prop>\n",
      "     <seg>Со тоа, Huawei придонесува за развој на локалните заедници и земји и ги прави нивните дигитални економии поконкурентни.</seg>\n",
      "    </tuv>\n",
      "   </tu>\n",
      "   <tu tuid=\"5\" datatype=\"Text\">\n",
      "    <prop type=\"score-bicleaner-ai\">0.966</prop>\n",
      "    <prop type=\"biroamer-entities\">No</prop>\n",
      "    <prop type=\"translation-direction\">mk-orig</prop>\n",
      "   \n"
     ]
    }
   ],
   "source": [
    "# Create and view a sample of the corpus\n",
    "corpus_sample = open('MaCoCu-en-mk.tmx', \"r\").read(5000)\n",
    "print(corpus_sample)"
   ]
  },
  {
   "cell_type": "code",
   "execution_count": 6,
   "metadata": {},
   "outputs": [],
   "source": [
    "# Prepare all the regexes\n",
    "# Compile all tus\n",
    "tu_re = re.compile('<tu tuid=\".*?>\\n(.*?)<\\/tu>', re.DOTALL)\n",
    "# Compile relevant information inside tus\n",
    "bi_score_re = re.compile('<prop type=\"score-bicleaner-ai\">(.*?)</prop>')\n",
    "biroamer_re = re.compile('<prop type=\"biroamer-entities\">(.*?)</prop>')\n",
    "translation_dir_re = re.compile('<prop type=\"translation-direction\">(.*?)</prop>')\n",
    "en_source_re = re.compile('<tuv xml:lang=\"en\">.*?<prop type=\"source-document\">(.*?)</prop>', re.DOTALL)\n",
    "en_par_id_re = re.compile('<tuv xml:lang=\"en\">.*?<prop type=\"paragraph-id\">(.*?)</prop', re.DOTALL)\n",
    "en_par_re = re.compile('<tuv xml:lang=\"en\">.*?<seg>(.*?)</seg>', re.DOTALL)\n",
    "en_var_doc_re = re.compile('<prop type=\"english-variant-document\">(.*?)</prop>')\n",
    "en_var_dom_re = re.compile('<prop type=\"english-variant-domain\">(.*?)</prop>')\n",
    "sl_source_re = re.compile('<tuv xml:lang=\"mk\">.*?<prop type=\"source-document\">(.*?)</prop>', re.DOTALL)\n",
    "sl_par_id_re = re.compile('<tuv xml:lang=\"mk\">.*?<prop type=\"paragraph-id\">(.*?)</prop', re.DOTALL)\n",
    "sl_par_re = re.compile('<tuv xml:lang=\"mk\">.*?<seg>(.*?)</seg>', re.DOTALL)\n"
   ]
  },
  {
   "cell_type": "code",
   "execution_count": 7,
   "metadata": {},
   "outputs": [
    {
     "data": {
      "text/plain": [
       "4"
      ]
     },
     "execution_count": 7,
     "metadata": {},
     "output_type": "execute_result"
    }
   ],
   "source": [
    "# Create a list of all tus from the sample corpus\n",
    "tus_list_sample = tu_re.findall(corpus_sample)\n",
    "len(tus_list_sample)"
   ]
  },
  {
   "cell_type": "code",
   "execution_count": 8,
   "metadata": {},
   "outputs": [
    {
     "data": {
      "text/plain": [
       "'    <prop type=\"score-bicleaner-ai\">0.947</prop>\\n    <prop type=\"biroamer-entities\">No</prop>\\n    <prop type=\"translation-direction\">mk-orig</prop>\\n    <prop type=\"type\">1:1</prop>\\n    <tuv xml:lang=\"en\">\\n     <prop type=\"source-document\">http://fbe.edu.mk/index.php?option=com_content&amp;view=article&amp;id=144&amp;Itemid=166&amp;lang=en</prop>\\n     <prop type=\"checksum-seg\">1ede8430c336b603</prop>\\n     <prop type=\"paragraph-id\">p66s3</prop>\\n    <prop type=\"english-variant-document\">UNK</prop>\\n    <prop type=\"english-variant-domain\">A</prop>\\n     <seg>Depending on the demonstrated quality (depth and scope of research and knowledge), the best students will receive the highest grade.</seg>\\n    </tuv>\\n    <tuv xml:lang=\"mk\">\\n     <prop type=\"source-document\">http://www.fbe.edu.mk/index.php?option=com_content&amp;view=article&amp;id=144&amp;Itemid=166&amp;lang=mk</prop>\\n     <prop type=\"checksum-seg\">8dbe7ef10015787a</prop>\\n     <prop type=\"paragraph-id\">p65s3</prop>\\n     <seg>Зависно од покажаниот квалитет (длабочина и опфат на истражувањата и сознанијата), најдобрите студенти ќе добијат и највисоки оценки.</seg>\\n    </tuv>\\n   '"
      ]
     },
     "execution_count": 8,
     "metadata": {},
     "output_type": "execute_result"
    }
   ],
   "source": [
    "# View the tus_list\n",
    "tus_list_sample[1]"
   ]
  },
  {
   "cell_type": "code",
   "execution_count": 9,
   "metadata": {},
   "outputs": [
    {
     "name": "stdout",
     "output_type": "stream",
     "text": [
      "['0.947']\n",
      "['No']\n",
      "['mk-orig']\n",
      "['http://fbe.edu.mk/index.php?option=com_content&amp;view=article&amp;id=144&amp;Itemid=166&amp;lang=en']\n",
      "['p66s3']\n",
      "['Depending on the demonstrated quality (depth and scope of research and knowledge), the best students will receive the highest grade.']\n",
      "['UNK']\n",
      "['A']\n",
      "['http://www.fbe.edu.mk/index.php?option=com_content&amp;view=article&amp;id=144&amp;Itemid=166&amp;lang=mk']\n",
      "['p65s3']\n",
      "['Зависно од покажаниот квалитет (длабочина и опфат на истражувањата и сознанијата), најдобрите студенти ќе добијат и највисоки оценки.']\n"
     ]
    }
   ],
   "source": [
    "# Check if regexes work\n",
    "regexes =  [bi_score_re, biroamer_re, translation_dir_re, en_source_re, en_par_id_re, en_par_re, en_var_doc_re, en_var_dom_re, sl_source_re, sl_par_id_re, sl_par_re]\n",
    "\n",
    "for rex in regexes:\n",
    "    test_list = rex.findall(tus_list_sample[1])\n",
    "    print(test_list)"
   ]
  },
  {
   "cell_type": "code",
   "execution_count": 10,
   "metadata": {},
   "outputs": [
    {
     "data": {
      "text/plain": [
       "478059"
      ]
     },
     "execution_count": 10,
     "metadata": {},
     "output_type": "execute_result"
    }
   ],
   "source": [
    "# Create a list of all tus from the corpus\n",
    "tus_list = tu_re.findall(corpus)\n",
    "len(tus_list)"
   ]
  },
  {
   "cell_type": "code",
   "execution_count": 11,
   "metadata": {},
   "outputs": [
    {
     "data": {
      "text/plain": [
       "['    <prop type=\"score-bicleaner-ai\">0.785</prop>\\n    <prop type=\"biroamer-entities\">No</prop>\\n    <prop type=\"translation-direction\">en-orig</prop>\\n    <prop type=\"type\">1:1</prop>\\n    <tuv xml:lang=\"en\">\\n     <prop type=\"source-document\">https://www.sobranie.mk/2020-2024-delegations-ns_article-delegation-to-the-parliamentary-assembly-of-the-organization-for-security-and-cooperation-in-europe.nspx</prop>\\n     <prop type=\"checksum-seg\">a24a091bca5c2c8e</prop>\\n     <prop type=\"paragraph-id\">p4s0</prop>\\n    <prop type=\"english-variant-document\">UNK</prop>\\n    <prop type=\"english-variant-domain\">B</prop>\\n     <seg>DELEGATION TO THE PARLIAMENTARY ASSEMBLY OF THE ORGANIZATION FOR SECURITY AND COOPERATION IN EUROPE (OSCE PA)</seg>\\n    </tuv>\\n    <tuv xml:lang=\"mk\">\\n     <prop type=\"source-document\">https://tvm.mk/vesti/makedonija?start=2235</prop>\\n     <prop type=\"checksum-seg\">19c0c13c2e8d42b5</prop>\\n     <prop type=\"paragraph-id\">p14s0</prop>\\n     <seg>\"Вредностите на политичкиот плурализам\" е тема на тркалезна маса на која денеска ќе дебатираат лидери и претставници на парламентарните партии во Македонија.</seg>\\n    </tuv>\\n   ']"
      ]
     },
     "execution_count": 11,
     "metadata": {},
     "output_type": "execute_result"
    }
   ],
   "source": [
    "# Inspect an instance\n",
    "tus_list[:1]"
   ]
  },
  {
   "cell_type": "code",
   "execution_count": 12,
   "metadata": {},
   "outputs": [
    {
     "name": "stdout",
     "output_type": "stream",
     "text": [
      "478059\n"
     ]
    },
    {
     "data": {
      "text/plain": [
       "[{'score_bicleaner_ai': 0.785,\n",
       "  'biroamer_entities': 'No',\n",
       "  'translation_direction': 'en-orig',\n",
       "  'en_source': 'https://www.sobranie.mk/2020-2024-delegations-ns_article-delegation-to-the-parliamentary-assembly-of-the-organization-for-security-and-cooperation-in-europe.nspx',\n",
       "  'en_par_id': 'p4s0',\n",
       "  'en_par': 'DELEGATION TO THE PARLIAMENTARY ASSEMBLY OF THE ORGANIZATION FOR SECURITY AND COOPERATION IN EUROPE (OSCE PA)',\n",
       "  'en_var_doc': 'UNK',\n",
       "  'en_var_dom': 'B',\n",
       "  'mk_source': 'https://tvm.mk/vesti/makedonija?start=2235',\n",
       "  'mk_par_id': 'p14s0',\n",
       "  'mk_par': '\"Вредностите на политичкиот плурализам\" е тема на тркалезна маса на која денеска ќе дебатираат лидери и претставници на парламентарните партии во Македонија.'},\n",
       " {'score_bicleaner_ai': 0.947,\n",
       "  'biroamer_entities': 'No',\n",
       "  'translation_direction': 'mk-orig',\n",
       "  'en_source': 'http://fbe.edu.mk/index.php?option=com_content&amp;view=article&amp;id=144&amp;Itemid=166&amp;lang=en',\n",
       "  'en_par_id': 'p66s3',\n",
       "  'en_par': 'Depending on the demonstrated quality (depth and scope of research and knowledge), the best students will receive the highest grade.',\n",
       "  'en_var_doc': 'UNK',\n",
       "  'en_var_dom': 'A',\n",
       "  'mk_source': 'http://www.fbe.edu.mk/index.php?option=com_content&amp;view=article&amp;id=144&amp;Itemid=166&amp;lang=mk',\n",
       "  'mk_par_id': 'p65s3',\n",
       "  'mk_par': 'Зависно од покажаниот квалитет (длабочина и опфат на истражувањата и сознанијата), најдобрите студенти ќе добијат и највисоки оценки.'}]"
      ]
     },
     "execution_count": 12,
     "metadata": {},
     "output_type": "execute_result"
    }
   ],
   "source": [
    "# Create a list of dictionaries from the tus_list based on regexes\n",
    "tus_content = []\n",
    "\n",
    "for i in tus_list:\n",
    "\t# Find all relevant information based on regexes\n",
    "\tbi_score = bi_score_re.search(i).group(1)\n",
    "\tbiroamer = biroamer_re.search(i).group(1)\n",
    "\ttranslation_dir = translation_dir_re.search(i).group(1)\n",
    "\ten_source = en_source_re.search(i).group(1)\n",
    "\ten_par_id = en_par_id_re.search(i).group(1)\n",
    "\ten_par = en_par_re.search(i).group(1)\n",
    "\ten_var_doc = en_var_doc_re.search(i).group(1)\n",
    "\ten_var_dom = en_var_dom_re.search(i).group(1)\n",
    "\tsl_source = sl_source_re.search(i).group(1)\n",
    "\tsl_par_id = sl_par_id_re.search(i).group(1)\n",
    "\tsl_par = sl_par_re.search(i).group(1)\n",
    "\t# Add information to the dictionary\n",
    "\tcurrent_tu = {\"score_bicleaner_ai\": float(bi_score), \"biroamer_entities\": biroamer, \"translation_direction\": translation_dir, \"en_source\": en_source, \"en_par_id\": en_par_id, \"en_par\": en_par, \"en_var_doc\": en_var_doc, \"en_var_dom\": en_var_dom, \"mk_source\": sl_source, \"mk_par_id\": sl_par_id, \"mk_par\": sl_par}\n",
    "\t# Append the dictionary to the list\n",
    "\ttus_content.append(current_tu)\n",
    "\n",
    "print(len(tus_content))\n",
    "\n",
    "# Print some instances of the tus_content\n",
    "tus_content[:2]"
   ]
  },
  {
   "cell_type": "code",
   "execution_count": 13,
   "metadata": {},
   "outputs": [],
   "source": [
    "# Save json\n",
    "\n",
    "with open(\"Macocu-mk-en.json\", \"w\") as file:\n",
    "\tjson.dump(tus_content,file, indent= \"\")"
   ]
  }
 ],
 "metadata": {
  "kernelspec": {
   "display_name": "Python 3.9.7 ('base': conda)",
   "language": "python",
   "name": "python3"
  },
  "language_info": {
   "codemirror_mode": {
    "name": "ipython",
    "version": 3
   },
   "file_extension": ".py",
   "mimetype": "text/x-python",
   "name": "python",
   "nbconvert_exporter": "python",
   "pygments_lexer": "ipython3",
   "version": "3.9.7"
  },
  "orig_nbformat": 4,
  "vscode": {
   "interpreter": {
    "hash": "7e373e41fe05b496006fe2fc132d7af19f1d513370c44925a0044a5f3ee41336"
   }
  }
 },
 "nbformat": 4,
 "nbformat_minor": 2
}
